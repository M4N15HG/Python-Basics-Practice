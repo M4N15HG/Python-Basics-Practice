{
 "cells": [
  {
   "cell_type": "code",
   "execution_count": 1,
   "id": "ad1f6f24",
   "metadata": {},
   "outputs": [
    {
     "data": {
      "text/plain": [
       "'hsinaM'"
      ]
     },
     "execution_count": 1,
     "metadata": {},
     "output_type": "execute_result"
    }
   ],
   "source": [
    "name = \"Manish\"\n",
    "name1 = name[-1::-1]\n",
    "name1"
   ]
  },
  {
   "cell_type": "markdown",
   "id": "8be1f55e",
   "metadata": {},
   "source": [
    "# While Loop"
   ]
  },
  {
   "cell_type": "markdown",
   "id": "056fc98b",
   "metadata": {},
   "source": [
    "#### For fixed numbers and conditions, while loop is to be followed, \n",
    "#### Also increment has to be made manually for loop"
   ]
  },
  {
   "cell_type": "code",
   "execution_count": 4,
   "id": "ab7a8c58",
   "metadata": {},
   "outputs": [
    {
     "name": "stdout",
     "output_type": "stream",
     "text": [
      "Enter the starting point : 49\n",
      "49\n",
      "50\n",
      "End\n"
     ]
    }
   ],
   "source": [
    "i = int(input(\"Enter the starting point : \")) \n",
    "while i<=50:\n",
    "    print(i)\n",
    "    i=i+1\n",
    "print(\"End\")    "
   ]
  },
  {
   "cell_type": "code",
   "execution_count": 11,
   "id": "b3113062",
   "metadata": {},
   "outputs": [
    {
     "name": "stdout",
     "output_type": "stream",
     "text": [
      "Enter the starting point : 49\n",
      "Even number :  50\n",
      "End of while loop\n"
     ]
    }
   ],
   "source": [
    "#Program to print even\n",
    "i = int(input(\"Enter the starting point : \"))\n",
    "while i<=50:\n",
    "    if i%2 == 0:\n",
    "        print(\"Even number : \",i)\n",
    "    i = i+1\n",
    "print(\"End of while loop\")  "
   ]
  },
  {
   "cell_type": "code",
   "execution_count": 14,
   "id": "f1af70d4",
   "metadata": {},
   "outputs": [
    {
     "name": "stdout",
     "output_type": "stream",
     "text": [
      "Print table of : 2\n",
      "2 X 1 = 2\n",
      "2 X 2 = 4\n",
      "2 X 3 = 6\n",
      "2 X 4 = 8\n",
      "2 X 5 = 10\n",
      "2 X 6 = 12\n",
      "2 X 7 = 14\n",
      "2 X 8 = 16\n",
      "2 X 9 = 18\n",
      "2 X 10 = 20\n",
      "End of while loop\n"
     ]
    }
   ],
   "source": [
    "#Program to print a Multiplication table upto X10\n",
    "i = int(input(\"Print table of : \"))\n",
    "n = 1\n",
    "while n<=10:\n",
    "    p = i*n\n",
    "    print(i,\"X\",n,\"=\",p)\n",
    "    n = n+1\n",
    "print(\"End of while loop\")"
   ]
  },
  {
   "cell_type": "code",
   "execution_count": 32,
   "id": "9ec2e9ce",
   "metadata": {},
   "outputs": [
    {
     "name": "stdout",
     "output_type": "stream",
     "text": [
      "Enter the number : 50\n",
      "Factorial of 50 is 30414093201713378043612608166064768844377641568960512000000000000\n"
     ]
    }
   ],
   "source": [
    "#Factorial of a number\n",
    "n = int(input(\"Enter the number : \"))\n",
    "f = 1\n",
    "i = 1\n",
    "while i<=n:\n",
    "    f = f + (i-1)*f\n",
    "    i = i+1\n",
    "print(\"Factorial of\",n,\"is\",f)"
   ]
  },
  {
   "cell_type": "code",
   "execution_count": 31,
   "id": "789045bc",
   "metadata": {},
   "outputs": [
    {
     "name": "stdout",
     "output_type": "stream",
     "text": [
      "Enter the number : 100\n",
      "Sum of numbers upto 100 is 5050\n"
     ]
    }
   ],
   "source": [
    "#Average of a number\n",
    "n = int(input(\"Enter the number : \"))\n",
    "i = 1\n",
    "s = 0\n",
    "while i <= n:\n",
    "    s = s+i\n",
    "    i = i+1\n",
    "print(\"Sum of numbers upto\",n,\"is\",s)"
   ]
  },
  {
   "cell_type": "markdown",
   "id": "2d4e9ee8",
   "metadata": {},
   "source": [
    "# For Loop"
   ]
  },
  {
   "cell_type": "markdown",
   "id": "c9cc3eac",
   "metadata": {},
   "source": [
    "### For loop runs on range and data types, not on conditions. Range goes from (0 to n-1)"
   ]
  },
  {
   "cell_type": "code",
   "execution_count": 42,
   "id": "1827c16a",
   "metadata": {},
   "outputs": [
    {
     "name": "stdout",
     "output_type": "stream",
     "text": [
      "0\n",
      "1\n",
      "2\n",
      "3\n",
      "4\n"
     ]
    }
   ],
   "source": [
    "for i in range(5): # For loop runs on range and data types, not on conditions. Range goes from (0 to n-1)\n",
    "    print(i)"
   ]
  },
  {
   "cell_type": "code",
   "execution_count": 36,
   "id": "4a83e818",
   "metadata": {},
   "outputs": [
    {
     "name": "stdout",
     "output_type": "stream",
     "text": [
      "1\n",
      "2\n",
      "3\n",
      "4\n"
     ]
    }
   ],
   "source": [
    "for i in range(1,5): # range from 1 to 4\n",
    "    print(i)\n"
   ]
  },
  {
   "cell_type": "code",
   "execution_count": 46,
   "id": "dfd0e8f5",
   "metadata": {},
   "outputs": [
    {
     "name": "stdout",
     "output_type": "stream",
     "text": [
      "5\n",
      "4\n",
      "3\n",
      "2\n",
      "1\n"
     ]
    }
   ],
   "source": [
    "for i in range(5,0,-1): r#range from 5 to 1 decreasing\n",
    "    print(i)"
   ]
  },
  {
   "cell_type": "code",
   "execution_count": 53,
   "id": "2b90ec05",
   "metadata": {
    "scrolled": true
   },
   "outputs": [
    {
     "name": "stdout",
     "output_type": "stream",
     "text": [
      "M\n",
      "<class 'str'>\n",
      "a\n",
      "<class 'str'>\n",
      "n\n",
      "<class 'str'>\n",
      "i\n",
      "<class 'str'>\n",
      "s\n",
      "<class 'str'>\n",
      "h\n",
      "<class 'str'>\n"
     ]
    }
   ],
   "source": [
    "name = \"Manish\"\n",
    "for i in name:# Here i iterate on value of string not on it's index\n",
    "    print(i)\n",
    "    print(type(i))\n"
   ]
  },
  {
   "cell_type": "code",
   "execution_count": 57,
   "id": "88c7ff59",
   "metadata": {},
   "outputs": [
    {
     "name": "stdout",
     "output_type": "stream",
     "text": [
      "Mango\n",
      "Banana\n",
      "Apple\n",
      "Kiwi\n",
      "Orange\n"
     ]
    }
   ],
   "source": [
    "list1 = [\"Mango\",\"Banana\",\"Apple\",\"Kiwi\",\"Orange\"]\n",
    "for i in list1:\n",
    "    print(i)"
   ]
  },
  {
   "cell_type": "code",
   "execution_count": 40,
   "id": "ec2cd0b2",
   "metadata": {},
   "outputs": [
    {
     "name": "stdout",
     "output_type": "stream",
     "text": [
      "Enter the no of lines : 8\n",
      "*\n",
      "**\n",
      "***\n",
      "****\n",
      "*****\n",
      "******\n",
      "*******\n",
      "********\n",
      "Out of for\n"
     ]
    }
   ],
   "source": [
    "#Right angle triangle using *\n",
    "n = int(input(\"Enter the no of lines : \"))\n",
    "for i in range(1,n+1):\n",
    "    for j in range(1,i+1):\n",
    "        print(\"*\",end=\"\") # here end parameter is used so that python will not change its line with every *\n",
    "    print(\"\") # here it changes line\n",
    "print(\"Out of for\")\n",
    "        "
   ]
  },
  {
   "cell_type": "code",
   "execution_count": 45,
   "id": "8e0f6add",
   "metadata": {},
   "outputs": [
    {
     "name": "stdout",
     "output_type": "stream",
     "text": [
      "Enter the no of lines : 5\n",
      "     *\n",
      "    **\n",
      "   ***\n",
      "  ****\n",
      " *****\n",
      "Out of for\n"
     ]
    }
   ],
   "source": [
    "#Right triangle using *\n",
    "n = int(input(\"Enter the no of lines : \"))\n",
    "for i in range(1,n+1):\n",
    "    for k in range(i,n+1):\n",
    "        print(\" \",end=\"\")\n",
    "    for j in range(1,i+1):\n",
    "        print(\"*\",end=\"\") # here end parameter is used so that python will not change its line with every *\n",
    "    print(\"\") # here it changes line\n",
    "print(\"Out of for\")\n",
    "  "
   ]
  },
  {
   "cell_type": "code",
   "execution_count": 49,
   "id": "8f893dcd",
   "metadata": {},
   "outputs": [
    {
     "name": "stdout",
     "output_type": "stream",
     "text": [
      "Enter the no of lines : 4\n",
      "    *\n",
      "   ***\n",
      "  *****\n",
      " *******\n",
      "Out of for\n"
     ]
    }
   ],
   "source": [
    "#Right full triangle using *\n",
    "n = int(input(\"Enter the no of lines : \"))\n",
    "for i in range(1,n+1):\n",
    "    for k in range(i,n+1):\n",
    "        print(\" \",end=\"\")\n",
    "    for j in range(1,i+1):\n",
    "        print(\"*\",end=\"\")\n",
    "    for j in range(1,i):\n",
    "        print(\"*\",end=\"\") # here end parameter is used so that python will not change its line with every *\n",
    "    print(\"\") # here it changes line\n",
    "print(\"Out of for\")\n",
    "  "
   ]
  },
  {
   "cell_type": "code",
   "execution_count": 60,
   "id": "1bcf4cfd",
   "metadata": {},
   "outputs": [
    {
     "name": "stdout",
     "output_type": "stream",
     "text": [
      "Enter the no of lines : 5\n",
      "*****\n",
      "****\n",
      "***\n",
      "**\n",
      "*\n",
      "Out of for\n"
     ]
    }
   ],
   "source": [
    "\"\"\"\n",
    "54321\n",
    "4321\n",
    "321\n",
    "21\n",
    "1\n",
    "\"\"\"\n",
    "\n",
    "n = int(input(\"Enter the no of lines : \"))\n",
    "for i in range(1,n+1):\n",
    "    for j in range(i,n+1): #increment to max\n",
    "        print(\"*\",end=\"\") # here end parameter is used so that python will not change its line with every *\n",
    "    print(\"\") # here it changes line\n",
    "print(\"Out of for\")"
   ]
  },
  {
   "cell_type": "code",
   "execution_count": 66,
   "id": "e7d69b75",
   "metadata": {},
   "outputs": [
    {
     "name": "stdout",
     "output_type": "stream",
     "text": [
      "Enter the no of lines : 5\n",
      "5 4 3 2 1 \n",
      "4 3 2 1 \n",
      "3 2 1 \n",
      "2 1 \n",
      "1 \n",
      "\n",
      "Out of for\n"
     ]
    }
   ],
   "source": [
    "n = int(input(\"Enter the no of lines : \"))\n",
    "for i in range(0,n+1):\n",
    "    for j in range(n-i,0,-1):# max - increment to minimum\n",
    "        print(j,end=\" \") # here end parameter is used so that python will not change its line with every *\n",
    "    print(\"\") # here it changes line\n",
    "print(\"Out of for\")"
   ]
  },
  {
   "cell_type": "code",
   "execution_count": 72,
   "id": "c18851ad",
   "metadata": {},
   "outputs": [
    {
     "name": "stdout",
     "output_type": "stream",
     "text": [
      "Enter the number : 5\n",
      "Sum of first 5  numbers :  15\n",
      "Average is :  3.0\n"
     ]
    }
   ],
   "source": [
    "#Average using FOR\n",
    "n = int(input(\"Enter the number : \"))\n",
    "s = 0\n",
    "for i in range(1,n+1):\n",
    "    s = s+i\n",
    "avg = s/n\n",
    "print(\"Sum of first\",n,\" numbers : \",s)\n",
    "print(\"Average is : \",avg)"
   ]
  },
  {
   "cell_type": "code",
   "execution_count": 85,
   "id": "a3b28549",
   "metadata": {},
   "outputs": [
    {
     "name": "stdout",
     "output_type": "stream",
     "text": [
      "Enter the number : 16\n",
      "Composite number with divisors :  [1, 2, 4, 8, 16]\n"
     ]
    }
   ],
   "source": [
    "#Check for prime number or composite\n",
    "n = int(input(\"Enter the number : \"))\n",
    "flag = 0\n",
    "div = []\n",
    "for i in range(1,n+1):\n",
    "    if n%i == 0:\n",
    "        flag = flag+1\n",
    "        div.append(i)\n",
    "if flag == 2:\n",
    "    print(\"Number is Prime\")\n",
    "else:\n",
    "    print(\"Composite number with divisors : \",div)\n",
    "    "
   ]
  },
  {
   "cell_type": "code",
   "execution_count": 4,
   "id": "3a26d768",
   "metadata": {},
   "outputs": [
    {
     "name": "stdout",
     "output_type": "stream",
     "text": [
      "Enter the length of the list : 5\n",
      "Please Enter the numbers: \n",
      "54\n",
      "45\n",
      "25\n",
      "15\n",
      "85\n",
      "You entered :  [54, 45, 25, 15, 85]\n",
      "The sorted numbers are :  [15, 25, 45, 54, 85]\n"
     ]
    }
   ],
   "source": [
    "# Sorting a list of numbers\n",
    "    #Taking the input\n",
    "n = int(input(\"Enter the length of the list : \"))\n",
    "list1 = []\n",
    "print(\"Please Enter the numbers: \")\n",
    "for i in range(n):\n",
    "    list1.append(int(input()))\n",
    "print(\"You entered : \",list1)\n",
    "\n",
    "temp = 0    \n",
    "    #Sorting\n",
    "for i in range(n):\n",
    "    for j in range(i+1,n):\n",
    "        if list1[i]>=list1[j]:\n",
    "            temp = list1[i]\n",
    "            list1[i] = list1[j]\n",
    "            list1[j] = temp\n",
    "\n",
    "print(\"The sorted numbers are : \",list1)"
   ]
  },
  {
   "cell_type": "code",
   "execution_count": null,
   "id": "55cd4a55",
   "metadata": {},
   "outputs": [],
   "source": []
  }
 ],
 "metadata": {
  "kernelspec": {
   "display_name": "Python 3",
   "language": "python",
   "name": "python3"
  },
  "language_info": {
   "codemirror_mode": {
    "name": "ipython",
    "version": 3
   },
   "file_extension": ".py",
   "mimetype": "text/x-python",
   "name": "python",
   "nbconvert_exporter": "python",
   "pygments_lexer": "ipython3",
   "version": "3.8.8"
  }
 },
 "nbformat": 4,
 "nbformat_minor": 5
}
