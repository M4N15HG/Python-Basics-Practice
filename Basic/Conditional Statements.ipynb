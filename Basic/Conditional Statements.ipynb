{
 "cells": [
  {
   "cell_type": "markdown",
   "id": "b880058f",
   "metadata": {},
   "source": [
    "# Condition Statements"
   ]
  },
  {
   "cell_type": "code",
   "execution_count": 2,
   "id": "b755451b",
   "metadata": {},
   "outputs": [
    {
     "name": "stdout",
     "output_type": "stream",
     "text": [
      "Enter your age : 25\n",
      "Enter your sibling's age : 28\n",
      "You are younger\n",
      "Nice\n"
     ]
    }
   ],
   "source": [
    "#Elder or Younger\n",
    "you = int(input(\"Enter your age : \"))\n",
    "sib = int(input(\"Enter your sibling's age : \"))\n",
    "\n",
    "if you < sib:\n",
    "    print(\"You are younger\")\n",
    "    print(\"Nice\")\n",
    "else:\n",
    "    print(\"You are elder\")\n",
    "    print(\"Good\")"
   ]
  },
  {
   "cell_type": "code",
   "execution_count": 25,
   "id": "9ad864c3",
   "metadata": {},
   "outputs": [
    {
     "name": "stdout",
     "output_type": "stream",
     "text": [
      "Are you Indian (Y/N) :y\n",
      "Enter your age : 25\n",
      "Congrats, You are Eligible to Vote\n"
     ]
    }
   ],
   "source": [
    "#You can vote or not\n",
    "citz = input(\"Are you Indian (Y/N) :\")\n",
    "if (citz == \"y\" or citz == \"Y\"):\n",
    "    age = int(input(\"Enter your age : \"))\n",
    "    if age >= 18:\n",
    "        print(\"Congrats, You are Eligible to Vote\")\n",
    "    else:\n",
    "        print(\"You are not of age yet.\")\n",
    "            \n",
    "elif (citz == \"n\" or citz == \"N\"):\n",
    "        print(\"You are not citzen of country. No Vote!\")\n",
    "        \n",
    "else:\n",
    "        print(\"Please enter y or n only\")\n",
    "\n",
    "    "
   ]
  },
  {
   "cell_type": "code",
   "execution_count": 47,
   "id": "43da58f9",
   "metadata": {},
   "outputs": [
    {
     "name": "stdout",
     "output_type": "stream",
     "text": [
      "Please enter a Number : -.002\n",
      "Number is Negative\n"
     ]
    }
   ],
   "source": [
    "#Positive or Negative Number\n",
    "num = float(input(\"Please enter a Number : \"))\n",
    "\n",
    "if(num > 0):\n",
    "    print(\"Number is positive\")\n",
    "elif(num == 0):\n",
    "    print(\"Number is Zero\")\n",
    "else:\n",
    "    print(\"Number is Negative\")\n",
    "    "
   ]
  },
  {
   "cell_type": "code",
   "execution_count": 61,
   "id": "c25c9935",
   "metadata": {},
   "outputs": [
    {
     "name": "stdout",
     "output_type": "stream",
     "text": [
      "Please enter first number : 6\n",
      "Please enter second number : 7\n",
      "7.0 is greater than 6.0\n"
     ]
    }
   ],
   "source": [
    "# Greater or small Number\n",
    "num1 = float(input(\"Please enter first number : \"))\n",
    "num2 = float(input(\"Please enter second number : \"))\n",
    "\n",
    "if num1 >= num2:\n",
    "    if num1==num2:\n",
    "        print(\"Both numbers are equal\")\n",
    "    else:\n",
    "        print(num1,\"is greater than\",num2)\n",
    "else:\n",
    "    print(num2,\"is greater than\",num1)"
   ]
  },
  {
   "cell_type": "code",
   "execution_count": 1,
   "id": "ac3b312f",
   "metadata": {},
   "outputs": [
    {
     "name": "stdout",
     "output_type": "stream",
     "text": [
      "Enter first number : 54\n",
      "Enter second number : 84\n",
      "Enter third number : 82\n",
      "Answer is :  82\n"
     ]
    }
   ],
   "source": [
    "# Finding second largest of 3 numbers\n",
    "\n",
    "#Method1 (Using only if else)\n",
    "\n",
    "def sec_larg1(a,b,c):\n",
    "    if(a>b and a>c):\n",
    "        if(b>c):\n",
    "            print(\"Answer is : \",b)\n",
    "        else:\n",
    "            print(\"Answer is : \",c)\n",
    "    elif(b>a and b>c):\n",
    "        if(a>c):\n",
    "            print(\"Answer is : \",a)\n",
    "        else:\n",
    "            print(\"Answer is : \",c)\n",
    "    elif(c>a and c>b):\n",
    "        if(a>b):\n",
    "            print(\"Answer is : \",a)\n",
    "        else:\n",
    "            print(\"Answer is : \",b)\n",
    "            \n",
    "    else:\n",
    "        print(\"Error : Inside outer else\")\n",
    "\n",
    "#calling function\n",
    "a = int(input(\"Enter first number : \"))\n",
    "b = int(input(\"Enter second number : \"))\n",
    "c = int(input(\"Enter third number : \"))\n",
    "sec_larg1(a,b,c)"
   ]
  },
  {
   "cell_type": "code",
   "execution_count": 1,
   "id": "eb7f155b",
   "metadata": {},
   "outputs": [
    {
     "name": "stdout",
     "output_type": "stream",
     "text": [
      "Enter first number : 45\n",
      "Enter second number : 74\n",
      "Enter third number : 12\n",
      "Answer is  45\n"
     ]
    }
   ],
   "source": [
    "# Finding second largest of 3 numbers\n",
    "\n",
    "#Method 2 (Using if else)\n",
    "\n",
    "a = int(input(\"Enter first number : \"))\n",
    "b = int(input(\"Enter second number : \"))\n",
    "c = int(input(\"Enter third number : \"))\n",
    "\n",
    "if a>b>c:\n",
    "    print(\"Answer is \",b)\n",
    "elif b>a>c:\n",
    "    print(\"Answer is \",a)\n",
    "else:\n",
    "    print(\"Answer is \",c)"
   ]
  },
  {
   "cell_type": "code",
   "execution_count": 17,
   "id": "3f29fdac",
   "metadata": {},
   "outputs": [
    {
     "name": "stdout",
     "output_type": "stream",
     "text": [
      "Enter the number of the numbers :-; : 12\n",
      "Enter the numbers : 14\n",
      "Enter the numbers : 21\n",
      "Enter the numbers : 19\n",
      "Enter the numbers : 32\n",
      "Enter the numbers : 11\n",
      "Enter the numbers : 12\n",
      "Enter the numbers : 45\n",
      "Enter the numbers : 78\n",
      "Enter the numbers : 54\n",
      "Enter the numbers : 21\n",
      "Enter the numbers : 51\n",
      "Enter the numbers : 42\n",
      "You entered :  [14.0, 21.0, 19.0, 32.0, 11.0, 12.0, 45.0, 78.0, 54.0, 21.0, 51.0, 42.0]\n",
      "78.0\n",
      "54.0\n",
      "The second largest number is :  54.0\n"
     ]
    }
   ],
   "source": [
    "# Finding second largest of 3 numbers\n",
    "\n",
    "#Method 3 (Using for and if else on a list)\n",
    "\n",
    "def sec_larg2():\n",
    "    list1 = []\n",
    "    n = int(input(\"Enter the number of the numbers :-; : \")) # Length of list\n",
    "    for i in range(n):\n",
    "        list1.append(float(input(\"Enter the numbers : \"))) # Getting values from the user\n",
    "    print(\"You entered : \",list1)\n",
    "    \n",
    "    larg = max(list1[0], list1[1]) # Initializing the largest and second largest number, can be done with if else alsp\n",
    "    sec_larg = min(list1[0],list1[1])\n",
    "\n",
    "    for i in range(2,n): # Iterating through list and compareing numbers \n",
    "        if(larg < list1[i]):\n",
    "            sec_larg = larg\n",
    "            larg = list1[i]\n",
    "        elif(sec_larg < list1[i] and larg>list1[i]):\n",
    "            sec_larg = list1[i]\n",
    "    \n",
    "    print(larg)\n",
    "    print(sec_larg)\n",
    "    \n",
    "    return(sec_larg)\n",
    "\n",
    "\n",
    "# Calling Function\n",
    "\n",
    "ans = sec_larg2()\n",
    "print(\"The second largest number is : \",ans)"
   ]
  },
  {
   "cell_type": "code",
   "execution_count": null,
   "id": "377e79df",
   "metadata": {},
   "outputs": [],
   "source": []
  },
  {
   "cell_type": "code",
   "execution_count": null,
   "id": "f84500cf",
   "metadata": {},
   "outputs": [],
   "source": []
  }
 ],
 "metadata": {
  "kernelspec": {
   "display_name": "Python 3",
   "language": "python",
   "name": "python3"
  },
  "language_info": {
   "codemirror_mode": {
    "name": "ipython",
    "version": 3
   },
   "file_extension": ".py",
   "mimetype": "text/x-python",
   "name": "python",
   "nbconvert_exporter": "python",
   "pygments_lexer": "ipython3",
   "version": "3.8.8"
  }
 },
 "nbformat": 4,
 "nbformat_minor": 5
}
