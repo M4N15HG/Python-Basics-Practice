{
 "cells": [
  {
   "cell_type": "markdown",
   "id": "081725d2",
   "metadata": {},
   "source": [
    "# Data Types "
   ]
  },
  {
   "cell_type": "markdown",
   "id": "3323c0c0",
   "metadata": {},
   "source": [
    "## String"
   ]
  },
  {
   "cell_type": "code",
   "execution_count": 5,
   "id": "325c7760",
   "metadata": {},
   "outputs": [
    {
     "name": "stdout",
     "output_type": "stream",
     "text": [
      "Hello World\n"
     ]
    }
   ],
   "source": [
    "string = \"Hello World\"\n",
    "print(string)"
   ]
  },
  {
   "cell_type": "code",
   "execution_count": 2,
   "id": "63fb2f80",
   "metadata": {},
   "outputs": [
    {
     "data": {
      "text/plain": [
       "'Hello World'"
      ]
     },
     "execution_count": 2,
     "metadata": {},
     "output_type": "execute_result"
    }
   ],
   "source": [
    "string"
   ]
  },
  {
   "cell_type": "code",
   "execution_count": 15,
   "id": "dd1108c9",
   "metadata": {},
   "outputs": [
    {
     "data": {
      "text/plain": [
       "str"
      ]
     },
     "execution_count": 15,
     "metadata": {},
     "output_type": "execute_result"
    }
   ],
   "source": [
    "type(string)  # Gives type of data stored in variable"
   ]
  },
  {
   "cell_type": "code",
   "execution_count": 14,
   "id": "879d5fc1",
   "metadata": {},
   "outputs": [
    {
     "name": "stdout",
     "output_type": "stream",
     "text": [
      "<class 'str'>\n"
     ]
    }
   ],
   "source": [
    "print(type(string))"
   ]
  },
  {
   "cell_type": "code",
   "execution_count": 19,
   "id": "8003c952",
   "metadata": {},
   "outputs": [
    {
     "name": "stdout",
     "output_type": "stream",
     "text": [
      "This is a good time\n",
      "for all men to\n",
      "get up and work\n"
     ]
    }
   ],
   "source": [
    "string = \"\"\"This is a good time\n",
    "for all men to\n",
    "get up and work\"\"\"\n",
    "print(string) # Multiple line String"
   ]
  },
  {
   "cell_type": "code",
   "execution_count": 17,
   "id": "90979fa8",
   "metadata": {},
   "outputs": [
    {
     "data": {
      "text/plain": [
       "'This is a good time\\nfor all men to\\nget up and work'"
      ]
     },
     "execution_count": 17,
     "metadata": {},
     "output_type": "execute_result"
    }
   ],
   "source": [
    "string # This prints string as it is . \\n"
   ]
  },
  {
   "cell_type": "code",
   "execution_count": 18,
   "id": "236188ea",
   "metadata": {},
   "outputs": [
    {
     "name": "stdout",
     "output_type": "stream",
     "text": [
      "This is a good time\n",
      "for all men to\n",
      "get up and work\n"
     ]
    }
   ],
   "source": [
    "print(string) # This prints string after processing it. \\n"
   ]
  },
  {
   "cell_type": "code",
   "execution_count": 23,
   "id": "50dc5036",
   "metadata": {},
   "outputs": [
    {
     "data": {
      "text/plain": [
       "'HelloWorld'"
      ]
     },
     "execution_count": 23,
     "metadata": {},
     "output_type": "execute_result"
    }
   ],
   "source": [
    "a = \"Hello\" # Concatanation of two strings\n",
    "b = \"World\"\n",
    "a+b"
   ]
  },
  {
   "cell_type": "code",
   "execution_count": 22,
   "id": "5de4adca",
   "metadata": {},
   "outputs": [
    {
     "name": "stdout",
     "output_type": "stream",
     "text": [
      "HelloWorld\n"
     ]
    }
   ],
   "source": [
    "print(a+b)"
   ]
  },
  {
   "cell_type": "code",
   "execution_count": 39,
   "id": "9ce73932",
   "metadata": {},
   "outputs": [
    {
     "ename": "TypeError",
     "evalue": "unsupported operand type(s) for +: 'int' and 'str'",
     "output_type": "error",
     "traceback": [
      "\u001b[0;31m---------------------------------------------------------------------------\u001b[0m",
      "\u001b[0;31mTypeError\u001b[0m                                 Traceback (most recent call last)",
      "\u001b[0;32m<ipython-input-39-cee3ec3c0ebe>\u001b[0m in \u001b[0;36m<module>\u001b[0;34m\u001b[0m\n\u001b[1;32m      1\u001b[0m \u001b[0ma\u001b[0m \u001b[0;34m=\u001b[0m \u001b[0;36m15\u001b[0m\u001b[0;34m\u001b[0m\u001b[0;34m\u001b[0m\u001b[0m\n\u001b[1;32m      2\u001b[0m \u001b[0mb\u001b[0m \u001b[0;34m=\u001b[0m \u001b[0;34m\"Hello\"\u001b[0m\u001b[0;34m\u001b[0m\u001b[0;34m\u001b[0m\u001b[0m\n\u001b[0;32m----> 3\u001b[0;31m \u001b[0mprint\u001b[0m\u001b[0;34m(\u001b[0m\u001b[0ma\u001b[0m\u001b[0;34m+\u001b[0m\u001b[0mb\u001b[0m\u001b[0;34m)\u001b[0m\u001b[0;34m\u001b[0m\u001b[0;34m\u001b[0m\u001b[0m\n\u001b[0m",
      "\u001b[0;31mTypeError\u001b[0m: unsupported operand type(s) for +: 'int' and 'str'"
     ]
    }
   ],
   "source": [
    "a = 15\n",
    "b = \"Hello\"\n",
    "print(a+b)"
   ]
  },
  {
   "cell_type": "code",
   "execution_count": 41,
   "id": "692db8d2",
   "metadata": {},
   "outputs": [
    {
     "name": "stdout",
     "output_type": "stream",
     "text": [
      "15 Hello\n"
     ]
    }
   ],
   "source": [
    "a = \"15\"\n",
    "b = \" Hello\"\n",
    "print(a+b)"
   ]
  },
  {
   "cell_type": "code",
   "execution_count": 25,
   "id": "201ab513",
   "metadata": {},
   "outputs": [
    {
     "name": "stdout",
     "output_type": "stream",
     "text": [
      "w\n",
      "o\n",
      "r\n",
      "l\n",
      "d\n"
     ]
    }
   ],
   "source": [
    "a = \"world\" # For loop in string, runs loop number of times as characters in string\n",
    "for i in a:\n",
    "    print(i)"
   ]
  },
  {
   "cell_type": "code",
   "execution_count": 30,
   "id": "a21af4ef",
   "metadata": {},
   "outputs": [
    {
     "data": {
      "text/plain": [
       "'Goood Morning, Nice weather today!'"
      ]
     },
     "execution_count": 30,
     "metadata": {},
     "output_type": "execute_result"
    }
   ],
   "source": [
    "string = \"Goood Morning, Nice weather today!\" # Gives length of a string\n",
    "string"
   ]
  },
  {
   "cell_type": "code",
   "execution_count": 28,
   "id": "345a7a7f",
   "metadata": {},
   "outputs": [
    {
     "data": {
      "text/plain": [
       "34"
      ]
     },
     "execution_count": 28,
     "metadata": {},
     "output_type": "execute_result"
    }
   ],
   "source": [
    "len(string)"
   ]
  },
  {
   "cell_type": "code",
   "execution_count": 29,
   "id": "b66ab92e",
   "metadata": {},
   "outputs": [
    {
     "name": "stdout",
     "output_type": "stream",
     "text": [
      "34\n"
     ]
    }
   ],
   "source": [
    "print(len(string))"
   ]
  },
  {
   "cell_type": "code",
   "execution_count": 31,
   "id": "8b018b1d",
   "metadata": {},
   "outputs": [
    {
     "data": {
      "text/plain": [
       "'Goood Morning, Nice weather today!'"
      ]
     },
     "execution_count": 31,
     "metadata": {},
     "output_type": "execute_result"
    }
   ],
   "source": [
    "string"
   ]
  },
  {
   "cell_type": "code",
   "execution_count": 32,
   "id": "046f617e",
   "metadata": {},
   "outputs": [
    {
     "data": {
      "text/plain": [
       "True"
      ]
     },
     "execution_count": 32,
     "metadata": {},
     "output_type": "execute_result"
    }
   ],
   "source": [
    "\"ice\" in string # in is used to check for particular substring in a big string"
   ]
  },
  {
   "cell_type": "code",
   "execution_count": 33,
   "id": "f4c47ead",
   "metadata": {},
   "outputs": [
    {
     "data": {
      "text/plain": [
       "True"
      ]
     },
     "execution_count": 33,
     "metadata": {},
     "output_type": "execute_result"
    }
   ],
   "source": [
    "\"ice we\" in string"
   ]
  },
  {
   "cell_type": "code",
   "execution_count": 35,
   "id": "3db01732",
   "metadata": {},
   "outputs": [
    {
     "data": {
      "text/plain": [
       "False"
      ]
     },
     "execution_count": 35,
     "metadata": {},
     "output_type": "execute_result"
    }
   ],
   "source": [
    "\"icewe\" in string"
   ]
  },
  {
   "cell_type": "code",
   "execution_count": 36,
   "id": "96c3759e",
   "metadata": {},
   "outputs": [
    {
     "name": "stdout",
     "output_type": "stream",
     "text": [
      "Double Quotes\n",
      "Single Quotes\n"
     ]
    }
   ],
   "source": [
    "a = \"Double Quotes\" # Works same ways for both '' or \"\"\n",
    "b = 'Single Quotes'\n",
    "print(a)\n",
    "print(b)"
   ]
  },
  {
   "cell_type": "code",
   "execution_count": 37,
   "id": "1c547dfd",
   "metadata": {},
   "outputs": [
    {
     "data": {
      "text/plain": [
       "'Double Quotes'"
      ]
     },
     "execution_count": 37,
     "metadata": {},
     "output_type": "execute_result"
    }
   ],
   "source": [
    "a"
   ]
  },
  {
   "cell_type": "code",
   "execution_count": 38,
   "id": "66db47bc",
   "metadata": {},
   "outputs": [
    {
     "data": {
      "text/plain": [
       "'Single Quotes'"
      ]
     },
     "execution_count": 38,
     "metadata": {},
     "output_type": "execute_result"
    }
   ],
   "source": [
    "b"
   ]
  },
  {
   "cell_type": "markdown",
   "id": "531a3631",
   "metadata": {},
   "source": [
    "# LIST"
   ]
  },
  {
   "cell_type": "markdown",
   "id": "d2c81888",
   "metadata": {},
   "source": [
    "Most used, mutable, ordered, duplicates, square brackets, multiple data possible."
   ]
  },
  {
   "cell_type": "markdown",
   "id": "b980e503",
   "metadata": {},
   "source": [
    "[] used to access an index. () used to access functions"
   ]
  },
  {
   "cell_type": "code",
   "execution_count": 58,
   "id": "11532e02",
   "metadata": {},
   "outputs": [
    {
     "name": "stdout",
     "output_type": "stream",
     "text": [
      "First List is  ['Hello', 'World', 4.0, 2, 3.6, 'Banana', True, False, 4, 2, 'World']\n",
      "['Hello', 'World', 4.0, 2, 3.6, 'Banana', True, False, 4, 2, 'World']\n",
      "[1, 2, 3, 4, 5, 6]\n",
      "['hello', 'world', 32, 4, True]\n"
     ]
    }
   ],
   "source": [
    "lst1 = [\"Hello\", \"World\", 4.0, 2, 3.6, \"Banana\", True, False, 4, 2, \"World\"] # multiple and duplicate data type\n",
    "lst2 = [1, 2, 3, 4, 5, 6]\n",
    "lst3 = list((\"hello\", \"world\", 32, 4, True)) # Defining using LIST function/method\n",
    "print(\"First List is \", lst1) # Printing along with string\n",
    "print(lst1)\n",
    "print(lst2)\n",
    "print(lst3)"
   ]
  },
  {
   "cell_type": "code",
   "execution_count": 54,
   "id": "53d3ae8b",
   "metadata": {},
   "outputs": [
    {
     "name": "stdout",
     "output_type": "stream",
     "text": [
      "<class 'list'>\n",
      "<class 'list'>\n"
     ]
    }
   ],
   "source": [
    "print(type(lst1)) \n",
    "print(type(lst3))# Type of list variable"
   ]
  },
  {
   "cell_type": "code",
   "execution_count": 55,
   "id": "15115787",
   "metadata": {},
   "outputs": [],
   "source": [
    "a = [\"Python\", \"Language\", 1, 2.0, 3, True]\n",
    "b = [\"python\", \"Language\", 1, 2.0, 3, True]\n",
    "c = [\"Python\", \"Language\", 1, 2, 3, True]"
   ]
  },
  {
   "cell_type": "code",
   "execution_count": 56,
   "id": "23ee9fb4",
   "metadata": {},
   "outputs": [
    {
     "data": {
      "text/plain": [
       "False"
      ]
     },
     "execution_count": 56,
     "metadata": {},
     "output_type": "execute_result"
    }
   ],
   "source": [
    "a == b # Comaprision operator, case sensitive"
   ]
  },
  {
   "cell_type": "code",
   "execution_count": 57,
   "id": "f0b5a80d",
   "metadata": {},
   "outputs": [
    {
     "data": {
      "text/plain": [
       "True"
      ]
     },
     "execution_count": 57,
     "metadata": {},
     "output_type": "execute_result"
    }
   ],
   "source": [
    "a == c # 2.0 and 2 are taken as same"
   ]
  },
  {
   "cell_type": "code",
   "execution_count": 59,
   "id": "37f8ac6f",
   "metadata": {},
   "outputs": [
    {
     "data": {
      "text/plain": [
       "True"
      ]
     },
     "execution_count": 59,
     "metadata": {},
     "output_type": "execute_result"
    }
   ],
   "source": [
    "4.0 == 4"
   ]
  },
  {
   "cell_type": "markdown",
   "id": "f6e3b210",
   "metadata": {},
   "source": [
    "### Slicing and Indexing"
   ]
  },
  {
   "cell_type": "code",
   "execution_count": 106,
   "id": "02fed18f",
   "metadata": {},
   "outputs": [],
   "source": [
    "lst1 = [\"P\",\"Y\",\"T\",\"H\",\"O\",\"N\",1, 2, True, 3.2]"
   ]
  },
  {
   "cell_type": "markdown",
   "id": "408c09e0",
   "metadata": {},
   "source": [
    "Positive Index"
   ]
  },
  {
   "cell_type": "code",
   "execution_count": 85,
   "id": "166950e3",
   "metadata": {},
   "outputs": [
    {
     "name": "stdout",
     "output_type": "stream",
     "text": [
      "P\n",
      "['P', 'Y', 'T', 'H', 'O', 'N', 1, 2, True, 3.2]\n",
      "['P', 'Y', 'T']\n"
     ]
    }
   ],
   "source": [
    "print(lst1[0]) # prints first index\n",
    "print(lst1[0:]) # prints whole list\n",
    "print(lst1[0:3]) # prints from index 0 to 2. Note: index 3 is not included"
   ]
  },
  {
   "cell_type": "markdown",
   "id": "df763f08",
   "metadata": {},
   "source": [
    "Negative Index"
   ]
  },
  {
   "cell_type": "code",
   "execution_count": 94,
   "id": "76d71050",
   "metadata": {},
   "outputs": [
    {
     "name": "stdout",
     "output_type": "stream",
     "text": [
      "3.2\n",
      "['O', 'N', 1, 2, True, 3.2]\n",
      "['T', 'H', 'O', 'N', 1, 2, True]\n"
     ]
    }
   ],
   "source": [
    "# Negative index starts with -1\n",
    "\n",
    "print(lst1[-1]) # Prints last element without knowing the length\n",
    "print(lst1[-6:]) # Prints from index specified to the end\n",
    "print(lst1[-8:-1]) # Prints from zero -8 index to -2. Note: -1 not included"
   ]
  },
  {
   "cell_type": "code",
   "execution_count": 96,
   "id": "56ba6e6f",
   "metadata": {},
   "outputs": [
    {
     "data": {
      "text/plain": [
       "10"
      ]
     },
     "execution_count": 96,
     "metadata": {},
     "output_type": "execute_result"
    }
   ],
   "source": [
    "len(lst1) # Length of list"
   ]
  },
  {
   "cell_type": "markdown",
   "id": "8dfc9ed0",
   "metadata": {},
   "source": [
    "### Modifying List "
   ]
  },
  {
   "cell_type": "code",
   "execution_count": 108,
   "id": "f315ebcd",
   "metadata": {},
   "outputs": [
    {
     "name": "stdout",
     "output_type": "stream",
     "text": [
      "['P', 'Y', 'T', 'H', 'O', 'N', 1, 2, True, 3.2]\n"
     ]
    }
   ],
   "source": [
    "print(lst1)"
   ]
  },
  {
   "cell_type": "code",
   "execution_count": 109,
   "id": "862675e4",
   "metadata": {},
   "outputs": [
    {
     "data": {
      "text/plain": [
       "['P', 'Y', 'T', 'H', 'O', 'N', 1, 2, True, 3.2, 'NewItem']"
      ]
     },
     "execution_count": 109,
     "metadata": {},
     "output_type": "execute_result"
    }
   ],
   "source": [
    "lst1.append(\"NewItem\") # Adding new item at end, everything is added to the end\n",
    "lst1"
   ]
  },
  {
   "cell_type": "code",
   "execution_count": 117,
   "id": "92726bed",
   "metadata": {},
   "outputs": [
    {
     "name": "stdout",
     "output_type": "stream",
     "text": [
      "['P', 'Y', 'T', 'H', 'O', 'N', 1, 2, True, 3.2, 'NewItem']\n",
      "['P', 'Y', 'T', 'H', 'O', 'N', 1, 2, 'TruetoFalse', 3.2, 'NewItem']\n"
     ]
    }
   ],
   "source": [
    "lst1 = ['P', 'Y', 'T', 'H', 'O', 'N', 1, 2, True, 3.2, 'NewItem']\n",
    "print(lst1)\n",
    "lst1[8] = \"TruetoFalse\" # Modifying any element\n",
    "print(lst1)"
   ]
  },
  {
   "cell_type": "code",
   "execution_count": 120,
   "id": "1d39be46",
   "metadata": {},
   "outputs": [
    {
     "name": "stdout",
     "output_type": "stream",
     "text": [
      "['P', 'Y', 'T', 'H', 'O', 'N', 1, 2, 'TruetoFalse', 3.2, 'NewItem']\n",
      "['P', 'Y', 'T', 'H', 'O', 'N', 1, 2, 'TruetoFalse', 3.2]\n"
     ]
    }
   ],
   "source": [
    "lst1 = ['P', 'Y', 'T', 'H', 'O', 'N', 1, 2, 'TruetoFalse', 3.2, 'NewItem']\n",
    "print(lst1)\n",
    "lst1.remove(\"NewItem\") # Removing item by its value, In case of duplicate elements, it removes only the first\n",
    "print(lst1)"
   ]
  },
  {
   "cell_type": "code",
   "execution_count": 127,
   "id": "b6717c48",
   "metadata": {},
   "outputs": [
    {
     "name": "stdout",
     "output_type": "stream",
     "text": [
      "['P', 'Y', 'T', 'H', 'O', 'N', 1, 2, 'TruetoFalse', 3.2]\n",
      "['P', 'Y', 'T', 'H', 'O', 'N', 1, 2, 3.2]\n",
      "['P', 'Y', 'T', 'H', 'O', 'N', 1, 3.2]\n",
      "['P', 'Y', 'T', 'H', 'O', 'N', 1]\n"
     ]
    }
   ],
   "source": [
    "lst1 = ['P', 'Y', 'T', 'H', 'O', 'N', 1, 2, 'TruetoFalse', 3.2]\n",
    "print(lst1)\n",
    "lst1.pop(8) # Removing item by its positive index\n",
    "print(lst1)\n",
    "lst1.pop(-2) # Removing item by its negative index\n",
    "print(lst1)\n",
    "lst1.pop() # Removes last element as no index specified\n",
    "print(lst1)"
   ]
  },
  {
   "cell_type": "code",
   "execution_count": 23,
   "id": "9d87b568",
   "metadata": {},
   "outputs": [
    {
     "name": "stdout",
     "output_type": "stream",
     "text": [
      "['P', 'N', 1, 2, 'TruetoFalse', 3.2]\n"
     ]
    }
   ],
   "source": [
    "lst1 = ['P', 'Y', 'T', 'H', 'O', 'N', 1, 2, 'TruetoFalse', 3.2]\n",
    "del lst1[1:5] # Deleting Multiple Vlaue using DEL and index\n",
    "print(lst1)"
   ]
  },
  {
   "cell_type": "markdown",
   "id": "06dc0d89",
   "metadata": {},
   "source": [
    "### Some Basic operations and Loops in LIST"
   ]
  },
  {
   "cell_type": "code",
   "execution_count": 129,
   "id": "fed72d8a",
   "metadata": {},
   "outputs": [
    {
     "name": "stdout",
     "output_type": "stream",
     "text": [
      "P\n",
      "Y\n",
      "T\n",
      "H\n",
      "O\n",
      "N\n",
      "1\n",
      "2\n",
      "TruetoFalse\n",
      "3.2\n"
     ]
    }
   ],
   "source": [
    "lst1 = ['P', 'Y', 'T', 'H', 'O', 'N', 1, 2, 'TruetoFalse', 3.2]\n",
    "for i in lst1: # Printing all elements in list\n",
    "    print(i) # Note it access the elements directly not via index"
   ]
  },
  {
   "cell_type": "code",
   "execution_count": 130,
   "id": "dcda2df6",
   "metadata": {},
   "outputs": [
    {
     "name": "stdout",
     "output_type": "stream",
     "text": [
      "['P', 'Y', 'T', 'H', 'O', 'N', 1, 2, 'TruetoFalse', 3.2, 'P', 'Y', 'T', 'H', 'O', 'N', 1, 2, 'TruetoFalse', 3.2]\n"
     ]
    }
   ],
   "source": [
    "print(lst1*2) # Copying elements into the list"
   ]
  },
  {
   "cell_type": "code",
   "execution_count": 134,
   "id": "58e3f9ed",
   "metadata": {},
   "outputs": [
    {
     "name": "stdout",
     "output_type": "stream",
     "text": [
      "['P', 'Y', 'T', 'H', 'O', 'N', 1, 2, 'TruetoFalse', 3.2]\n",
      "['Mango', 'Banana', 'Apple', 'Pineapple', 'Kiwi']\n",
      "['P', 'Y', 'T', 'H', 'O', 'N', 1, 2, 'TruetoFalse', 3.2, 'Mango', 'Banana', 'Apple', 'Pineapple', 'Kiwi']\n"
     ]
    }
   ],
   "source": [
    "print(lst1)\n",
    "lst2 = [\"Mango\",\"Banana\",\"Apple\",\"Pineapple\", \"Kiwi\"]\n",
    "print(lst2)\n",
    "lst3 = lst1 + lst2 # Adding/Concating two lists\n",
    "print(lst3)"
   ]
  },
  {
   "cell_type": "code",
   "execution_count": 137,
   "id": "08f8a8a2",
   "metadata": {},
   "outputs": [
    {
     "data": {
      "text/plain": [
       "True"
      ]
     },
     "execution_count": 137,
     "metadata": {},
     "output_type": "execute_result"
    }
   ],
   "source": [
    "\"Mango\" in lst3 # Checking an item in list"
   ]
  },
  {
   "cell_type": "code",
   "execution_count": 3,
   "id": "6e83c88e",
   "metadata": {},
   "outputs": [
    {
     "name": "stdout",
     "output_type": "stream",
     "text": [
      "[12, 17, 5, 18, 54, 0, 5.0, 5.224, 9]\n",
      "54\n",
      "0\n"
     ]
    }
   ],
   "source": [
    "lst4 = [12, 17, 5, 18, 54, 0, 5.0, 5.224, 9]\n",
    "print(lst4)\n",
    "print(max(lst4)) # maximum value in list\n",
    "print(min(lst4)) # minimum value in list"
   ]
  },
  {
   "cell_type": "code",
   "execution_count": 7,
   "id": "573b21b8",
   "metadata": {},
   "outputs": [
    {
     "name": "stdout",
     "output_type": "stream",
     "text": [
      "['Banana', 'Kiwi', 'Guava', 'Apple', 'Orange', 'World', 'Hello', 'Pika']\n",
      "World\n",
      "Apple\n"
     ]
    }
   ],
   "source": [
    "list1 = [\"Banana\",\"Kiwi\",\"Guava\",\"Apple\",\"Orange\",\"World\",\"Hello\",\"Pika\",] #Maximim and Minimum value in string list\n",
    "print(list1)\n",
    "print(max(list1))# It Gives answer according to its position in a dictionary.\n",
    "print(min(list1))"
   ]
  },
  {
   "cell_type": "code",
   "execution_count": 5,
   "id": "9e6ede5c",
   "metadata": {},
   "outputs": [
    {
     "data": {
      "text/plain": [
       "[12, 17, 5, 18, 54, 0, 5.0, 5.224, 9]"
      ]
     },
     "execution_count": 5,
     "metadata": {},
     "output_type": "execute_result"
    }
   ],
   "source": [
    "lst4 = [12, 17, 5, 18, 54, 0, 5.0, 5.224, 9]\n",
    "lst4[-1452:]  # Note one more way to print list"
   ]
  },
  {
   "cell_type": "code",
   "execution_count": 13,
   "id": "8812a71a",
   "metadata": {},
   "outputs": [
    {
     "data": {
      "text/plain": [
       "[12, 17, 5, 18, 54, 0, 5.0, 5.224, 9]"
      ]
     },
     "execution_count": 13,
     "metadata": {},
     "output_type": "execute_result"
    }
   ],
   "source": [
    "lst4 = [12, 17, 5, 18, 54, 0, 5.0, 5.224, 9]\n",
    "lst4[0:11150]"
   ]
  },
  {
   "cell_type": "code",
   "execution_count": 14,
   "id": "8f0d1799",
   "metadata": {},
   "outputs": [
    {
     "data": {
      "text/plain": [
       "[12, 5, 54, 5.0, 9]"
      ]
     },
     "execution_count": 14,
     "metadata": {},
     "output_type": "execute_result"
    }
   ],
   "source": [
    "lst4[0::2]# Print every second number starting from index zero"
   ]
  },
  {
   "cell_type": "code",
   "execution_count": 16,
   "id": "e39776f8",
   "metadata": {},
   "outputs": [
    {
     "data": {
      "text/plain": [
       "[12, 18, 5.0]"
      ]
     },
     "execution_count": 16,
     "metadata": {},
     "output_type": "execute_result"
    }
   ],
   "source": [
    "lst4[-9::3] # Same as above with negative index"
   ]
  },
  {
   "cell_type": "code",
   "execution_count": 21,
   "id": "8e168a37",
   "metadata": {},
   "outputs": [
    {
     "name": "stdout",
     "output_type": "stream",
     "text": [
      "['a', 'b', 'E', 6, 'H', 4]\n"
     ]
    }
   ],
   "source": [
    "list3 = ['L', 7, 'E', 6, 'H', 4]\n",
    "list3[0:2] = [\"a\",\"b\"] # Replacing Multiple Items at Once\n",
    "print(list3)"
   ]
  },
  {
   "cell_type": "markdown",
   "id": "14b32833",
   "metadata": {},
   "source": [
    "### iMPORTANT"
   ]
  },
  {
   "cell_type": "code",
   "execution_count": 20,
   "id": "36e817bc",
   "metadata": {},
   "outputs": [
    {
     "data": {
      "text/plain": [
       "[9, 5.224, 5.0, 0, 54, 18, 5, 17, 12]"
      ]
     },
     "execution_count": 20,
     "metadata": {},
     "output_type": "execute_result"
    }
   ],
   "source": [
    "lst4[-1::-1] # Important Printing all the list in reverse order without knowing length"
   ]
  },
  {
   "cell_type": "markdown",
   "id": "af06b196",
   "metadata": {},
   "source": [
    "## Taking input from user and making a list and Adding them"
   ]
  },
  {
   "cell_type": "code",
   "execution_count": 162,
   "id": "e31f7a13",
   "metadata": {},
   "outputs": [
    {
     "name": "stdout",
     "output_type": "stream",
     "text": [
      "Enter the length of the List Integer : 5\n",
      "Enter the integer Item : 1\n",
      "Enter the integer Item : 4\n",
      "Enter the integer Item : 8\n",
      "Enter the integer Item : 9\n",
      "Enter the integer Item : 5\n",
      "You Entered :  [1, 4, 8, 9, 5]\n",
      "The sum of all elements is :  27\n"
     ]
    }
   ],
   "source": [
    "List = [] # Defining empty list\n",
    "n = int(input(\"Enter the length of the List Integer : \")) # Taking input from user and converting it to Integer\n",
    "for i in range(n):\n",
    "    x = int(input(\"Enter the integer Item : \"))\n",
    "    List.append(x) # Appending every items in the list\n",
    "print(\"You Entered : \", List)\n",
    "\n",
    "add = 0;\n",
    "for i in List: ## Prigram for adding all the elements of the list\n",
    "    add = add+i\n",
    "print(\"The sum of all elements is : \", add)    \n",
    "    "
   ]
  },
  {
   "cell_type": "code",
   "execution_count": null,
   "id": "9c8ee674",
   "metadata": {},
   "outputs": [],
   "source": []
  },
  {
   "cell_type": "code",
   "execution_count": null,
   "id": "9104d44c",
   "metadata": {},
   "outputs": [],
   "source": []
  },
  {
   "cell_type": "markdown",
   "id": "191d7596",
   "metadata": {},
   "source": [
    "# Tuple"
   ]
  },
  {
   "cell_type": "markdown",
   "id": "d3a98d73",
   "metadata": {},
   "source": [
    "Everything same as list but Immutable and defined by ()"
   ]
  },
  {
   "cell_type": "code",
   "execution_count": 165,
   "id": "b009e9e9",
   "metadata": {},
   "outputs": [
    {
     "data": {
      "text/plain": [
       "tuple"
      ]
     },
     "execution_count": 165,
     "metadata": {},
     "output_type": "execute_result"
    }
   ],
   "source": [
    "tup = () # Defining empty tuple\n",
    "type(tup)"
   ]
  },
  {
   "cell_type": "code",
   "execution_count": 167,
   "id": "037ddd3c",
   "metadata": {},
   "outputs": [
    {
     "name": "stdout",
     "output_type": "stream",
     "text": [
      "Cooler\n",
      "<class 'str'>\n",
      "('Cooler',)\n",
      "<class 'tuple'>\n"
     ]
    }
   ],
   "source": [
    "tup1 = ('Cooler') # Tuple with single element is taken as string\n",
    "print(tup1)\n",
    "print(type(tup1))\n",
    "\n",
    "tup2 = (\"Cooler\",) # Defing tuple with single element\n",
    "print(tup2)\n",
    "print(type(tup2))"
   ]
  },
  {
   "cell_type": "code",
   "execution_count": 175,
   "id": "222afac1",
   "metadata": {},
   "outputs": [
    {
     "name": "stdout",
     "output_type": "stream",
     "text": [
      "(1, 2, 5, 8, 15)\n",
      "<class 'tuple'>\n",
      "('Cooler', 'Fan', 'Box', 'Table')\n",
      "<class 'tuple'>\n",
      "(1, 2, 3, 'hello', 5)\n",
      "<class 'tuple'>\n"
     ]
    }
   ],
   "source": [
    "# 3 Ways of defining Tuple\n",
    "t1 = (1,2,5,8,15)\n",
    "print(t1)\n",
    "print(type(t1))\n",
    "t2 = (\"Cooler\",\"Fan\", \"Box\", \"Table\")\n",
    "print(t2)\n",
    "print(type(t2))\n",
    "t3 = 1,2,3,\"hello\",5\n",
    "print(t3)\n",
    "print(type(t3))"
   ]
  },
  {
   "cell_type": "code",
   "execution_count": 181,
   "id": "9b4fff9a",
   "metadata": {},
   "outputs": [
    {
     "ename": "TypeError",
     "evalue": "'tuple' object does not support item assignment",
     "output_type": "error",
     "traceback": [
      "\u001b[0;31m---------------------------------------------------------------------------\u001b[0m",
      "\u001b[0;31mTypeError\u001b[0m                                 Traceback (most recent call last)",
      "\u001b[0;32m<ipython-input-181-a3b2889730db>\u001b[0m in \u001b[0;36m<module>\u001b[0;34m\u001b[0m\n\u001b[0;32m----> 1\u001b[0;31m \u001b[0mt3\u001b[0m\u001b[0;34m[\u001b[0m\u001b[0;36m3\u001b[0m\u001b[0;34m]\u001b[0m \u001b[0;34m=\u001b[0m \u001b[0;34m\"yellow\"\u001b[0m\u001b[0;34m\u001b[0m\u001b[0;34m\u001b[0m\u001b[0m\n\u001b[0m",
      "\u001b[0;31mTypeError\u001b[0m: 'tuple' object does not support item assignment"
     ]
    }
   ],
   "source": [
    "t3[3] = \"yellow\" # Immutable"
   ]
  },
  {
   "cell_type": "code",
   "execution_count": 190,
   "id": "73ca92ef",
   "metadata": {},
   "outputs": [
    {
     "name": "stdout",
     "output_type": "stream",
     "text": [
      "<class 'tuple'>\n",
      "<class 'list'>\n",
      "[1, 7, 'Hello', 6.5, 'NewItem']\n",
      "<class 'tuple'>\n",
      "(1, 7, 'Hello', 6.5, 'NewItem')\n"
     ]
    }
   ],
   "source": [
    "#Modifying tuple by comverting it into list\n",
    "tup = (1, 7, \"Hello\", 6.5)\n",
    "print(type(tup))\n",
    "tup_list = list(tup) # Converting to list\n",
    "print(type(tup_list))\n",
    "tup_list.append(\"NewItem\") # Appending new item\n",
    "print(tup_list)\n",
    "tup_new = tuple(tup_list) # Converting back to tuple after modifying\n",
    "print(type(tup_new))\n",
    "print(tup_new)"
   ]
  },
  {
   "cell_type": "markdown",
   "id": "d95ebc1b",
   "metadata": {},
   "source": [
    "### Adding and Nested Tuple"
   ]
  },
  {
   "cell_type": "code",
   "execution_count": 196,
   "id": "47fc900c",
   "metadata": {},
   "outputs": [
    {
     "name": "stdout",
     "output_type": "stream",
     "text": [
      "(1, 2, 5, 8, 15)\n",
      "('Cooler', 'Fan', 'Box', 'Table')\n",
      "(1, 2, 3, 'hello', 5)\n"
     ]
    }
   ],
   "source": [
    "print(t1)\n",
    "print(t2)\n",
    "print(t3)"
   ]
  },
  {
   "cell_type": "code",
   "execution_count": 200,
   "id": "7dbf8723",
   "metadata": {},
   "outputs": [
    {
     "name": "stdout",
     "output_type": "stream",
     "text": [
      "(1, 2, 5, 8, 15, 'Cooler', 'Fan', 'Box', 'Table')\n"
     ]
    }
   ],
   "source": [
    "t4 = t1 + t2 # adding two tuples\n",
    "print(t4)"
   ]
  },
  {
   "cell_type": "code",
   "execution_count": 204,
   "id": "4fefed6f",
   "metadata": {},
   "outputs": [
    {
     "name": "stdout",
     "output_type": "stream",
     "text": [
      "((1, 2, 5, 8, 15), ('Cooler', 'Fan', 'Box', 'Table'), (1, 2, 3, 'hello', 5))\n"
     ]
    },
    {
     "data": {
      "text/plain": [
       "tuple"
      ]
     },
     "execution_count": 204,
     "metadata": {},
     "output_type": "execute_result"
    }
   ],
   "source": [
    "t5 = (t1,t2,t3) # Nested Tuple \n",
    "print(t5)\n",
    "type(t5)"
   ]
  },
  {
   "cell_type": "markdown",
   "id": "f33abf31",
   "metadata": {},
   "source": [
    "# SET Data Type"
   ]
  },
  {
   "cell_type": "markdown",
   "id": "7af0db43",
   "metadata": {},
   "source": [
    "Unordered, Mutable, No Duplicate, No Index attached thus cannot directly be accessed"
   ]
  },
  {
   "cell_type": "code",
   "execution_count": 32,
   "id": "52f606db",
   "metadata": {},
   "outputs": [
    {
     "name": "stdout",
     "output_type": "stream",
     "text": [
      "<class 'set'>\n",
      "{1, 2.5, 'hello'}\n",
      "<class 'set'>\n",
      "{7}\n"
     ]
    }
   ],
   "source": [
    "set1 = {1,\"hello\", 2.5} # Multiple Element\n",
    "print(type(set1))\n",
    "print(set1) # Unordered\n",
    "set2 = {7} # Single Element\n",
    "print(type(set2))\n",
    "print(set2)"
   ]
  },
  {
   "cell_type": "code",
   "execution_count": 26,
   "id": "7b6db242",
   "metadata": {},
   "outputs": [
    {
     "name": "stdout",
     "output_type": "stream",
     "text": [
      "{'Mango', 'Banana', 'Apple'}\n"
     ]
    }
   ],
   "source": [
    "set3 = set((\"Banana\",\"Apple\",\"Mango\"))\n",
    "print(set3)"
   ]
  },
  {
   "cell_type": "code",
   "execution_count": 29,
   "id": "3ca78e5e",
   "metadata": {},
   "outputs": [
    {
     "data": {
      "text/plain": [
       "{'Apple', 'Banana', 'Kiwi', 'Mango'}"
      ]
     },
     "execution_count": 29,
     "metadata": {},
     "output_type": "execute_result"
    }
   ],
   "source": [
    "set3.add(\"Kiwi\") # Adding Members to the SET\n",
    "set3"
   ]
  },
  {
   "cell_type": "code",
   "execution_count": 31,
   "id": "530aa3e2",
   "metadata": {},
   "outputs": [
    {
     "name": "stdout",
     "output_type": "stream",
     "text": [
      "{'Kiwi', 4, 3.2, 'Banana', 'Hello', (54, 69), 'Mango', 'Apple'}\n"
     ]
    }
   ],
   "source": [
    "set3 = {'Apple', 'Banana', 'Kiwi', 'Mango'}\n",
    "set3.add(4)\n",
    "set3.add(3.2)\n",
    "set3.add(\"Hello\") # Adding various datatypes in set\n",
    "set3.add((54,69))\n",
    "print(set3)"
   ]
  },
  {
   "cell_type": "code",
   "execution_count": 44,
   "id": "52c5a573",
   "metadata": {},
   "outputs": [
    {
     "ename": "KeyError",
     "evalue": "'HelloWorld'",
     "output_type": "error",
     "traceback": [
      "\u001b[0;31m---------------------------------------------------------------------------\u001b[0m",
      "\u001b[0;31mKeyError\u001b[0m                                  Traceback (most recent call last)",
      "\u001b[0;32m<ipython-input-44-b8f8ee6fd035>\u001b[0m in \u001b[0;36m<module>\u001b[0;34m\u001b[0m\n\u001b[1;32m      3\u001b[0m \u001b[0mset3\u001b[0m\u001b[0;34m.\u001b[0m\u001b[0mdiscard\u001b[0m\u001b[0;34m(\u001b[0m\u001b[0;34m\"HelloWorld\"\u001b[0m\u001b[0;34m)\u001b[0m \u001b[0;31m# doesnot show error even if the element is not present\u001b[0m\u001b[0;34m\u001b[0m\u001b[0;34m\u001b[0m\u001b[0m\n\u001b[1;32m      4\u001b[0m \u001b[0mset3\u001b[0m\u001b[0;34m.\u001b[0m\u001b[0mremove\u001b[0m\u001b[0;34m(\u001b[0m\u001b[0;34m\"Mango\"\u001b[0m\u001b[0;34m)\u001b[0m\u001b[0;34m\u001b[0m\u001b[0;34m\u001b[0m\u001b[0m\n\u001b[0;32m----> 5\u001b[0;31m \u001b[0mset3\u001b[0m\u001b[0;34m.\u001b[0m\u001b[0mremove\u001b[0m\u001b[0;34m(\u001b[0m\u001b[0;34m\"HelloWorld\"\u001b[0m\u001b[0;34m)\u001b[0m\u001b[0;34m\u001b[0m\u001b[0;34m\u001b[0m\u001b[0m\n\u001b[0m",
      "\u001b[0;31mKeyError\u001b[0m: 'HelloWorld'"
     ]
    }
   ],
   "source": [
    "#Removing Items from SET\n",
    "set3 = {(54, 69), 3.2, 4, 'Apple', 'Banana', 'Hello', 'Kiwi', 'Mango'}\n",
    "set3.discard(\"Kiwi\")\n",
    "set3.discard(\"HelloWorld\") # doesnot show error even if the element is not present\n",
    "set3.remove(\"Mango\")\n",
    "set3.remove(\"HelloWorld\") # This will show error as element is not present"
   ]
  },
  {
   "cell_type": "code",
   "execution_count": 47,
   "id": "ba82f9e4",
   "metadata": {},
   "outputs": [
    {
     "data": {
      "text/plain": [
       "set()"
      ]
     },
     "execution_count": 47,
     "metadata": {},
     "output_type": "execute_result"
    }
   ],
   "source": [
    "set3.clear() # Clears full set\n",
    "set3"
   ]
  },
  {
   "cell_type": "code",
   "execution_count": 227,
   "id": "9b6bc600",
   "metadata": {},
   "outputs": [
    {
     "ename": "TypeError",
     "evalue": "unsupported operand type(s) for +: 'set' and 'set'",
     "output_type": "error",
     "traceback": [
      "\u001b[0;31m---------------------------------------------------------------------------\u001b[0m",
      "\u001b[0;31mTypeError\u001b[0m                                 Traceback (most recent call last)",
      "\u001b[0;32m<ipython-input-227-7302ed2d02bd>\u001b[0m in \u001b[0;36m<module>\u001b[0;34m\u001b[0m\n\u001b[0;32m----> 1\u001b[0;31m \u001b[0mset4\u001b[0m \u001b[0;34m=\u001b[0m \u001b[0mset1\u001b[0m \u001b[0;34m+\u001b[0m \u001b[0mset3\u001b[0m \u001b[0;31m# No Addition\u001b[0m\u001b[0;34m\u001b[0m\u001b[0;34m\u001b[0m\u001b[0m\n\u001b[0m",
      "\u001b[0;31mTypeError\u001b[0m: unsupported operand type(s) for +: 'set' and 'set'"
     ]
    }
   ],
   "source": [
    "set4 = set1 + set3 # No Addition Possible"
   ]
  },
  {
   "cell_type": "code",
   "execution_count": 48,
   "id": "4c6c0b38",
   "metadata": {},
   "outputs": [
    {
     "name": "stdout",
     "output_type": "stream",
     "text": [
      "{1, 2.5, 'hello'}\n",
      "{7}\n",
      "{1, 2.5, 'hello', 7}\n"
     ]
    }
   ],
   "source": [
    "# Adding two sets\n",
    "set1 = {1,\"hello\", 2.5}\n",
    "print(set1)\n",
    "set2 = {7}\n",
    "print(set2)\n",
    "set2.update(set1) # Adding two sets\n",
    "print(set2)"
   ]
  },
  {
   "cell_type": "code",
   "execution_count": 50,
   "id": "b86e8b02",
   "metadata": {},
   "outputs": [
    {
     "name": "stdout",
     "output_type": "stream",
     "text": [
      "{1, 2.5, 'hello'}\n",
      "{7}\n",
      "{1, 2.5, 'hello', 7}\n"
     ]
    }
   ],
   "source": [
    "# Union of two sets\n",
    "set1 = {1,\"hello\", 2.5}\n",
    "print(set1)\n",
    "set2 = {7}\n",
    "print(set2)\n",
    "set3 = set1.union(set2) # Adding two sets\n",
    "print(set3)"
   ]
  },
  {
   "cell_type": "code",
   "execution_count": 51,
   "id": "b865bead",
   "metadata": {},
   "outputs": [
    {
     "name": "stdout",
     "output_type": "stream",
     "text": [
      "{1, 2.5, 'hello'}\n",
      "{'hello', 7}\n",
      "{'hello'}\n"
     ]
    }
   ],
   "source": [
    "# Intersection of two sets\n",
    "set1 = {1,\"hello\", 2.5}\n",
    "print(set1)\n",
    "set2 = {7, \"hello\"}\n",
    "print(set2)\n",
    "set3 = set1.intersection(set2) # Intersection of two sets\n",
    "print(set3)"
   ]
  },
  {
   "cell_type": "code",
   "execution_count": 55,
   "id": "bb5769e1",
   "metadata": {},
   "outputs": [
    {
     "name": "stdout",
     "output_type": "stream",
     "text": [
      "{1, 2.5, 'hello'}\n",
      "{'hello', 7}\n",
      "{1, 2.5}\n"
     ]
    }
   ],
   "source": [
    "# Difference of two sets\n",
    "set1 = {1,\"hello\", 2.5}\n",
    "print(set1)\n",
    "set2 = {7,\"hello\"}\n",
    "print(set2)\n",
    "set3 = set1.difference(set2) # difference of two sets\n",
    "print(set3)"
   ]
  },
  {
   "cell_type": "code",
   "execution_count": 54,
   "id": "0b4afb0e",
   "metadata": {},
   "outputs": [
    {
     "name": "stdout",
     "output_type": "stream",
     "text": [
      "{'Morning', 'Fine', 'Hello', 'World'}\n"
     ]
    }
   ],
   "source": [
    "set4 = {\"Hello\", \"World\", \"Fine\", \"Morning\", \"Hello\"}\n",
    "print(set4) # Duplicate values are eliminated automatically"
   ]
  },
  {
   "cell_type": "code",
   "execution_count": null,
   "id": "2345b316",
   "metadata": {},
   "outputs": [],
   "source": []
  },
  {
   "cell_type": "code",
   "execution_count": 234,
   "id": "a466308e",
   "metadata": {},
   "outputs": [
    {
     "name": "stdout",
     "output_type": "stream",
     "text": [
      "{'Sun', 'Sat', 'Fri', 'Thrus', 'Tues', 'Mon', 'Wed'}\n",
      "<class 'set'>\n",
      "Sun\n",
      "Sat\n",
      "Fri\n",
      "Thrus\n",
      "Tues\n",
      "Mon\n",
      "Wed\n"
     ]
    }
   ],
   "source": [
    "# Looping through SET\n",
    "days = {\"Sun\",\"Mon\",\"Tues\",\"Wed\",\"Thrus\",\"Fri\",\"Sat\"}\n",
    "print(days)\n",
    "print(type(days))\n",
    "for i in days: # Iterating Through SET\n",
    "    print(i)"
   ]
  },
  {
   "cell_type": "markdown",
   "id": "5ed58d6e",
   "metadata": {},
   "source": [
    "# Dictionary data type"
   ]
  },
  {
   "cell_type": "markdown",
   "id": "d50eb052",
   "metadata": {},
   "source": [
    "Ordered, Mutable, No Duplicates, {}\n",
    "* Can have int/float/string/tuple (immutable data type) as Key\n",
    "* Can have anything as Value\n",
    "* New elements are always added at end"
   ]
  },
  {
   "cell_type": "code",
   "execution_count": 248,
   "id": "b50fca09",
   "metadata": {},
   "outputs": [
    {
     "data": {
      "text/plain": [
       "{1: 'Mango', 2: 'Banana', 5: 'Apple', 6: 'Kiwi'}"
      ]
     },
     "execution_count": 248,
     "metadata": {},
     "output_type": "execute_result"
    }
   ],
   "source": [
    "dict1 = {1:\"Mango\", 2:\"Banana\", 5:\"Apple\", 6:\"Kiwi\"}\n",
    "dict1"
   ]
  },
  {
   "cell_type": "code",
   "execution_count": 251,
   "id": "546f2e11",
   "metadata": {},
   "outputs": [
    {
     "data": {
      "text/plain": [
       "{1: 'Mango', 2: 'Banana', 5: 'Apple', 6: 'Brinjle', 7: 'Apple'}"
      ]
     },
     "execution_count": 251,
     "metadata": {},
     "output_type": "execute_result"
    }
   ],
   "source": [
    "dict2 = {1:\"Mango\", 2:\"Banana\", 5:\"Apple\", 6:\"Kiwi\", 6:\"Brinjle\", 7:\"Apple\"} # No duplicate keys taken\n",
    "dict2"
   ]
  },
  {
   "cell_type": "code",
   "execution_count": 253,
   "id": "4c489e3d",
   "metadata": {},
   "outputs": [
    {
     "data": {
      "text/plain": [
       "'Apple'"
      ]
     },
     "execution_count": 253,
     "metadata": {},
     "output_type": "execute_result"
    }
   ],
   "source": [
    "dict2[5] # Here 5 is key not index"
   ]
  },
  {
   "cell_type": "code",
   "execution_count": 252,
   "id": "2d8ae5a6",
   "metadata": {},
   "outputs": [
    {
     "data": {
      "text/plain": [
       "{'1': 'Mango', '2': 'Banana', '5': 'Apple', '6': 'Brinjle', '7': 'Apple'}"
      ]
     },
     "execution_count": 252,
     "metadata": {},
     "output_type": "execute_result"
    }
   ],
   "source": [
    "dict3 = {\"1\":\"Mango\", \"2\":\"Banana\", \"5\":\"Apple\", \"6\":\"Kiwi\", \"6\":\"Brinjle\", \"7\":\"Apple\"} # No duplicate keys taken\n",
    "dict3"
   ]
  },
  {
   "cell_type": "code",
   "execution_count": 254,
   "id": "1402b5a2",
   "metadata": {},
   "outputs": [
    {
     "ename": "KeyError",
     "evalue": "5",
     "output_type": "error",
     "traceback": [
      "\u001b[0;31m---------------------------------------------------------------------------\u001b[0m",
      "\u001b[0;31mKeyError\u001b[0m                                  Traceback (most recent call last)",
      "\u001b[0;32m<ipython-input-254-3d4363df8be7>\u001b[0m in \u001b[0;36m<module>\u001b[0;34m\u001b[0m\n\u001b[0;32m----> 1\u001b[0;31m \u001b[0mdict3\u001b[0m\u001b[0;34m[\u001b[0m\u001b[0;36m5\u001b[0m\u001b[0;34m]\u001b[0m\u001b[0;34m\u001b[0m\u001b[0;34m\u001b[0m\u001b[0m\n\u001b[0m",
      "\u001b[0;31mKeyError\u001b[0m: 5"
     ]
    }
   ],
   "source": [
    "dict3[5] # can only be accessed through key not index"
   ]
  },
  {
   "cell_type": "code",
   "execution_count": 258,
   "id": "f5d1773e",
   "metadata": {},
   "outputs": [
    {
     "name": "stdout",
     "output_type": "stream",
     "text": [
      "{1: 'Mango', 2: 'Banana', 5: 'Apple', 6: 'Kiwi'}\n",
      "{1: 'Mango', 2: 'Banana', 5: 'Apple', 6: 'Brinjle', 7: 'Apple'}\n",
      "{'1': 'Mango', '2': 'Banana', '5': 'Apple', '6': 'Brinjle', '7': 'Apple'}\n"
     ]
    }
   ],
   "source": [
    "print(dict1)\n",
    "print(dict2)\n",
    "print(dict3)"
   ]
  },
  {
   "cell_type": "code",
   "execution_count": 260,
   "id": "87e3119b",
   "metadata": {},
   "outputs": [
    {
     "ename": "TypeError",
     "evalue": "unsupported operand type(s) for +: 'dict' and 'dict'",
     "output_type": "error",
     "traceback": [
      "\u001b[0;31m---------------------------------------------------------------------------\u001b[0m",
      "\u001b[0;31mTypeError\u001b[0m                                 Traceback (most recent call last)",
      "\u001b[0;32m<ipython-input-260-42af10cbdcb9>\u001b[0m in \u001b[0;36m<module>\u001b[0;34m\u001b[0m\n\u001b[0;32m----> 1\u001b[0;31m \u001b[0mdict4\u001b[0m \u001b[0;34m=\u001b[0m \u001b[0mdict3\u001b[0m\u001b[0;34m+\u001b[0m\u001b[0mdict1\u001b[0m \u001b[0;31m#cannot be added\u001b[0m\u001b[0;34m\u001b[0m\u001b[0;34m\u001b[0m\u001b[0m\n\u001b[0m",
      "\u001b[0;31mTypeError\u001b[0m: unsupported operand type(s) for +: 'dict' and 'dict'"
     ]
    }
   ],
   "source": [
    "dict4 = dict3+dict1 #cannot be added"
   ]
  },
  {
   "cell_type": "code",
   "execution_count": 5,
   "id": "e696a8ae",
   "metadata": {},
   "outputs": [
    {
     "name": "stdout",
     "output_type": "stream",
     "text": [
      "{'1': 'Mango', '2': 'Banana', '5': 'Apple', '6': 'Brinjle', '7': 'Apple', 1: 'Mango', 2: 'Banana', 5: 'Apple', 6: 'Kiwi', 7: 'Apple'}\n"
     ]
    }
   ],
   "source": [
    "#Adding two Dictionary\n",
    "dict1 = {1: 'Mango', 2: 'Banana', 5: 'Apple', 6: 'Kiwi'}\n",
    "dict2 = {1: 'Mango', 2: 'Banana', 5: 'Apple', 6: 'Brinjle', 7: 'Apple'}\n",
    "dict3 = {'1': 'Mango', '2': 'Banana', '5': 'Apple', '6': 'Brinjle', '7': 'Apple'}\n",
    "dict2.update(dict1)\n",
    "dict3.update(dict2)\n",
    "print(dict3)"
   ]
  },
  {
   "cell_type": "code",
   "execution_count": null,
   "id": "a7b4af98",
   "metadata": {},
   "outputs": [],
   "source": [
    "# Update dictionary\n",
    "dict1 = {\"Hello\": 56, \"at\": 23, \"test\": 43, \"this\": 78}\n",
    "dict1.update({'here': 40, 'at': 41, 'test': 89})\n",
    "dict1"
   ]
  },
  {
   "cell_type": "code",
   "execution_count": 273,
   "id": "a8248963",
   "metadata": {},
   "outputs": [
    {
     "name": "stdout",
     "output_type": "stream",
     "text": [
      "{'1': 'Mango', '2': 'Banana', '5': 'Apple', '6': 'Brinjle', '7': 'Apple', 3: 'Hello', 5: 'Hello', '3': 7}\n",
      "Key value 5 Hello\n",
      "Key value '5' Apple\n"
     ]
    }
   ],
   "source": [
    "# Adding Element different types\n",
    "dict3[5] = \"Hello\" # int key , value string\n",
    "dict3[\"3\"] = 7 # string key, value int\n",
    "print(dict3)\n",
    "print(\"Key value 5\",dict3[5])\n",
    "print(\"Key value '5'\",dict3[\"5\"])"
   ]
  },
  {
   "cell_type": "code",
   "execution_count": 274,
   "id": "b6aa1f5c",
   "metadata": {},
   "outputs": [
    {
     "data": {
      "text/plain": [
       "{'1': 'Mango',\n",
       " '2': 'Banana',\n",
       " '5': 'Apple',\n",
       " '6': 'Brinjle',\n",
       " '7': 'Apple',\n",
       " 3: 'Hello',\n",
       " 5: 'Hello',\n",
       " '3': 7}"
      ]
     },
     "execution_count": 274,
     "metadata": {},
     "output_type": "execute_result"
    }
   ],
   "source": [
    "dict3 # multiple data type keys"
   ]
  },
  {
   "cell_type": "code",
   "execution_count": 284,
   "id": "6c7fbeb3",
   "metadata": {},
   "outputs": [
    {
     "name": "stdout",
     "output_type": "stream",
     "text": [
      "{'1': 'Mango', '2': 'Banana', '5': 'Apple', '6': 'Brinjle', '7': 'Apple', 3: 'Hello', 5: 'Hello', '3': 7}\n",
      "{'1': 'Mango', '5': 'Apple', '6': 'Brinjle', '7': 'Apple', 3: 'Hello', 5: 'Hello', '3': 7}\n",
      "{'1': 'Mango', '5': 'Apple', '6': 'Brinjle', '7': 'Apple', 3: 'Hello', 5: 'Hello'}\n",
      "{'1': 'Mango', '5': 'Apple', '6': 'Brinjle', '7': 'Apple', 3: 'Hello'}\n"
     ]
    }
   ],
   "source": [
    "# Deleting Items 3 Types\n",
    "dict3 = {'1': 'Mango', '2': 'Banana', '5': 'Apple', '6': 'Brinjle', '7': 'Apple', 3: 'Hello', 5: 'Hello', '3': 7}\n",
    "print(dict3)\n",
    "dict3.pop(\"2\") # Deletes the item with key \"2\"\n",
    "print(dict3)\n",
    "dict3.popitem() # Deletes last item\n",
    "print(dict3)\n",
    "del dict3[5] # Deletes item with specified key\n",
    "print(dict3)"
   ]
  }
 ],
 "metadata": {
  "kernelspec": {
   "display_name": "Python 3",
   "language": "python",
   "name": "python3"
  },
  "language_info": {
   "codemirror_mode": {
    "name": "ipython",
    "version": 3
   },
   "file_extension": ".py",
   "mimetype": "text/x-python",
   "name": "python",
   "nbconvert_exporter": "python",
   "pygments_lexer": "ipython3",
   "version": "3.8.8"
  }
 },
 "nbformat": 4,
 "nbformat_minor": 5
}
