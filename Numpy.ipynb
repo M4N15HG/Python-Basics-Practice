{
 "cells": [
  {
   "cell_type": "markdown",
   "id": "2411f88b",
   "metadata": {},
   "source": [
    "# Numpy\n",
    "\n",
    "* Numerical Python\n",
    "* Data Type : ndarray : similar to list : works with array : 50 times faster than lists : can perform numerical operations on array : we cannot perform mathmatical operations on lists.\n",
    "* Collection of similar data type\n",
    "* 1-D, 2-D, 3-D arrays possible\n",
    "* ndarray : N - Dimentional Array"
   ]
  },
  {
   "cell_type": "code",
   "execution_count": 1,
   "id": "29cb0770",
   "metadata": {},
   "outputs": [
    {
     "name": "stdout",
     "output_type": "stream",
     "text": [
      "Requirement already satisfied: numpy in /home/nobody11/anaconda3/lib/python3.8/site-packages (1.20.1)\r\n"
     ]
    }
   ],
   "source": [
    "!pip install numpy"
   ]
  },
  {
   "cell_type": "code",
   "execution_count": null,
   "id": "857c9ffb",
   "metadata": {},
   "outputs": [],
   "source": []
  },
  {
   "cell_type": "code",
   "execution_count": 2,
   "id": "e934dde6",
   "metadata": {},
   "outputs": [],
   "source": [
    "import numpy"
   ]
  },
  {
   "cell_type": "code",
   "execution_count": 3,
   "id": "89b917df",
   "metadata": {},
   "outputs": [],
   "source": [
    "arr = numpy.array([45,25,65,23,12])"
   ]
  },
  {
   "cell_type": "code",
   "execution_count": 4,
   "id": "bf9ce831",
   "metadata": {},
   "outputs": [
    {
     "data": {
      "text/plain": [
       "numpy.ndarray"
      ]
     },
     "execution_count": 4,
     "metadata": {},
     "output_type": "execute_result"
    }
   ],
   "source": [
    "type(arr)"
   ]
  },
  {
   "cell_type": "code",
   "execution_count": 5,
   "id": "e4cfacb6",
   "metadata": {},
   "outputs": [],
   "source": [
    "import numpy as np # numpy as np is used as alias everywhere so that its easier to use."
   ]
  },
  {
   "cell_type": "code",
   "execution_count": 6,
   "id": "3b7beea0",
   "metadata": {},
   "outputs": [],
   "source": [
    "arr = np.array([12,54,23,85,22,101])"
   ]
  },
  {
   "cell_type": "code",
   "execution_count": 7,
   "id": "097530c1",
   "metadata": {},
   "outputs": [
    {
     "data": {
      "text/plain": [
       "numpy.ndarray"
      ]
     },
     "execution_count": 7,
     "metadata": {},
     "output_type": "execute_result"
    }
   ],
   "source": [
    "type(arr)"
   ]
  },
  {
   "cell_type": "code",
   "execution_count": 10,
   "id": "ff4db1d2",
   "metadata": {},
   "outputs": [
    {
     "data": {
      "text/plain": [
       "'1.20.1'"
      ]
     },
     "execution_count": 10,
     "metadata": {},
     "output_type": "execute_result"
    }
   ],
   "source": [
    "#Checking version\n",
    "np.__version__"
   ]
  },
  {
   "cell_type": "code",
   "execution_count": null,
   "id": "6b1d5f08",
   "metadata": {},
   "outputs": [],
   "source": []
  },
  {
   "cell_type": "code",
   "execution_count": 11,
   "id": "d1aba369",
   "metadata": {},
   "outputs": [
    {
     "data": {
      "text/plain": [
       "array([1, 2, 3, 4])"
      ]
     },
     "execution_count": 11,
     "metadata": {},
     "output_type": "execute_result"
    }
   ],
   "source": [
    "# Creating array\n",
    "#Way 1\n",
    "np.array([1,2,3,4])"
   ]
  },
  {
   "cell_type": "code",
   "execution_count": 12,
   "id": "6452aa2d",
   "metadata": {},
   "outputs": [
    {
     "data": {
      "text/plain": [
       "array([1, 2, 3, 4])"
      ]
     },
     "execution_count": 12,
     "metadata": {},
     "output_type": "execute_result"
    }
   ],
   "source": [
    "#Way 2\n",
    "np.array((1,2,3,4))"
   ]
  },
  {
   "cell_type": "code",
   "execution_count": 13,
   "id": "863e62be",
   "metadata": {},
   "outputs": [],
   "source": [
    "list1 = [1,2,3,4]\n",
    "tuple1 = (1,2,3,4)"
   ]
  },
  {
   "cell_type": "code",
   "execution_count": 14,
   "id": "3e68b0c3",
   "metadata": {},
   "outputs": [
    {
     "data": {
      "text/plain": [
       "array([1, 2, 3, 4])"
      ]
     },
     "execution_count": 14,
     "metadata": {},
     "output_type": "execute_result"
    }
   ],
   "source": [
    "np.array(list1) # List and tuple are same for np"
   ]
  },
  {
   "cell_type": "code",
   "execution_count": 15,
   "id": "6994f8fc",
   "metadata": {},
   "outputs": [
    {
     "data": {
      "text/plain": [
       "array([1, 2, 3, 4])"
      ]
     },
     "execution_count": 15,
     "metadata": {},
     "output_type": "execute_result"
    }
   ],
   "source": [
    "np.array(tuple1) # List and tuple are same for np"
   ]
  },
  {
   "cell_type": "code",
   "execution_count": null,
   "id": "87eee905",
   "metadata": {},
   "outputs": [],
   "source": []
  },
  {
   "cell_type": "code",
   "execution_count": 17,
   "id": "c5bd2343",
   "metadata": {},
   "outputs": [
    {
     "data": {
      "text/plain": [
       "array([   1,   10,  100, 1000])"
      ]
     },
     "execution_count": 17,
     "metadata": {},
     "output_type": "execute_result"
    }
   ],
   "source": [
    "arr1 = np.array([1,10,100,1000]) #Similar Data\n",
    "arr1"
   ]
  },
  {
   "cell_type": "code",
   "execution_count": 18,
   "id": "ab9c6b87",
   "metadata": {},
   "outputs": [
    {
     "data": {
      "text/plain": [
       "array(['a', 'b', 'c', 'd'], dtype='<U1')"
      ]
     },
     "execution_count": 18,
     "metadata": {},
     "output_type": "execute_result"
    }
   ],
   "source": [
    "arr2 = np.array([\"a\",\"b\",\"c\",\"d\"]) #Similar Data\n",
    "arr2"
   ]
  },
  {
   "cell_type": "code",
   "execution_count": 23,
   "id": "edfa9cb7",
   "metadata": {},
   "outputs": [
    {
     "data": {
      "text/plain": [
       "array(['1', '2', '3', 'c'], dtype='<U21')"
      ]
     },
     "execution_count": 23,
     "metadata": {},
     "output_type": "execute_result"
    }
   ],
   "source": [
    "arr3 = np.array([1,2,3,\"c\"]) # Dis-similar data are all converted into string\n",
    "arr3"
   ]
  },
  {
   "cell_type": "code",
   "execution_count": 33,
   "id": "df480253",
   "metadata": {},
   "outputs": [
    {
     "data": {
      "text/plain": [
       "array([1. , 2. , 3. , 4. , 5. , 3.2])"
      ]
     },
     "execution_count": 33,
     "metadata": {},
     "output_type": "execute_result"
    }
   ],
   "source": [
    "arr4 = np.array([1,2,3,4,5,3.2]) # all is converted into float\n",
    "arr4"
   ]
  },
  {
   "cell_type": "code",
   "execution_count": 34,
   "id": "ba50e2fc",
   "metadata": {},
   "outputs": [
    {
     "data": {
      "text/plain": [
       "(6,)"
      ]
     },
     "execution_count": 34,
     "metadata": {},
     "output_type": "execute_result"
    }
   ],
   "source": [
    "arr4.shape # Checking the dimension of array"
   ]
  },
  {
   "cell_type": "code",
   "execution_count": 38,
   "id": "3ccf7c55",
   "metadata": {},
   "outputs": [
    {
     "data": {
      "text/plain": [
       "3.2"
      ]
     },
     "execution_count": 38,
     "metadata": {},
     "output_type": "execute_result"
    }
   ],
   "source": [
    "arr4[5] # Elements can be accessed as in list"
   ]
  },
  {
   "cell_type": "code",
   "execution_count": 36,
   "id": "e43c6300",
   "metadata": {},
   "outputs": [
    {
     "data": {
      "text/plain": [
       "array([3.2, 5. , 4. , 3. , 2. , 1. ])"
      ]
     },
     "execution_count": 36,
     "metadata": {},
     "output_type": "execute_result"
    }
   ],
   "source": [
    "arr4[::-1]"
   ]
  },
  {
   "cell_type": "code",
   "execution_count": 37,
   "id": "38812980",
   "metadata": {},
   "outputs": [
    {
     "data": {
      "text/plain": [
       "array([1., 3., 5.])"
      ]
     },
     "execution_count": 37,
     "metadata": {},
     "output_type": "execute_result"
    }
   ],
   "source": [
    "arr4[::2]"
   ]
  },
  {
   "cell_type": "markdown",
   "id": "1abaaf81",
   "metadata": {},
   "source": [
    "# 2 - D Array"
   ]
  },
  {
   "cell_type": "code",
   "execution_count": 140,
   "id": "42f8c14e",
   "metadata": {},
   "outputs": [
    {
     "name": "stdout",
     "output_type": "stream",
     "text": [
      "[[ 4  5  6]\n",
      " [ 8  5  6]\n",
      " [11  4  7]]\n"
     ]
    }
   ],
   "source": [
    "arr_2d = np.array([[4,5,6],[8,5,6],[11,4,7]]) # Matrix\n",
    "print(arr_2d)"
   ]
  },
  {
   "cell_type": "code",
   "execution_count": 30,
   "id": "1cd4281e",
   "metadata": {},
   "outputs": [
    {
     "data": {
      "text/plain": [
       "numpy.ndarray"
      ]
     },
     "execution_count": 30,
     "metadata": {},
     "output_type": "execute_result"
    }
   ],
   "source": [
    "type(arr_2d)"
   ]
  },
  {
   "cell_type": "code",
   "execution_count": 66,
   "id": "4b44d4b8",
   "metadata": {},
   "outputs": [
    {
     "data": {
      "text/plain": [
       "(3, 3)"
      ]
     },
     "execution_count": 66,
     "metadata": {},
     "output_type": "execute_result"
    }
   ],
   "source": [
    "arr_2d.shape # Gives shape/dimension of the array"
   ]
  },
  {
   "cell_type": "code",
   "execution_count": 42,
   "id": "fc8b85d4",
   "metadata": {},
   "outputs": [
    {
     "data": {
      "text/plain": [
       "7"
      ]
     },
     "execution_count": 42,
     "metadata": {},
     "output_type": "execute_result"
    }
   ],
   "source": [
    "arr_2d[2,2] # Accessing the elements of a 2-d array"
   ]
  },
  {
   "cell_type": "code",
   "execution_count": 41,
   "id": "38227de0",
   "metadata": {},
   "outputs": [
    {
     "data": {
      "text/plain": [
       "4"
      ]
     },
     "execution_count": 41,
     "metadata": {},
     "output_type": "execute_result"
    }
   ],
   "source": [
    "arr_2d[0,0]"
   ]
  },
  {
   "cell_type": "code",
   "execution_count": 49,
   "id": "eb1984e2",
   "metadata": {},
   "outputs": [
    {
     "data": {
      "text/plain": [
       "array([[1., 1., 1., 1., 1., 1., 1.],\n",
       "       [1., 1., 1., 1., 1., 1., 1.],\n",
       "       [1., 1., 1., 1., 1., 1., 1.],\n",
       "       [1., 1., 1., 1., 1., 1., 1.]])"
      ]
     },
     "execution_count": 49,
     "metadata": {},
     "output_type": "execute_result"
    }
   ],
   "source": [
    "# Array with all ones and zeros\n",
    "arr_1s = np.ones([4,7])\n",
    "arr_1s"
   ]
  },
  {
   "cell_type": "code",
   "execution_count": null,
   "id": "3429d30e",
   "metadata": {},
   "outputs": [],
   "source": []
  },
  {
   "cell_type": "code",
   "execution_count": 50,
   "id": "14972afe",
   "metadata": {},
   "outputs": [
    {
     "data": {
      "text/plain": [
       "array([1., 1., 1., 1.])"
      ]
     },
     "execution_count": 50,
     "metadata": {},
     "output_type": "execute_result"
    }
   ],
   "source": [
    "arr_1s = np.ones([4,])\n",
    "arr_1s"
   ]
  },
  {
   "cell_type": "code",
   "execution_count": 51,
   "id": "7b56384f",
   "metadata": {},
   "outputs": [
    {
     "data": {
      "text/plain": [
       "array([1., 1., 1., 1., 1., 1., 1.])"
      ]
     },
     "execution_count": 51,
     "metadata": {},
     "output_type": "execute_result"
    }
   ],
   "source": [
    "arr_1s = np.ones([7])\n",
    "arr_1s"
   ]
  },
  {
   "cell_type": "code",
   "execution_count": 48,
   "id": "ff6a8e40",
   "metadata": {},
   "outputs": [
    {
     "data": {
      "text/plain": [
       "array([[0., 0., 0., 0., 0., 0., 0.],\n",
       "       [0., 0., 0., 0., 0., 0., 0.],\n",
       "       [0., 0., 0., 0., 0., 0., 0.]])"
      ]
     },
     "execution_count": 48,
     "metadata": {},
     "output_type": "execute_result"
    }
   ],
   "source": [
    "arr_0s = np.zeros([3,7])\n",
    "arr_0s"
   ]
  },
  {
   "cell_type": "markdown",
   "id": "acadab2d",
   "metadata": {},
   "source": [
    "# 3-D Array"
   ]
  },
  {
   "cell_type": "code",
   "execution_count": 53,
   "id": "7571ac36",
   "metadata": {},
   "outputs": [
    {
     "data": {
      "text/plain": [
       "array([[[1., 1.],\n",
       "        [1., 1.],\n",
       "        [1., 1.],\n",
       "        [1., 1.],\n",
       "        [1., 1.],\n",
       "        [1., 1.],\n",
       "        [1., 1.]],\n",
       "\n",
       "       [[1., 1.],\n",
       "        [1., 1.],\n",
       "        [1., 1.],\n",
       "        [1., 1.],\n",
       "        [1., 1.],\n",
       "        [1., 1.],\n",
       "        [1., 1.]],\n",
       "\n",
       "       [[1., 1.],\n",
       "        [1., 1.],\n",
       "        [1., 1.],\n",
       "        [1., 1.],\n",
       "        [1., 1.],\n",
       "        [1., 1.],\n",
       "        [1., 1.]],\n",
       "\n",
       "       [[1., 1.],\n",
       "        [1., 1.],\n",
       "        [1., 1.],\n",
       "        [1., 1.],\n",
       "        [1., 1.],\n",
       "        [1., 1.],\n",
       "        [1., 1.]]])"
      ]
     },
     "execution_count": 53,
     "metadata": {},
     "output_type": "execute_result"
    }
   ],
   "source": [
    "arr_1s = np.ones([4,7,2]) # 4 Rows, 7 Coloumn each element have two values in form of array\n",
    "arr_1s"
   ]
  },
  {
   "cell_type": "code",
   "execution_count": 58,
   "id": "09b105cb",
   "metadata": {},
   "outputs": [
    {
     "data": {
      "text/plain": [
       "array([[[4, 2, 5],\n",
       "        [3, 5, 8]],\n",
       "\n",
       "       [[5, 8, 4],\n",
       "        [6, 4, 9]]])"
      ]
     },
     "execution_count": 58,
     "metadata": {},
     "output_type": "execute_result"
    }
   ],
   "source": [
    "arr_3d = np.array([[[4,2,5],[3,5,8]] , [[5,8,4],[6,4,9]]])\n",
    "arr_3d"
   ]
  },
  {
   "cell_type": "code",
   "execution_count": 59,
   "id": "d479f89d",
   "metadata": {},
   "outputs": [
    {
     "data": {
      "text/plain": [
       "numpy.ndarray"
      ]
     },
     "execution_count": 59,
     "metadata": {},
     "output_type": "execute_result"
    }
   ],
   "source": [
    "type(arr_3d)"
   ]
  },
  {
   "cell_type": "code",
   "execution_count": 60,
   "id": "8e4f6e0c",
   "metadata": {},
   "outputs": [
    {
     "data": {
      "text/plain": [
       "(2, 2, 3)"
      ]
     },
     "execution_count": 60,
     "metadata": {},
     "output_type": "execute_result"
    }
   ],
   "source": [
    "arr_3d.shape  # Gives shape/dimension of the array"
   ]
  },
  {
   "cell_type": "code",
   "execution_count": 65,
   "id": "a3ce594c",
   "metadata": {},
   "outputs": [
    {
     "data": {
      "text/plain": [
       "9"
      ]
     },
     "execution_count": 65,
     "metadata": {},
     "output_type": "execute_result"
    }
   ],
   "source": [
    "arr_3d[1,1,2] # Last Element"
   ]
  },
  {
   "cell_type": "markdown",
   "id": "8474a1da",
   "metadata": {},
   "source": [
    "# Array Reshaping\n",
    "\n",
    "* changing shape(dimension) of array, we canadd remove dimensions and can edit number of elements in each dimention"
   ]
  },
  {
   "cell_type": "code",
   "execution_count": 67,
   "id": "bddc6bd7",
   "metadata": {},
   "outputs": [],
   "source": [
    "arr = np.array([1,5,2,4,6,8,9,7])"
   ]
  },
  {
   "cell_type": "code",
   "execution_count": 68,
   "id": "8b7bad51",
   "metadata": {},
   "outputs": [
    {
     "data": {
      "text/plain": [
       "(8,)"
      ]
     },
     "execution_count": 68,
     "metadata": {},
     "output_type": "execute_result"
    }
   ],
   "source": [
    "arr.shape"
   ]
  },
  {
   "cell_type": "code",
   "execution_count": 69,
   "id": "47dff938",
   "metadata": {},
   "outputs": [
    {
     "data": {
      "text/plain": [
       "array([[1, 5],\n",
       "       [2, 4],\n",
       "       [6, 8],\n",
       "       [9, 7]])"
      ]
     },
     "execution_count": 69,
     "metadata": {},
     "output_type": "execute_result"
    }
   ],
   "source": [
    "new_arr1 = arr.reshape(4,2)\n",
    "new_arr1"
   ]
  },
  {
   "cell_type": "code",
   "execution_count": 70,
   "id": "0d638815",
   "metadata": {},
   "outputs": [
    {
     "data": {
      "text/plain": [
       "array([[1, 5, 2, 4],\n",
       "       [6, 8, 9, 7]])"
      ]
     },
     "execution_count": 70,
     "metadata": {},
     "output_type": "execute_result"
    }
   ],
   "source": [
    "new_arr2 = arr.reshape(2,4)\n",
    "new_arr2"
   ]
  },
  {
   "cell_type": "code",
   "execution_count": 76,
   "id": "752298a9",
   "metadata": {},
   "outputs": [
    {
     "data": {
      "text/plain": [
       "array([[1, 5, 2, 4, 6, 8, 9, 7]])"
      ]
     },
     "execution_count": 76,
     "metadata": {},
     "output_type": "execute_result"
    }
   ],
   "source": [
    "new_arr3 = arr.reshape(1,8)\n",
    "new_arr3"
   ]
  },
  {
   "cell_type": "code",
   "execution_count": 75,
   "id": "45eba3e0",
   "metadata": {},
   "outputs": [
    {
     "data": {
      "text/plain": [
       "array([[1],\n",
       "       [5],\n",
       "       [2],\n",
       "       [4],\n",
       "       [6],\n",
       "       [8],\n",
       "       [9],\n",
       "       [7]])"
      ]
     },
     "execution_count": 75,
     "metadata": {},
     "output_type": "execute_result"
    }
   ],
   "source": [
    "new_arr4 = arr.reshape(8,1)\n",
    "new_arr4"
   ]
  },
  {
   "cell_type": "code",
   "execution_count": 77,
   "id": "90e734c2",
   "metadata": {},
   "outputs": [
    {
     "data": {
      "text/plain": [
       "(1, 8)"
      ]
     },
     "execution_count": 77,
     "metadata": {},
     "output_type": "execute_result"
    }
   ],
   "source": [
    "new_arr3.shape"
   ]
  },
  {
   "cell_type": "code",
   "execution_count": 78,
   "id": "647bd3a5",
   "metadata": {},
   "outputs": [
    {
     "data": {
      "text/plain": [
       "(8, 1)"
      ]
     },
     "execution_count": 78,
     "metadata": {},
     "output_type": "execute_result"
    }
   ],
   "source": [
    "new_arr4.shape"
   ]
  },
  {
   "cell_type": "markdown",
   "id": "7fce2f7f",
   "metadata": {},
   "source": [
    "# Iterating in ARRAY"
   ]
  },
  {
   "cell_type": "code",
   "execution_count": 79,
   "id": "f81bc87f",
   "metadata": {},
   "outputs": [
    {
     "data": {
      "text/plain": [
       "array([1. , 2. , 3. , 4. , 5. , 3.2])"
      ]
     },
     "execution_count": 79,
     "metadata": {},
     "output_type": "execute_result"
    }
   ],
   "source": [
    "arr4"
   ]
  },
  {
   "cell_type": "code",
   "execution_count": 81,
   "id": "1b6adf9d",
   "metadata": {},
   "outputs": [
    {
     "name": "stdout",
     "output_type": "stream",
     "text": [
      "1.0\n",
      "2.0\n",
      "3.0\n",
      "4.0\n",
      "5.0\n",
      "3.2\n"
     ]
    }
   ],
   "source": [
    "for i in arr4:\n",
    "    print(i)"
   ]
  },
  {
   "cell_type": "code",
   "execution_count": 83,
   "id": "d2d17f23",
   "metadata": {},
   "outputs": [
    {
     "data": {
      "text/plain": [
       "array([[1. ],\n",
       "       [2. ],\n",
       "       [3. ],\n",
       "       [4. ],\n",
       "       [5. ],\n",
       "       [3.2]])"
      ]
     },
     "execution_count": 83,
     "metadata": {},
     "output_type": "execute_result"
    }
   ],
   "source": [
    "arr5 = arr4.reshape(6,1) # Row MAtrix\n",
    "arr5"
   ]
  },
  {
   "cell_type": "code",
   "execution_count": 84,
   "id": "17b24391",
   "metadata": {},
   "outputs": [
    {
     "name": "stdout",
     "output_type": "stream",
     "text": [
      "[1.]\n",
      "[2.]\n",
      "[3.]\n",
      "[4.]\n",
      "[5.]\n",
      "[3.2]\n"
     ]
    }
   ],
   "source": [
    "for i in arr5: # Coloumn Matrix\n",
    "    print(i)"
   ]
  },
  {
   "cell_type": "markdown",
   "id": "11915e66",
   "metadata": {},
   "source": [
    "# Joining two arrays"
   ]
  },
  {
   "cell_type": "code",
   "execution_count": 101,
   "id": "8ac2ed32",
   "metadata": {},
   "outputs": [
    {
     "name": "stdout",
     "output_type": "stream",
     "text": [
      "[14 15 21 20  2  1]\n",
      "[1 2 3]\n",
      "['a' 'b' 'c' 'd']\n",
      "['1' '2' '3']\n",
      "[[1. ]\n",
      " [2. ]\n",
      " [3. ]\n",
      " [4. ]\n",
      " [5. ]\n",
      " [3.2]]\n",
      "[1.  2.  3.  4.  5.  3.2]\n"
     ]
    }
   ],
   "source": [
    "arr1 = np.array([14,15,21,20,2,1])\n",
    "arr2 = np.array([1,2,3])\n",
    "arr3 = np.array([\"a\",\"b\",\"c\",\"d\"])\n",
    "arr4 = np.array([\"1\",\"2\",\"3\"])\n",
    "arr5 = np.array([[1. ],\n",
    "       [2. ],\n",
    "       [3. ],\n",
    "       [4. ],\n",
    "       [5. ],\n",
    "       [3.2]])\n",
    "arr6 = np.array([1,2,3,4,5,3.2])\n",
    "print(arr1)\n",
    "print(arr2)\n",
    "print(arr3)\n",
    "print(arr4)\n",
    "print(arr5)\n",
    "print(arr6)"
   ]
  },
  {
   "cell_type": "code",
   "execution_count": 86,
   "id": "f9cf61af",
   "metadata": {},
   "outputs": [
    {
     "data": {
      "text/plain": [
       "array([[1. ],\n",
       "       [2. ],\n",
       "       [3. ],\n",
       "       [4. ],\n",
       "       [5. ],\n",
       "       [3.2]])"
      ]
     },
     "execution_count": 86,
     "metadata": {},
     "output_type": "execute_result"
    }
   ],
   "source": [
    "arr5"
   ]
  },
  {
   "cell_type": "code",
   "execution_count": 105,
   "id": "3cd1cde6",
   "metadata": {},
   "outputs": [
    {
     "data": {
      "text/plain": [
       "array([[ 2. ],\n",
       "       [ 4. ],\n",
       "       [ 6. ],\n",
       "       [ 8. ],\n",
       "       [10. ],\n",
       "       [ 6.4]])"
      ]
     },
     "execution_count": 105,
     "metadata": {},
     "output_type": "execute_result"
    }
   ],
   "source": [
    "arr5+arr5"
   ]
  },
  {
   "cell_type": "code",
   "execution_count": 106,
   "id": "e2d6ca9b",
   "metadata": {},
   "outputs": [
    {
     "data": {
      "text/plain": [
       "array([[ 2. ,  3. ,  4. ,  5. ,  6. ,  4.2],\n",
       "       [ 3. ,  4. ,  5. ,  6. ,  7. ,  5.2],\n",
       "       [ 4. ,  5. ,  6. ,  7. ,  8. ,  6.2],\n",
       "       [ 5. ,  6. ,  7. ,  8. ,  9. ,  7.2],\n",
       "       [ 6. ,  7. ,  8. ,  9. , 10. ,  8.2],\n",
       "       [ 4.2,  5.2,  6.2,  7.2,  8.2,  6.4]])"
      ]
     },
     "execution_count": 106,
     "metadata": {},
     "output_type": "execute_result"
    }
   ],
   "source": [
    "arr5+arr6"
   ]
  },
  {
   "cell_type": "code",
   "execution_count": 111,
   "id": "74766a2e",
   "metadata": {},
   "outputs": [
    {
     "data": {
      "text/plain": [
       "array(['a', 'b', 'c', 'd', '1', '2', '3'], dtype='<U1')"
      ]
     },
     "execution_count": 111,
     "metadata": {},
     "output_type": "execute_result"
    }
   ],
   "source": [
    "np.concatenate((arr3,arr4)) # Adding two string arrays"
   ]
  },
  {
   "cell_type": "code",
   "execution_count": 112,
   "id": "6f990d10",
   "metadata": {},
   "outputs": [
    {
     "data": {
      "text/plain": [
       "array([14, 15, 21, 20,  2,  1,  1,  2,  3])"
      ]
     },
     "execution_count": 112,
     "metadata": {},
     "output_type": "execute_result"
    }
   ],
   "source": [
    "np.concatenate((arr1,arr2)) # Adding two interger arrays"
   ]
  },
  {
   "cell_type": "code",
   "execution_count": 115,
   "id": "0e44f602",
   "metadata": {},
   "outputs": [
    {
     "data": {
      "text/plain": [
       "array(['1', '2', '3', 'a', 'b', 'c', 'd'], dtype='<U21')"
      ]
     },
     "execution_count": 115,
     "metadata": {},
     "output_type": "execute_result"
    }
   ],
   "source": [
    "np.concatenate((arr2,arr3)) # Adding two dissimilar data converted into string"
   ]
  },
  {
   "cell_type": "code",
   "execution_count": 116,
   "id": "0ba7fba8",
   "metadata": {},
   "outputs": [
    {
     "ename": "ValueError",
     "evalue": "all the input arrays must have same number of dimensions, but the array at index 0 has 2 dimension(s) and the array at index 1 has 1 dimension(s)",
     "output_type": "error",
     "traceback": [
      "\u001b[0;31m---------------------------------------------------------------------------\u001b[0m",
      "\u001b[0;31mValueError\u001b[0m                                Traceback (most recent call last)",
      "\u001b[0;32m<ipython-input-116-9f90a26fbe51>\u001b[0m in \u001b[0;36m<module>\u001b[0;34m\u001b[0m\n\u001b[0;32m----> 1\u001b[0;31m \u001b[0mnp\u001b[0m\u001b[0;34m.\u001b[0m\u001b[0mconcatenate\u001b[0m\u001b[0;34m(\u001b[0m\u001b[0;34m(\u001b[0m\u001b[0marr5\u001b[0m\u001b[0;34m,\u001b[0m\u001b[0marr6\u001b[0m\u001b[0;34m)\u001b[0m\u001b[0;34m)\u001b[0m\u001b[0;34m\u001b[0m\u001b[0;34m\u001b[0m\u001b[0m\n\u001b[0m",
      "\u001b[0;32m<__array_function__ internals>\u001b[0m in \u001b[0;36mconcatenate\u001b[0;34m(*args, **kwargs)\u001b[0m\n",
      "\u001b[0;31mValueError\u001b[0m: all the input arrays must have same number of dimensions, but the array at index 0 has 2 dimension(s) and the array at index 1 has 1 dimension(s)"
     ]
    }
   ],
   "source": [
    "np.concatenate((arr5,arr6)) # Dimensions should be same"
   ]
  },
  {
   "cell_type": "code",
   "execution_count": 119,
   "id": "5008f3f2",
   "metadata": {},
   "outputs": [
    {
     "data": {
      "text/plain": [
       "array([[ 2. ,  3. ,  4. ,  5. ,  6. ,  4.2],\n",
       "       [ 3. ,  4. ,  5. ,  6. ,  7. ,  5.2],\n",
       "       [ 4. ,  5. ,  6. ,  7. ,  8. ,  6.2],\n",
       "       [ 5. ,  6. ,  7. ,  8. ,  9. ,  7.2],\n",
       "       [ 6. ,  7. ,  8. ,  9. , 10. ,  8.2],\n",
       "       [ 4.2,  5.2,  6.2,  7.2,  8.2,  6.4]])"
      ]
     },
     "execution_count": 119,
     "metadata": {},
     "output_type": "execute_result"
    }
   ],
   "source": [
    "arr6+arr5 # This plus sign is Mathmatical operation"
   ]
  },
  {
   "cell_type": "markdown",
   "id": "e40a3d27",
   "metadata": {},
   "source": [
    "# Sorting"
   ]
  },
  {
   "cell_type": "code",
   "execution_count": 151,
   "id": "0d4f4bb3",
   "metadata": {},
   "outputs": [
    {
     "name": "stdout",
     "output_type": "stream",
     "text": [
      "[14 15 21 20  2  1]\n",
      "[1 2 3]\n",
      "['a' 'e' 'h' 'd']\n",
      "['1' '2' '3']\n",
      "[[1. ]\n",
      " [2. ]\n",
      " [3. ]\n",
      " [4. ]\n",
      " [5. ]\n",
      " [3.2]]\n",
      "[1.  2.  3.  4.  5.  3.2]\n",
      "['a' 'e' 'h' 'd' '1' '2' '3']\n",
      "[[ 4 58  6 12 15]\n",
      " [ 5  8 12 10  1]]\n",
      "[['f' '5' '7' 'Ye' 'He']\n",
      " ['E' 'W' '0' 's' '1']]\n",
      "[[[4 2 5]\n",
      "  [3 5 8]]\n",
      "\n",
      " [[5 8 4]\n",
      "  [6 4 9]]]\n"
     ]
    }
   ],
   "source": [
    "arr1 = np.array([14,15,21,20,2,1])\n",
    "arr2 = np.array([1,2,3])\n",
    "arr3 = np.array([\"a\",\"e\",\"h\",\"d\"])\n",
    "arr4 = np.array([\"1\",\"2\",\"3\"])\n",
    "arr5 = np.array([[1. ],\n",
    "       [2. ],\n",
    "       [3. ],\n",
    "       [4. ],\n",
    "       [5. ],\n",
    "       [3.2]])\n",
    "arr6 = np.array([1,2,3,4,5,3.2])\n",
    "arr7 = np.array(['a', 'e', 'h', 'd', '1', '2', '3'])\n",
    "arr8 = np.array([[4,58,6,12,15],[5,8,12,10,1]])\n",
    "arr9 = np.array([[\"f\",\"5\",\"7\",\"Ye\",\"He\"],[\"E\",\"W\",\"0\",\"s\",\"1\"]])\n",
    "arr10 = np.array([[[4,2,5],[3,5,8]] , [[5,8,4],[6,4,9]]])\n",
    "print(arr1)\n",
    "print(arr2)\n",
    "print(arr3)\n",
    "print(arr4)\n",
    "print(arr5)\n",
    "print(arr6)\n",
    "print(arr7)\n",
    "print(arr8)\n",
    "print(arr9)\n",
    "print(arr10)"
   ]
  },
  {
   "cell_type": "code",
   "execution_count": 121,
   "id": "9b163d44",
   "metadata": {},
   "outputs": [
    {
     "data": {
      "text/plain": [
       "array([ 1,  2, 14, 15, 20, 21])"
      ]
     },
     "execution_count": 121,
     "metadata": {},
     "output_type": "execute_result"
    }
   ],
   "source": [
    "np.sort(arr1) # Sorting"
   ]
  },
  {
   "cell_type": "code",
   "execution_count": 124,
   "id": "e078052c",
   "metadata": {},
   "outputs": [
    {
     "data": {
      "text/plain": [
       "array(['a', 'd', 'e', 'h'], dtype='<U1')"
      ]
     },
     "execution_count": 124,
     "metadata": {},
     "output_type": "execute_result"
    }
   ],
   "source": [
    "np.sort(arr3) # Sort according to alphabet"
   ]
  },
  {
   "cell_type": "code",
   "execution_count": 126,
   "id": "3b275e50",
   "metadata": {},
   "outputs": [
    {
     "data": {
      "text/plain": [
       "array([[1. ],\n",
       "       [2. ],\n",
       "       [3. ],\n",
       "       [4. ],\n",
       "       [5. ],\n",
       "       [3.2]])"
      ]
     },
     "execution_count": 126,
     "metadata": {},
     "output_type": "execute_result"
    }
   ],
   "source": [
    "np.sort(arr5) # Coloumn will be sorted as coloumn matrix"
   ]
  },
  {
   "cell_type": "code",
   "execution_count": 128,
   "id": "b74f87ca",
   "metadata": {},
   "outputs": [
    {
     "data": {
      "text/plain": [
       "array([[ 2. ,  3. ,  4. ,  4.2,  5. ,  6. ],\n",
       "       [ 3. ,  4. ,  5. ,  5.2,  6. ,  7. ],\n",
       "       [ 4. ,  5. ,  6. ,  6.2,  7. ,  8. ],\n",
       "       [ 5. ,  6. ,  7. ,  7.2,  8. ,  9. ],\n",
       "       [ 6. ,  7. ,  8. ,  8.2,  9. , 10. ],\n",
       "       [ 4.2,  5.2,  6.2,  6.4,  7.2,  8.2]])"
      ]
     },
     "execution_count": 128,
     "metadata": {},
     "output_type": "execute_result"
    }
   ],
   "source": [
    "np.sort(arr5+arr6) #2-D and 3-D matrix are sorted row wise"
   ]
  },
  {
   "cell_type": "code",
   "execution_count": 134,
   "id": "6ccd4d0f",
   "metadata": {},
   "outputs": [
    {
     "data": {
      "text/plain": [
       "array(['a', 'e', 'h', 'd', '1', '2', '3'], dtype='<U1')"
      ]
     },
     "execution_count": 134,
     "metadata": {},
     "output_type": "execute_result"
    }
   ],
   "source": [
    "arr7 = np.concatenate((arr3,arr4))\n",
    "arr7"
   ]
  },
  {
   "cell_type": "code",
   "execution_count": 135,
   "id": "dcdb8127",
   "metadata": {},
   "outputs": [
    {
     "data": {
      "text/plain": [
       "array(['1', '2', '3', 'a', 'd', 'e', 'h'], dtype='<U1')"
      ]
     },
     "execution_count": 135,
     "metadata": {},
     "output_type": "execute_result"
    }
   ],
   "source": [
    "np.sort(arr7)"
   ]
  },
  {
   "cell_type": "code",
   "execution_count": 154,
   "id": "1a6ea588",
   "metadata": {},
   "outputs": [
    {
     "data": {
      "text/plain": [
       "array(['1', '2', '3', 'a', 'd', 'e', 'h'], dtype='<U1')"
      ]
     },
     "execution_count": 154,
     "metadata": {},
     "output_type": "execute_result"
    }
   ],
   "source": [
    "arr7.sort() # This method can also be used and it replaces the array with sorted array\n",
    "arr7"
   ]
  },
  {
   "cell_type": "code",
   "execution_count": null,
   "id": "c6a5b27b",
   "metadata": {},
   "outputs": [],
   "source": []
  },
  {
   "cell_type": "markdown",
   "id": "066737b6",
   "metadata": {},
   "source": [
    "# Array Splitting "
   ]
  },
  {
   "cell_type": "code",
   "execution_count": 1,
   "id": "70a52fb2",
   "metadata": {},
   "outputs": [],
   "source": [
    "arr = np.array([1,5,8,9,4,5,6,7])"
   ]
  },
  {
   "cell_type": "code",
   "execution_count": 4,
   "id": "5c6691c8",
   "metadata": {},
   "outputs": [
    {
     "data": {
      "text/plain": [
       "[array([1, 5]), array([8, 9]), array([4, 5]), array([6, 7])]"
      ]
     },
     "execution_count": 4,
     "metadata": {},
     "output_type": "execute_result"
    }
   ],
   "source": [
    "np.split(arr,4)"
   ]
  },
  {
   "cell_type": "code",
   "execution_count": 10,
   "id": "103bca0e",
   "metadata": {},
   "outputs": [
    {
     "name": "stdout",
     "output_type": "stream",
     "text": [
      "[array([1, 5]), array([8, 9]), array([4, 5]), array([6, 7])]\n"
     ]
    }
   ],
   "source": [
    "new_arr = np.split(arr,4) # It splits array into 4 equal parts, and forms a list of arrays \n",
    "print(new_arr)"
   ]
  },
  {
   "cell_type": "code",
   "execution_count": 8,
   "id": "36613734",
   "metadata": {},
   "outputs": [
    {
     "data": {
      "text/plain": [
       "list"
      ]
     },
     "execution_count": 8,
     "metadata": {},
     "output_type": "execute_result"
    }
   ],
   "source": [
    "type(new_arr)"
   ]
  },
  {
   "cell_type": "code",
   "execution_count": 9,
   "id": "dff0d4de",
   "metadata": {},
   "outputs": [
    {
     "data": {
      "text/plain": [
       "numpy.ndarray"
      ]
     },
     "execution_count": 9,
     "metadata": {},
     "output_type": "execute_result"
    }
   ],
   "source": [
    "type(new_arr[1])"
   ]
  },
  {
   "cell_type": "code",
   "execution_count": null,
   "id": "76a2ab5d",
   "metadata": {},
   "outputs": [],
   "source": []
  }
 ],
 "metadata": {
  "kernelspec": {
   "display_name": "Python 3",
   "language": "python",
   "name": "python3"
  },
  "language_info": {
   "codemirror_mode": {
    "name": "ipython",
    "version": 3
   },
   "file_extension": ".py",
   "mimetype": "text/x-python",
   "name": "python",
   "nbconvert_exporter": "python",
   "pygments_lexer": "ipython3",
   "version": "3.8.8"
  },
  "varInspector": {
   "cols": {
    "lenName": 16,
    "lenType": 16,
    "lenVar": 40
   },
   "kernels_config": {
    "python": {
     "delete_cmd_postfix": "",
     "delete_cmd_prefix": "del ",
     "library": "var_list.py",
     "varRefreshCmd": "print(var_dic_list())"
    },
    "r": {
     "delete_cmd_postfix": ") ",
     "delete_cmd_prefix": "rm(",
     "library": "var_list.r",
     "varRefreshCmd": "cat(var_dic_list()) "
    }
   },
   "position": {
    "height": "294.85px",
    "left": "924px",
    "right": "20px",
    "top": "120px",
    "width": "350px"
   },
   "types_to_exclude": [
    "module",
    "function",
    "builtin_function_or_method",
    "instance",
    "_Feature"
   ],
   "window_display": true
  }
 },
 "nbformat": 4,
 "nbformat_minor": 5
}
