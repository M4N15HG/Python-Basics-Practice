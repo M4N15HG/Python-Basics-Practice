{
 "cells": [
  {
   "cell_type": "markdown",
   "id": "2411f88b",
   "metadata": {},
   "source": [
    "# Numpy\n",
    "\n",
    "* Numerical Python\n",
    "* Data Type : ndarray : similar to list : works with array : 50 times faster than lists : can perform numerical operations on array : we cannot perform mathmatical operations on lists.\n",
    "* Collection of similar data type\n",
    "* 1-D, 2-D, 3-D arrays possible\n",
    "* ndarray : N - Dimentional Array"
   ]
  },
  {
   "cell_type": "code",
   "execution_count": 1,
   "id": "29cb0770",
   "metadata": {},
   "outputs": [
    {
     "name": "stdout",
     "output_type": "stream",
     "text": [
      "Requirement already satisfied: numpy in /home/nobody11/anaconda3/lib/python3.8/site-packages (1.20.1)\r\n"
     ]
    }
   ],
   "source": [
    "!pip install numpy"
   ]
  },
  {
   "cell_type": "code",
   "execution_count": null,
   "id": "857c9ffb",
   "metadata": {},
   "outputs": [],
   "source": []
  },
  {
   "cell_type": "code",
   "execution_count": 2,
   "id": "e934dde6",
   "metadata": {},
   "outputs": [],
   "source": [
    "import numpy"
   ]
  },
  {
   "cell_type": "code",
   "execution_count": 3,
   "id": "89b917df",
   "metadata": {},
   "outputs": [],
   "source": [
    "arr = numpy.array([45,25,65,23,12])"
   ]
  },
  {
   "cell_type": "code",
   "execution_count": 4,
   "id": "bf9ce831",
   "metadata": {},
   "outputs": [
    {
     "data": {
      "text/plain": [
       "numpy.ndarray"
      ]
     },
     "execution_count": 4,
     "metadata": {},
     "output_type": "execute_result"
    }
   ],
   "source": [
    "type(arr)"
   ]
  },
  {
   "cell_type": "code",
   "execution_count": 5,
   "id": "e4cfacb6",
   "metadata": {},
   "outputs": [],
   "source": [
    "import numpy as np # numpy as np is used as alias everywhere so that its easier to use."
   ]
  },
  {
   "cell_type": "code",
   "execution_count": 6,
   "id": "3b7beea0",
   "metadata": {},
   "outputs": [],
   "source": [
    "arr = np.array([12,54,23,85,22,101])"
   ]
  },
  {
   "cell_type": "code",
   "execution_count": 7,
   "id": "097530c1",
   "metadata": {},
   "outputs": [
    {
     "data": {
      "text/plain": [
       "numpy.ndarray"
      ]
     },
     "execution_count": 7,
     "metadata": {},
     "output_type": "execute_result"
    }
   ],
   "source": [
    "type(arr)"
   ]
  },
  {
   "cell_type": "code",
   "execution_count": 10,
   "id": "ff4db1d2",
   "metadata": {},
   "outputs": [
    {
     "data": {
      "text/plain": [
       "'1.20.1'"
      ]
     },
     "execution_count": 10,
     "metadata": {},
     "output_type": "execute_result"
    }
   ],
   "source": [
    "#Checking version\n",
    "np.__version__"
   ]
  },
  {
   "cell_type": "code",
   "execution_count": null,
   "id": "6b1d5f08",
   "metadata": {},
   "outputs": [],
   "source": []
  },
  {
   "cell_type": "code",
   "execution_count": 11,
   "id": "d1aba369",
   "metadata": {},
   "outputs": [
    {
     "data": {
      "text/plain": [
       "array([1, 2, 3, 4])"
      ]
     },
     "execution_count": 11,
     "metadata": {},
     "output_type": "execute_result"
    }
   ],
   "source": [
    "# Creating array\n",
    "#Way 1\n",
    "np.array([1,2,3,4])"
   ]
  },
  {
   "cell_type": "code",
   "execution_count": 12,
   "id": "6452aa2d",
   "metadata": {},
   "outputs": [
    {
     "data": {
      "text/plain": [
       "array([1, 2, 3, 4])"
      ]
     },
     "execution_count": 12,
     "metadata": {},
     "output_type": "execute_result"
    }
   ],
   "source": [
    "#Way 2\n",
    "np.array((1,2,3,4))"
   ]
  },
  {
   "cell_type": "code",
   "execution_count": 13,
   "id": "863e62be",
   "metadata": {},
   "outputs": [],
   "source": [
    "list1 = [1,2,3,4]\n",
    "tuple1 = (1,2,3,4)"
   ]
  },
  {
   "cell_type": "code",
   "execution_count": 14,
   "id": "3e68b0c3",
   "metadata": {},
   "outputs": [
    {
     "data": {
      "text/plain": [
       "array([1, 2, 3, 4])"
      ]
     },
     "execution_count": 14,
     "metadata": {},
     "output_type": "execute_result"
    }
   ],
   "source": [
    "np.array(list1) # List and tuple are same for np"
   ]
  },
  {
   "cell_type": "code",
   "execution_count": 15,
   "id": "6994f8fc",
   "metadata": {},
   "outputs": [
    {
     "data": {
      "text/plain": [
       "array([1, 2, 3, 4])"
      ]
     },
     "execution_count": 15,
     "metadata": {},
     "output_type": "execute_result"
    }
   ],
   "source": [
    "np.array(tuple1) # List and tuple are same for np"
   ]
  },
  {
   "cell_type": "code",
   "execution_count": null,
   "id": "87eee905",
   "metadata": {},
   "outputs": [],
   "source": []
  },
  {
   "cell_type": "code",
   "execution_count": 17,
   "id": "c5bd2343",
   "metadata": {},
   "outputs": [
    {
     "data": {
      "text/plain": [
       "array([   1,   10,  100, 1000])"
      ]
     },
     "execution_count": 17,
     "metadata": {},
     "output_type": "execute_result"
    }
   ],
   "source": [
    "arr1 = np.array([1,10,100,1000]) #Similar Data\n",
    "arr1"
   ]
  },
  {
   "cell_type": "code",
   "execution_count": 18,
   "id": "ab9c6b87",
   "metadata": {},
   "outputs": [
    {
     "data": {
      "text/plain": [
       "array(['a', 'b', 'c', 'd'], dtype='<U1')"
      ]
     },
     "execution_count": 18,
     "metadata": {},
     "output_type": "execute_result"
    }
   ],
   "source": [
    "arr2 = np.array([\"a\",\"b\",\"c\",\"d\"]) #Similar Data\n",
    "arr2"
   ]
  },
  {
   "cell_type": "code",
   "execution_count": 23,
   "id": "edfa9cb7",
   "metadata": {},
   "outputs": [
    {
     "data": {
      "text/plain": [
       "array(['1', '2', '3', 'c'], dtype='<U21')"
      ]
     },
     "execution_count": 23,
     "metadata": {},
     "output_type": "execute_result"
    }
   ],
   "source": [
    "arr3 = np.array([1,2,3,\"c\"]) # Dis-similar data are all converted into string\n",
    "arr3"
   ]
  },
  {
   "cell_type": "code",
   "execution_count": 33,
   "id": "df480253",
   "metadata": {},
   "outputs": [
    {
     "data": {
      "text/plain": [
       "array([1. , 2. , 3. , 4. , 5. , 3.2])"
      ]
     },
     "execution_count": 33,
     "metadata": {},
     "output_type": "execute_result"
    }
   ],
   "source": [
    "arr4 = np.array([1,2,3,4,5,3.2]) # all is converted into float\n",
    "arr4"
   ]
  },
  {
   "cell_type": "code",
   "execution_count": 34,
   "id": "ba50e2fc",
   "metadata": {},
   "outputs": [
    {
     "data": {
      "text/plain": [
       "(6,)"
      ]
     },
     "execution_count": 34,
     "metadata": {},
     "output_type": "execute_result"
    }
   ],
   "source": [
    "arr4.shape # Checking the dimension of array"
   ]
  },
  {
   "cell_type": "code",
   "execution_count": 38,
   "id": "3ccf7c55",
   "metadata": {},
   "outputs": [
    {
     "data": {
      "text/plain": [
       "3.2"
      ]
     },
     "execution_count": 38,
     "metadata": {},
     "output_type": "execute_result"
    }
   ],
   "source": [
    "arr4[5] # Elements can be accessed as in list"
   ]
  },
  {
   "cell_type": "code",
   "execution_count": 36,
   "id": "e43c6300",
   "metadata": {},
   "outputs": [
    {
     "data": {
      "text/plain": [
       "array([3.2, 5. , 4. , 3. , 2. , 1. ])"
      ]
     },
     "execution_count": 36,
     "metadata": {},
     "output_type": "execute_result"
    }
   ],
   "source": [
    "arr4[::-1]"
   ]
  },
  {
   "cell_type": "code",
   "execution_count": 170,
   "id": "38812980",
   "metadata": {},
   "outputs": [
    {
     "ename": "NameError",
     "evalue": "name 'arr4' is not defined",
     "output_type": "error",
     "traceback": [
      "\u001b[0;31m---------------------------------------------------------------------------\u001b[0m",
      "\u001b[0;31mNameError\u001b[0m                                 Traceback (most recent call last)",
      "\u001b[0;32m<ipython-input-170-598034d7522b>\u001b[0m in \u001b[0;36m<module>\u001b[0;34m\u001b[0m\n\u001b[0;32m----> 1\u001b[0;31m \u001b[0marr4\u001b[0m\u001b[0;34m[\u001b[0m\u001b[0;34m:\u001b[0m\u001b[0;34m:\u001b[0m\u001b[0;36m2\u001b[0m\u001b[0;34m]\u001b[0m\u001b[0;34m\u001b[0m\u001b[0;34m\u001b[0m\u001b[0m\n\u001b[0m",
      "\u001b[0;31mNameError\u001b[0m: name 'arr4' is not defined"
     ]
    }
   ],
   "source": [
    "arr4[::2]"
   ]
  },
  {
   "cell_type": "code",
   "execution_count": 171,
   "id": "dc014e32",
   "metadata": {},
   "outputs": [
    {
     "name": "stdout",
     "output_type": "stream",
     "text": [
      "[[ 1  2  3  4]\n",
      " [ 3  4  5  6]\n",
      " [ 7  8  9 10]] \n",
      "\n",
      "[5 9] \n",
      "\n",
      "[3 4 5 6] \n",
      "\n",
      "[[ 4  5  6]\n",
      " [ 8  9 10]] \n",
      "\n"
     ]
    }
   ],
   "source": [
    "a=np.array([(1,2,3,4),(3,4,5,6),(7,8,9,10)]) # Accessing the elements\n",
    "print(a,\"\\n\")\n",
    "print(a[1:,2],\"\\n\")\n",
    "print(a[1,0:],\"\\n\")\n",
    "print(a[1:,1:],\"\\n\")"
   ]
  },
  {
   "cell_type": "code",
   "execution_count": 178,
   "id": "36d93e70",
   "metadata": {},
   "outputs": [
    {
     "data": {
      "text/plain": [
       "array([[ 5,  6,  7,  8,  9],\n",
       "       [10, 11, 12, 13, 14],\n",
       "       [15, 16, 17, 18, 19]])"
      ]
     },
     "execution_count": 178,
     "metadata": {},
     "output_type": "execute_result"
    }
   ],
   "source": [
    "arr = np.arange(5,20)#Creating array with continious sequensce using RESHAPE AND ARANGE\n",
    "arr.reshape(3,5)"
   ]
  },
  {
   "cell_type": "code",
   "execution_count": null,
   "id": "9aa251be",
   "metadata": {},
   "outputs": [],
   "source": []
  },
  {
   "cell_type": "markdown",
   "id": "1abaaf81",
   "metadata": {},
   "source": [
    "# 2 - D Array"
   ]
  },
  {
   "cell_type": "code",
   "execution_count": 136,
   "id": "42f8c14e",
   "metadata": {},
   "outputs": [
    {
     "name": "stdout",
     "output_type": "stream",
     "text": [
      "[[ 4  5  6]\n",
      " [ 8  5  6]\n",
      " [11  4  7]]\n"
     ]
    }
   ],
   "source": [
    "arr_2d = np.array([[4,5,6],[8,5,6],[11,4,7]]) # Matrix\n",
    "arr_2d = np.array([(4,5,6),(8,5,6),(11,4,7)]) # Round brackets can also be used\n",
    "print(arr_2d)"
   ]
  },
  {
   "cell_type": "code",
   "execution_count": 30,
   "id": "1cd4281e",
   "metadata": {},
   "outputs": [
    {
     "data": {
      "text/plain": [
       "numpy.ndarray"
      ]
     },
     "execution_count": 30,
     "metadata": {},
     "output_type": "execute_result"
    }
   ],
   "source": [
    "type(arr_2d)"
   ]
  },
  {
   "cell_type": "code",
   "execution_count": 66,
   "id": "4b44d4b8",
   "metadata": {},
   "outputs": [
    {
     "data": {
      "text/plain": [
       "(3, 3)"
      ]
     },
     "execution_count": 66,
     "metadata": {},
     "output_type": "execute_result"
    }
   ],
   "source": [
    "arr_2d.shape # Gives shape/dimension of the array"
   ]
  },
  {
   "cell_type": "code",
   "execution_count": 42,
   "id": "fc8b85d4",
   "metadata": {},
   "outputs": [
    {
     "data": {
      "text/plain": [
       "7"
      ]
     },
     "execution_count": 42,
     "metadata": {},
     "output_type": "execute_result"
    }
   ],
   "source": [
    "arr_2d[2,2] # Accessing the elements of a 2-d array"
   ]
  },
  {
   "cell_type": "code",
   "execution_count": 41,
   "id": "38227de0",
   "metadata": {},
   "outputs": [
    {
     "data": {
      "text/plain": [
       "4"
      ]
     },
     "execution_count": 41,
     "metadata": {},
     "output_type": "execute_result"
    }
   ],
   "source": [
    "arr_2d[0,0]"
   ]
  },
  {
   "cell_type": "code",
   "execution_count": 49,
   "id": "eb1984e2",
   "metadata": {},
   "outputs": [
    {
     "data": {
      "text/plain": [
       "array([[1., 1., 1., 1., 1., 1., 1.],\n",
       "       [1., 1., 1., 1., 1., 1., 1.],\n",
       "       [1., 1., 1., 1., 1., 1., 1.],\n",
       "       [1., 1., 1., 1., 1., 1., 1.]])"
      ]
     },
     "execution_count": 49,
     "metadata": {},
     "output_type": "execute_result"
    }
   ],
   "source": [
    "# Array with all ones and zeros\n",
    "arr_1s = np.ones([4,7])\n",
    "arr_1s"
   ]
  },
  {
   "cell_type": "code",
   "execution_count": null,
   "id": "3429d30e",
   "metadata": {},
   "outputs": [],
   "source": []
  },
  {
   "cell_type": "code",
   "execution_count": 50,
   "id": "14972afe",
   "metadata": {},
   "outputs": [
    {
     "data": {
      "text/plain": [
       "array([1., 1., 1., 1.])"
      ]
     },
     "execution_count": 50,
     "metadata": {},
     "output_type": "execute_result"
    }
   ],
   "source": [
    "arr_1s = np.ones([4,])\n",
    "arr_1s"
   ]
  },
  {
   "cell_type": "code",
   "execution_count": 51,
   "id": "7b56384f",
   "metadata": {},
   "outputs": [
    {
     "data": {
      "text/plain": [
       "array([1., 1., 1., 1., 1., 1., 1.])"
      ]
     },
     "execution_count": 51,
     "metadata": {},
     "output_type": "execute_result"
    }
   ],
   "source": [
    "arr_1s = np.ones([7])\n",
    "arr_1s"
   ]
  },
  {
   "cell_type": "code",
   "execution_count": 48,
   "id": "ff6a8e40",
   "metadata": {},
   "outputs": [
    {
     "data": {
      "text/plain": [
       "array([[0., 0., 0., 0., 0., 0., 0.],\n",
       "       [0., 0., 0., 0., 0., 0., 0.],\n",
       "       [0., 0., 0., 0., 0., 0., 0.]])"
      ]
     },
     "execution_count": 48,
     "metadata": {},
     "output_type": "execute_result"
    }
   ],
   "source": [
    "arr_0s = np.zeros([3,7])\n",
    "arr_0s"
   ]
  },
  {
   "cell_type": "markdown",
   "id": "acadab2d",
   "metadata": {},
   "source": [
    "# 3-D Array"
   ]
  },
  {
   "cell_type": "code",
   "execution_count": 53,
   "id": "7571ac36",
   "metadata": {},
   "outputs": [
    {
     "data": {
      "text/plain": [
       "array([[[1., 1.],\n",
       "        [1., 1.],\n",
       "        [1., 1.],\n",
       "        [1., 1.],\n",
       "        [1., 1.],\n",
       "        [1., 1.],\n",
       "        [1., 1.]],\n",
       "\n",
       "       [[1., 1.],\n",
       "        [1., 1.],\n",
       "        [1., 1.],\n",
       "        [1., 1.],\n",
       "        [1., 1.],\n",
       "        [1., 1.],\n",
       "        [1., 1.]],\n",
       "\n",
       "       [[1., 1.],\n",
       "        [1., 1.],\n",
       "        [1., 1.],\n",
       "        [1., 1.],\n",
       "        [1., 1.],\n",
       "        [1., 1.],\n",
       "        [1., 1.]],\n",
       "\n",
       "       [[1., 1.],\n",
       "        [1., 1.],\n",
       "        [1., 1.],\n",
       "        [1., 1.],\n",
       "        [1., 1.],\n",
       "        [1., 1.],\n",
       "        [1., 1.]]])"
      ]
     },
     "execution_count": 53,
     "metadata": {},
     "output_type": "execute_result"
    }
   ],
   "source": [
    "arr_1s = np.ones([4,7,2]) # 4 Rows, 7 Coloumn each element have two values in form of array\n",
    "arr_1s"
   ]
  },
  {
   "cell_type": "code",
   "execution_count": 58,
   "id": "09b105cb",
   "metadata": {},
   "outputs": [
    {
     "data": {
      "text/plain": [
       "array([[[4, 2, 5],\n",
       "        [3, 5, 8]],\n",
       "\n",
       "       [[5, 8, 4],\n",
       "        [6, 4, 9]]])"
      ]
     },
     "execution_count": 58,
     "metadata": {},
     "output_type": "execute_result"
    }
   ],
   "source": [
    "arr_3d = np.array([[[4,2,5],[3,5,8]] , [[5,8,4],[6,4,9]]])\n",
    "arr_3d"
   ]
  },
  {
   "cell_type": "code",
   "execution_count": 59,
   "id": "d479f89d",
   "metadata": {},
   "outputs": [
    {
     "data": {
      "text/plain": [
       "numpy.ndarray"
      ]
     },
     "execution_count": 59,
     "metadata": {},
     "output_type": "execute_result"
    }
   ],
   "source": [
    "type(arr_3d)"
   ]
  },
  {
   "cell_type": "code",
   "execution_count": 60,
   "id": "8e4f6e0c",
   "metadata": {},
   "outputs": [
    {
     "data": {
      "text/plain": [
       "(2, 2, 3)"
      ]
     },
     "execution_count": 60,
     "metadata": {},
     "output_type": "execute_result"
    }
   ],
   "source": [
    "arr_3d.shape  # Gives shape/dimension of the array"
   ]
  },
  {
   "cell_type": "code",
   "execution_count": 65,
   "id": "a3ce594c",
   "metadata": {},
   "outputs": [
    {
     "data": {
      "text/plain": [
       "9"
      ]
     },
     "execution_count": 65,
     "metadata": {},
     "output_type": "execute_result"
    }
   ],
   "source": [
    "arr_3d[1,1,2] # Last Element"
   ]
  },
  {
   "cell_type": "markdown",
   "id": "8474a1da",
   "metadata": {},
   "source": [
    "# Array Reshaping\n",
    "\n",
    "* changing shape(dimension) of array, we canadd remove dimensions and can edit number of elements in each dimention"
   ]
  },
  {
   "cell_type": "code",
   "execution_count": 67,
   "id": "bddc6bd7",
   "metadata": {},
   "outputs": [],
   "source": [
    "arr = np.array([1,5,2,4,6,8,9,7])"
   ]
  },
  {
   "cell_type": "code",
   "execution_count": 68,
   "id": "8b7bad51",
   "metadata": {},
   "outputs": [
    {
     "data": {
      "text/plain": [
       "(8,)"
      ]
     },
     "execution_count": 68,
     "metadata": {},
     "output_type": "execute_result"
    }
   ],
   "source": [
    "arr.shape"
   ]
  },
  {
   "cell_type": "code",
   "execution_count": 69,
   "id": "47dff938",
   "metadata": {},
   "outputs": [
    {
     "data": {
      "text/plain": [
       "array([[1, 5],\n",
       "       [2, 4],\n",
       "       [6, 8],\n",
       "       [9, 7]])"
      ]
     },
     "execution_count": 69,
     "metadata": {},
     "output_type": "execute_result"
    }
   ],
   "source": [
    "new_arr1 = arr.reshape(4,2)\n",
    "new_arr1"
   ]
  },
  {
   "cell_type": "code",
   "execution_count": 70,
   "id": "0d638815",
   "metadata": {},
   "outputs": [
    {
     "data": {
      "text/plain": [
       "array([[1, 5, 2, 4],\n",
       "       [6, 8, 9, 7]])"
      ]
     },
     "execution_count": 70,
     "metadata": {},
     "output_type": "execute_result"
    }
   ],
   "source": [
    "new_arr2 = arr.reshape(2,4)\n",
    "new_arr2"
   ]
  },
  {
   "cell_type": "code",
   "execution_count": 76,
   "id": "752298a9",
   "metadata": {},
   "outputs": [
    {
     "data": {
      "text/plain": [
       "array([[1, 5, 2, 4, 6, 8, 9, 7]])"
      ]
     },
     "execution_count": 76,
     "metadata": {},
     "output_type": "execute_result"
    }
   ],
   "source": [
    "new_arr3 = arr.reshape(1,8)\n",
    "new_arr3"
   ]
  },
  {
   "cell_type": "code",
   "execution_count": 75,
   "id": "45eba3e0",
   "metadata": {},
   "outputs": [
    {
     "data": {
      "text/plain": [
       "array([[1],\n",
       "       [5],\n",
       "       [2],\n",
       "       [4],\n",
       "       [6],\n",
       "       [8],\n",
       "       [9],\n",
       "       [7]])"
      ]
     },
     "execution_count": 75,
     "metadata": {},
     "output_type": "execute_result"
    }
   ],
   "source": [
    "new_arr4 = arr.reshape(8,1)\n",
    "new_arr4"
   ]
  },
  {
   "cell_type": "code",
   "execution_count": 77,
   "id": "90e734c2",
   "metadata": {},
   "outputs": [
    {
     "data": {
      "text/plain": [
       "(1, 8)"
      ]
     },
     "execution_count": 77,
     "metadata": {},
     "output_type": "execute_result"
    }
   ],
   "source": [
    "new_arr3.shape"
   ]
  },
  {
   "cell_type": "code",
   "execution_count": 185,
   "id": "647bd3a5",
   "metadata": {},
   "outputs": [
    {
     "ename": "NameError",
     "evalue": "name 'new_arr4' is not defined",
     "output_type": "error",
     "traceback": [
      "\u001b[0;31m---------------------------------------------------------------------------\u001b[0m",
      "\u001b[0;31mNameError\u001b[0m                                 Traceback (most recent call last)",
      "\u001b[0;32m<ipython-input-185-0d215b3fdae9>\u001b[0m in \u001b[0;36m<module>\u001b[0;34m\u001b[0m\n\u001b[0;32m----> 1\u001b[0;31m \u001b[0mnew_arr4\u001b[0m\u001b[0;34m.\u001b[0m\u001b[0mshape\u001b[0m\u001b[0;34m\u001b[0m\u001b[0;34m\u001b[0m\u001b[0m\n\u001b[0m",
      "\u001b[0;31mNameError\u001b[0m: name 'new_arr4' is not defined"
     ]
    }
   ],
   "source": [
    "new_arr4.shape"
   ]
  },
  {
   "cell_type": "code",
   "execution_count": 186,
   "id": "b709230c",
   "metadata": {},
   "outputs": [
    {
     "name": "stdout",
     "output_type": "stream",
     "text": [
      "[[79 50 45 90 33 44 95 26 53 88]\n",
      " [18 69 18 62 57 91 61  1  2 19]] \n",
      "\n",
      "[[23 57 79 23 12 14 90 90 99 72]\n",
      " [30 47 62 33 46 60 83  8 88 99]]\n"
     ]
    },
    {
     "data": {
      "text/plain": [
       "array([[79, 50, 45, 90, 33, 44, 95, 26, 53, 88],\n",
       "       [18, 69, 18, 62, 57, 91, 61,  1,  2, 19],\n",
       "       [21, 40, 62, 52, 50, 92, 46, 82, 38, 25],\n",
       "       [11, 42, 23, 68,  0, 25, 18, 26, 65, 66]])"
      ]
     },
     "execution_count": 186,
     "metadata": {},
     "output_type": "execute_result"
    }
   ],
   "source": [
    "#Arranging two arrays vertically : Vertical Stack\n",
    "from numpy import random \n",
    "import numpy as np\n",
    "arr=np.random.randint(100,size=(2,10))\n",
    "print(arr,\"\\n\")\n",
    "print(arr2)\n",
    "arr2=np.random.randint(100,size=(2,10))\n",
    "np.vstack((arr,arr2))\n"
   ]
  },
  {
   "cell_type": "code",
   "execution_count": 188,
   "id": "1346add7",
   "metadata": {},
   "outputs": [
    {
     "data": {
      "text/plain": [
       "array([[11, 46, 86, 92],\n",
       "       [22, 28, 26, 69]])"
      ]
     },
     "execution_count": 188,
     "metadata": {},
     "output_type": "execute_result"
    }
   ],
   "source": [
    "##Arranging two arrays horizontly : Horizontal Stack\n",
    "from numpy import random\n",
    "arr1=np.random.randint(100,size=(2,2))\n",
    "arr4=np.random.randint(100,size=(2,2))\n",
    "np.hstack((arr1,arr4))"
   ]
  },
  {
   "cell_type": "code",
   "execution_count": 189,
   "id": "7a430604",
   "metadata": {},
   "outputs": [
    {
     "name": "stdout",
     "output_type": "stream",
     "text": [
      "[[ 6 49 37 73 75 36 37 33 89 31]\n",
      " [52 80 81  9 32 16 17  9 96 46]] \n",
      "\n",
      "[[21 40 62 52 50 92 46 82 38 25]\n",
      " [11 42 23 68  0 25 18 26 65 66]]\n"
     ]
    },
    {
     "data": {
      "text/plain": [
       "array([[ 6, 49, 37, 73, 75, 36, 37, 33, 89, 31],\n",
       "       [52, 80, 81,  9, 32, 16, 17,  9, 96, 46],\n",
       "       [76, 14, 58, 44, 75, 41, 41, 80, 43, 82],\n",
       "       [14, 77, 26,  8, 65, 41, 22, 88, 47,  8]])"
      ]
     },
     "execution_count": 189,
     "metadata": {},
     "output_type": "execute_result"
    }
   ],
   "source": [
    "#Arranging two arrays vertically : Concatenation\n",
    "from numpy import random \n",
    "import numpy as np\n",
    "arr=np.random.randint(100,size=(2,10))\n",
    "print(arr,\"\\n\")\n",
    "print(arr2)\n",
    "arr2=np.random.randint(100,size=(2,10))\n",
    "np.concatenate((arr,arr2))\n"
   ]
  },
  {
   "cell_type": "markdown",
   "id": "7fce2f7f",
   "metadata": {},
   "source": [
    "# Iterating in ARRAY"
   ]
  },
  {
   "cell_type": "code",
   "execution_count": 79,
   "id": "f81bc87f",
   "metadata": {},
   "outputs": [
    {
     "data": {
      "text/plain": [
       "array([1. , 2. , 3. , 4. , 5. , 3.2])"
      ]
     },
     "execution_count": 79,
     "metadata": {},
     "output_type": "execute_result"
    }
   ],
   "source": [
    "arr4"
   ]
  },
  {
   "cell_type": "code",
   "execution_count": 81,
   "id": "1b6adf9d",
   "metadata": {},
   "outputs": [
    {
     "name": "stdout",
     "output_type": "stream",
     "text": [
      "1.0\n",
      "2.0\n",
      "3.0\n",
      "4.0\n",
      "5.0\n",
      "3.2\n"
     ]
    }
   ],
   "source": [
    "for i in arr4:\n",
    "    print(i)"
   ]
  },
  {
   "cell_type": "code",
   "execution_count": 83,
   "id": "d2d17f23",
   "metadata": {},
   "outputs": [
    {
     "data": {
      "text/plain": [
       "array([[1. ],\n",
       "       [2. ],\n",
       "       [3. ],\n",
       "       [4. ],\n",
       "       [5. ],\n",
       "       [3.2]])"
      ]
     },
     "execution_count": 83,
     "metadata": {},
     "output_type": "execute_result"
    }
   ],
   "source": [
    "arr5 = arr4.reshape(6,1) # Row MAtrix\n",
    "arr5"
   ]
  },
  {
   "cell_type": "code",
   "execution_count": 84,
   "id": "17b24391",
   "metadata": {},
   "outputs": [
    {
     "name": "stdout",
     "output_type": "stream",
     "text": [
      "[1.]\n",
      "[2.]\n",
      "[3.]\n",
      "[4.]\n",
      "[5.]\n",
      "[3.2]\n"
     ]
    }
   ],
   "source": [
    "for i in arr5: # Coloumn Matrix\n",
    "    print(i)"
   ]
  },
  {
   "cell_type": "markdown",
   "id": "0387d652",
   "metadata": {},
   "source": [
    "# Deleting any row or coloumn \n",
    "\n",
    "* np.delete(array_name,index,axis= 0 or 1)\n",
    "* axis = 0 means row\n",
    "* axis = 1 means coloumn"
   ]
  },
  {
   "cell_type": "code",
   "execution_count": 202,
   "id": "55259e5f",
   "metadata": {},
   "outputs": [
    {
     "data": {
      "text/plain": [
       "array([[ 3,  7, 18,  5,  2],\n",
       "       [ 7,  5,  3,  0,  4],\n",
       "       [17,  7,  7, 13,  5],\n",
       "       [18, 14,  3,  5, 13]])"
      ]
     },
     "execution_count": 202,
     "metadata": {},
     "output_type": "execute_result"
    }
   ],
   "source": [
    "array = random.randint(20,size = (4,5))\n",
    "array"
   ]
  },
  {
   "cell_type": "code",
   "execution_count": 204,
   "id": "e802dc38",
   "metadata": {},
   "outputs": [
    {
     "data": {
      "text/plain": [
       "array([[ 3,  7, 18,  5,  2],\n",
       "       [ 7,  5,  3,  0,  4],\n",
       "       [18, 14,  3,  5, 13]])"
      ]
     },
     "execution_count": 204,
     "metadata": {},
     "output_type": "execute_result"
    }
   ],
   "source": [
    "np.delete(array, 2 , axis = 0) # axis = 0, thus deletes 2nd row"
   ]
  },
  {
   "cell_type": "code",
   "execution_count": 205,
   "id": "63734cf2",
   "metadata": {},
   "outputs": [
    {
     "data": {
      "text/plain": [
       "array([[ 3,  7,  5,  2],\n",
       "       [ 7,  5,  0,  4],\n",
       "       [17,  7, 13,  5],\n",
       "       [18, 14,  5, 13]])"
      ]
     },
     "execution_count": 205,
     "metadata": {},
     "output_type": "execute_result"
    }
   ],
   "source": [
    "np.delete(array, 2 , axis = 1) # axis = 1, thus deletes 2nd coloumn"
   ]
  },
  {
   "cell_type": "code",
   "execution_count": null,
   "id": "8f35eba2",
   "metadata": {},
   "outputs": [],
   "source": []
  },
  {
   "cell_type": "code",
   "execution_count": null,
   "id": "4fe806fe",
   "metadata": {},
   "outputs": [],
   "source": []
  },
  {
   "cell_type": "code",
   "execution_count": null,
   "id": "6fb6e88c",
   "metadata": {},
   "outputs": [],
   "source": []
  },
  {
   "cell_type": "code",
   "execution_count": null,
   "id": "b0f69791",
   "metadata": {},
   "outputs": [],
   "source": []
  },
  {
   "cell_type": "markdown",
   "id": "11915e66",
   "metadata": {},
   "source": [
    "# Joining two arrays"
   ]
  },
  {
   "cell_type": "code",
   "execution_count": 101,
   "id": "8ac2ed32",
   "metadata": {},
   "outputs": [
    {
     "name": "stdout",
     "output_type": "stream",
     "text": [
      "[14 15 21 20  2  1]\n",
      "[1 2 3]\n",
      "['a' 'b' 'c' 'd']\n",
      "['1' '2' '3']\n",
      "[[1. ]\n",
      " [2. ]\n",
      " [3. ]\n",
      " [4. ]\n",
      " [5. ]\n",
      " [3.2]]\n",
      "[1.  2.  3.  4.  5.  3.2]\n"
     ]
    }
   ],
   "source": [
    "arr1 = np.array([14,15,21,20,2,1])\n",
    "arr2 = np.array([1,2,3])\n",
    "arr3 = np.array([\"a\",\"b\",\"c\",\"d\"])\n",
    "arr4 = np.array([\"1\",\"2\",\"3\"])\n",
    "arr5 = np.array([[1. ],\n",
    "       [2. ],\n",
    "       [3. ],\n",
    "       [4. ],\n",
    "       [5. ],\n",
    "       [3.2]])\n",
    "arr6 = np.array([1,2,3,4,5,3.2])\n",
    "print(arr1)\n",
    "print(arr2)\n",
    "print(arr3)\n",
    "print(arr4)\n",
    "print(arr5)\n",
    "print(arr6)"
   ]
  },
  {
   "cell_type": "code",
   "execution_count": 86,
   "id": "f9cf61af",
   "metadata": {},
   "outputs": [
    {
     "data": {
      "text/plain": [
       "array([[1. ],\n",
       "       [2. ],\n",
       "       [3. ],\n",
       "       [4. ],\n",
       "       [5. ],\n",
       "       [3.2]])"
      ]
     },
     "execution_count": 86,
     "metadata": {},
     "output_type": "execute_result"
    }
   ],
   "source": [
    "arr5"
   ]
  },
  {
   "cell_type": "code",
   "execution_count": 105,
   "id": "3cd1cde6",
   "metadata": {},
   "outputs": [
    {
     "data": {
      "text/plain": [
       "array([[ 2. ],\n",
       "       [ 4. ],\n",
       "       [ 6. ],\n",
       "       [ 8. ],\n",
       "       [10. ],\n",
       "       [ 6.4]])"
      ]
     },
     "execution_count": 105,
     "metadata": {},
     "output_type": "execute_result"
    }
   ],
   "source": [
    "arr5+arr5"
   ]
  },
  {
   "cell_type": "code",
   "execution_count": 106,
   "id": "e2d6ca9b",
   "metadata": {},
   "outputs": [
    {
     "data": {
      "text/plain": [
       "array([[ 2. ,  3. ,  4. ,  5. ,  6. ,  4.2],\n",
       "       [ 3. ,  4. ,  5. ,  6. ,  7. ,  5.2],\n",
       "       [ 4. ,  5. ,  6. ,  7. ,  8. ,  6.2],\n",
       "       [ 5. ,  6. ,  7. ,  8. ,  9. ,  7.2],\n",
       "       [ 6. ,  7. ,  8. ,  9. , 10. ,  8.2],\n",
       "       [ 4.2,  5.2,  6.2,  7.2,  8.2,  6.4]])"
      ]
     },
     "execution_count": 106,
     "metadata": {},
     "output_type": "execute_result"
    }
   ],
   "source": [
    "arr5+arr6"
   ]
  },
  {
   "cell_type": "code",
   "execution_count": 111,
   "id": "74766a2e",
   "metadata": {},
   "outputs": [
    {
     "data": {
      "text/plain": [
       "array(['a', 'b', 'c', 'd', '1', '2', '3'], dtype='<U1')"
      ]
     },
     "execution_count": 111,
     "metadata": {},
     "output_type": "execute_result"
    }
   ],
   "source": [
    "np.concatenate((arr3,arr4)) # Adding two string arrays"
   ]
  },
  {
   "cell_type": "code",
   "execution_count": 112,
   "id": "6f990d10",
   "metadata": {},
   "outputs": [
    {
     "data": {
      "text/plain": [
       "array([14, 15, 21, 20,  2,  1,  1,  2,  3])"
      ]
     },
     "execution_count": 112,
     "metadata": {},
     "output_type": "execute_result"
    }
   ],
   "source": [
    "np.concatenate((arr1,arr2)) # Adding two interger arrays"
   ]
  },
  {
   "cell_type": "code",
   "execution_count": 115,
   "id": "0e44f602",
   "metadata": {},
   "outputs": [
    {
     "data": {
      "text/plain": [
       "array(['1', '2', '3', 'a', 'b', 'c', 'd'], dtype='<U21')"
      ]
     },
     "execution_count": 115,
     "metadata": {},
     "output_type": "execute_result"
    }
   ],
   "source": [
    "np.concatenate((arr2,arr3)) # Adding two dissimilar data converted into string"
   ]
  },
  {
   "cell_type": "code",
   "execution_count": 116,
   "id": "0ba7fba8",
   "metadata": {},
   "outputs": [
    {
     "ename": "ValueError",
     "evalue": "all the input arrays must have same number of dimensions, but the array at index 0 has 2 dimension(s) and the array at index 1 has 1 dimension(s)",
     "output_type": "error",
     "traceback": [
      "\u001b[0;31m---------------------------------------------------------------------------\u001b[0m",
      "\u001b[0;31mValueError\u001b[0m                                Traceback (most recent call last)",
      "\u001b[0;32m<ipython-input-116-9f90a26fbe51>\u001b[0m in \u001b[0;36m<module>\u001b[0;34m\u001b[0m\n\u001b[0;32m----> 1\u001b[0;31m \u001b[0mnp\u001b[0m\u001b[0;34m.\u001b[0m\u001b[0mconcatenate\u001b[0m\u001b[0;34m(\u001b[0m\u001b[0;34m(\u001b[0m\u001b[0marr5\u001b[0m\u001b[0;34m,\u001b[0m\u001b[0marr6\u001b[0m\u001b[0;34m)\u001b[0m\u001b[0;34m)\u001b[0m\u001b[0;34m\u001b[0m\u001b[0;34m\u001b[0m\u001b[0m\n\u001b[0m",
      "\u001b[0;32m<__array_function__ internals>\u001b[0m in \u001b[0;36mconcatenate\u001b[0;34m(*args, **kwargs)\u001b[0m\n",
      "\u001b[0;31mValueError\u001b[0m: all the input arrays must have same number of dimensions, but the array at index 0 has 2 dimension(s) and the array at index 1 has 1 dimension(s)"
     ]
    }
   ],
   "source": [
    "np.concatenate((arr5,arr6)) # Dimensions should be same"
   ]
  },
  {
   "cell_type": "code",
   "execution_count": 119,
   "id": "5008f3f2",
   "metadata": {},
   "outputs": [
    {
     "data": {
      "text/plain": [
       "array([[ 2. ,  3. ,  4. ,  5. ,  6. ,  4.2],\n",
       "       [ 3. ,  4. ,  5. ,  6. ,  7. ,  5.2],\n",
       "       [ 4. ,  5. ,  6. ,  7. ,  8. ,  6.2],\n",
       "       [ 5. ,  6. ,  7. ,  8. ,  9. ,  7.2],\n",
       "       [ 6. ,  7. ,  8. ,  9. , 10. ,  8.2],\n",
       "       [ 4.2,  5.2,  6.2,  7.2,  8.2,  6.4]])"
      ]
     },
     "execution_count": 119,
     "metadata": {},
     "output_type": "execute_result"
    }
   ],
   "source": [
    "arr6+arr5 # This plus sign is Mathmatical operation"
   ]
  },
  {
   "cell_type": "markdown",
   "id": "e40a3d27",
   "metadata": {},
   "source": [
    "# Sorting"
   ]
  },
  {
   "cell_type": "code",
   "execution_count": 151,
   "id": "0d4f4bb3",
   "metadata": {},
   "outputs": [
    {
     "name": "stdout",
     "output_type": "stream",
     "text": [
      "[14 15 21 20  2  1]\n",
      "[1 2 3]\n",
      "['a' 'e' 'h' 'd']\n",
      "['1' '2' '3']\n",
      "[[1. ]\n",
      " [2. ]\n",
      " [3. ]\n",
      " [4. ]\n",
      " [5. ]\n",
      " [3.2]]\n",
      "[1.  2.  3.  4.  5.  3.2]\n",
      "['a' 'e' 'h' 'd' '1' '2' '3']\n",
      "[[ 4 58  6 12 15]\n",
      " [ 5  8 12 10  1]]\n",
      "[['f' '5' '7' 'Ye' 'He']\n",
      " ['E' 'W' '0' 's' '1']]\n",
      "[[[4 2 5]\n",
      "  [3 5 8]]\n",
      "\n",
      " [[5 8 4]\n",
      "  [6 4 9]]]\n"
     ]
    }
   ],
   "source": [
    "arr1 = np.array([14,15,21,20,2,1])\n",
    "arr2 = np.array([1,2,3])\n",
    "arr3 = np.array([\"a\",\"e\",\"h\",\"d\"])\n",
    "arr4 = np.array([\"1\",\"2\",\"3\"])\n",
    "arr5 = np.array([[1. ],\n",
    "       [2. ],\n",
    "       [3. ],\n",
    "       [4. ],\n",
    "       [5. ],\n",
    "       [3.2]])\n",
    "arr6 = np.array([1,2,3,4,5,3.2])\n",
    "arr7 = np.array(['a', 'e', 'h', 'd', '1', '2', '3'])\n",
    "arr8 = np.array([[4,58,6,12,15],[5,8,12,10,1]])\n",
    "arr9 = np.array([[\"f\",\"5\",\"7\",\"Ye\",\"He\"],[\"E\",\"W\",\"0\",\"s\",\"1\"]])\n",
    "arr10 = np.array([[[4,2,5],[3,5,8]] , [[5,8,4],[6,4,9]]])\n",
    "print(arr1)\n",
    "print(arr2)\n",
    "print(arr3)\n",
    "print(arr4)\n",
    "print(arr5)\n",
    "print(arr6)\n",
    "print(arr7)\n",
    "print(arr8)\n",
    "print(arr9)\n",
    "print(arr10)"
   ]
  },
  {
   "cell_type": "code",
   "execution_count": 121,
   "id": "9b163d44",
   "metadata": {},
   "outputs": [
    {
     "data": {
      "text/plain": [
       "array([ 1,  2, 14, 15, 20, 21])"
      ]
     },
     "execution_count": 121,
     "metadata": {},
     "output_type": "execute_result"
    }
   ],
   "source": [
    "np.sort(arr1) # Sorting"
   ]
  },
  {
   "cell_type": "code",
   "execution_count": 124,
   "id": "e078052c",
   "metadata": {},
   "outputs": [
    {
     "data": {
      "text/plain": [
       "array(['a', 'd', 'e', 'h'], dtype='<U1')"
      ]
     },
     "execution_count": 124,
     "metadata": {},
     "output_type": "execute_result"
    }
   ],
   "source": [
    "np.sort(arr3) # Sort according to alphabet"
   ]
  },
  {
   "cell_type": "code",
   "execution_count": 126,
   "id": "3b275e50",
   "metadata": {},
   "outputs": [
    {
     "data": {
      "text/plain": [
       "array([[1. ],\n",
       "       [2. ],\n",
       "       [3. ],\n",
       "       [4. ],\n",
       "       [5. ],\n",
       "       [3.2]])"
      ]
     },
     "execution_count": 126,
     "metadata": {},
     "output_type": "execute_result"
    }
   ],
   "source": [
    "np.sort(arr5) # Coloumn will be sorted as coloumn matrix"
   ]
  },
  {
   "cell_type": "code",
   "execution_count": 128,
   "id": "b74f87ca",
   "metadata": {},
   "outputs": [
    {
     "data": {
      "text/plain": [
       "array([[ 2. ,  3. ,  4. ,  4.2,  5. ,  6. ],\n",
       "       [ 3. ,  4. ,  5. ,  5.2,  6. ,  7. ],\n",
       "       [ 4. ,  5. ,  6. ,  6.2,  7. ,  8. ],\n",
       "       [ 5. ,  6. ,  7. ,  7.2,  8. ,  9. ],\n",
       "       [ 6. ,  7. ,  8. ,  8.2,  9. , 10. ],\n",
       "       [ 4.2,  5.2,  6.2,  6.4,  7.2,  8.2]])"
      ]
     },
     "execution_count": 128,
     "metadata": {},
     "output_type": "execute_result"
    }
   ],
   "source": [
    "np.sort(arr5+arr6) #2-D and 3-D matrix are sorted row wise"
   ]
  },
  {
   "cell_type": "code",
   "execution_count": 134,
   "id": "6ccd4d0f",
   "metadata": {},
   "outputs": [
    {
     "data": {
      "text/plain": [
       "array(['a', 'e', 'h', 'd', '1', '2', '3'], dtype='<U1')"
      ]
     },
     "execution_count": 134,
     "metadata": {},
     "output_type": "execute_result"
    }
   ],
   "source": [
    "arr7 = np.concatenate((arr3,arr4))\n",
    "arr7"
   ]
  },
  {
   "cell_type": "code",
   "execution_count": 4,
   "id": "dcdb8127",
   "metadata": {},
   "outputs": [
    {
     "ename": "NameError",
     "evalue": "name 'arr7' is not defined",
     "output_type": "error",
     "traceback": [
      "\u001b[0;31m---------------------------------------------------------------------------\u001b[0m",
      "\u001b[0;31mNameError\u001b[0m                                 Traceback (most recent call last)",
      "\u001b[0;32m<ipython-input-4-225a580db9cf>\u001b[0m in \u001b[0;36m<module>\u001b[0;34m\u001b[0m\n\u001b[0;32m----> 1\u001b[0;31m \u001b[0mnp\u001b[0m\u001b[0;34m.\u001b[0m\u001b[0msort\u001b[0m\u001b[0;34m(\u001b[0m\u001b[0marr7\u001b[0m\u001b[0;34m)\u001b[0m \u001b[0;31m# First numbers then alphabet\u001b[0m\u001b[0;34m\u001b[0m\u001b[0;34m\u001b[0m\u001b[0m\n\u001b[0m",
      "\u001b[0;31mNameError\u001b[0m: name 'arr7' is not defined"
     ]
    }
   ],
   "source": [
    "np.sort(arr7) # First numbers then alphabet"
   ]
  },
  {
   "cell_type": "code",
   "execution_count": 154,
   "id": "1a6ea588",
   "metadata": {},
   "outputs": [
    {
     "data": {
      "text/plain": [
       "array(['1', '2', '3', 'a', 'd', 'e', 'h'], dtype='<U1')"
      ]
     },
     "execution_count": 154,
     "metadata": {},
     "output_type": "execute_result"
    }
   ],
   "source": [
    "arr7.sort() # This method can also be used and it replaces the array with sorted array\n",
    "arr7"
   ]
  },
  {
   "cell_type": "code",
   "execution_count": null,
   "id": "c6a5b27b",
   "metadata": {},
   "outputs": [],
   "source": []
  },
  {
   "cell_type": "markdown",
   "id": "066737b6",
   "metadata": {},
   "source": [
    "# Array Splitting "
   ]
  },
  {
   "cell_type": "code",
   "execution_count": 1,
   "id": "70a52fb2",
   "metadata": {},
   "outputs": [],
   "source": [
    "arr = np.array([1,5,8,9,4,5,6,7])"
   ]
  },
  {
   "cell_type": "code",
   "execution_count": 4,
   "id": "5c6691c8",
   "metadata": {},
   "outputs": [
    {
     "data": {
      "text/plain": [
       "[array([1, 5]), array([8, 9]), array([4, 5]), array([6, 7])]"
      ]
     },
     "execution_count": 4,
     "metadata": {},
     "output_type": "execute_result"
    }
   ],
   "source": [
    "np.split(arr,4)"
   ]
  },
  {
   "cell_type": "code",
   "execution_count": 10,
   "id": "103bca0e",
   "metadata": {},
   "outputs": [
    {
     "name": "stdout",
     "output_type": "stream",
     "text": [
      "[array([1, 5]), array([8, 9]), array([4, 5]), array([6, 7])]\n"
     ]
    }
   ],
   "source": [
    "new_arr = np.split(arr,4) # It splits array into 4 equal parts, and forms a list of arrays \n",
    "print(new_arr)"
   ]
  },
  {
   "cell_type": "code",
   "execution_count": 8,
   "id": "36613734",
   "metadata": {},
   "outputs": [
    {
     "data": {
      "text/plain": [
       "list"
      ]
     },
     "execution_count": 8,
     "metadata": {},
     "output_type": "execute_result"
    }
   ],
   "source": [
    "type(new_arr) # It Splits array into list of array"
   ]
  },
  {
   "cell_type": "code",
   "execution_count": 9,
   "id": "dff0d4de",
   "metadata": {},
   "outputs": [
    {
     "data": {
      "text/plain": [
       "numpy.ndarray"
      ]
     },
     "execution_count": 9,
     "metadata": {},
     "output_type": "execute_result"
    }
   ],
   "source": [
    "type(new_arr[1])# Each elements are array"
   ]
  },
  {
   "cell_type": "code",
   "execution_count": 2,
   "id": "76a2ab5d",
   "metadata": {},
   "outputs": [
    {
     "data": {
      "text/plain": [
       "[array([1, 5, 8, 9]), array([4, 5, 6, 7])]"
      ]
     },
     "execution_count": 2,
     "metadata": {},
     "output_type": "execute_result"
    }
   ],
   "source": [
    "np.split(arr,2)"
   ]
  },
  {
   "cell_type": "code",
   "execution_count": 3,
   "id": "3acd3b9c",
   "metadata": {},
   "outputs": [
    {
     "ename": "ValueError",
     "evalue": "array split does not result in an equal division",
     "output_type": "error",
     "traceback": [
      "\u001b[0;31m---------------------------------------------------------------------------\u001b[0m",
      "\u001b[0;31mValueError\u001b[0m                                Traceback (most recent call last)",
      "\u001b[0;32m<ipython-input-3-5b8c2be8326f>\u001b[0m in \u001b[0;36m<module>\u001b[0;34m\u001b[0m\n\u001b[0;32m----> 1\u001b[0;31m \u001b[0mnp\u001b[0m\u001b[0;34m.\u001b[0m\u001b[0msplit\u001b[0m\u001b[0;34m(\u001b[0m\u001b[0marr\u001b[0m\u001b[0;34m,\u001b[0m\u001b[0;36m3\u001b[0m\u001b[0;34m)\u001b[0m\u001b[0;34m\u001b[0m\u001b[0;34m\u001b[0m\u001b[0m\n\u001b[0m",
      "\u001b[0;32m<__array_function__ internals>\u001b[0m in \u001b[0;36msplit\u001b[0;34m(*args, **kwargs)\u001b[0m\n",
      "\u001b[0;32m~/anaconda3/lib/python3.8/site-packages/numpy/lib/shape_base.py\u001b[0m in \u001b[0;36msplit\u001b[0;34m(ary, indices_or_sections, axis)\u001b[0m\n\u001b[1;32m    870\u001b[0m         \u001b[0mN\u001b[0m \u001b[0;34m=\u001b[0m \u001b[0mary\u001b[0m\u001b[0;34m.\u001b[0m\u001b[0mshape\u001b[0m\u001b[0;34m[\u001b[0m\u001b[0maxis\u001b[0m\u001b[0;34m]\u001b[0m\u001b[0;34m\u001b[0m\u001b[0;34m\u001b[0m\u001b[0m\n\u001b[1;32m    871\u001b[0m         \u001b[0;32mif\u001b[0m \u001b[0mN\u001b[0m \u001b[0;34m%\u001b[0m \u001b[0msections\u001b[0m\u001b[0;34m:\u001b[0m\u001b[0;34m\u001b[0m\u001b[0;34m\u001b[0m\u001b[0m\n\u001b[0;32m--> 872\u001b[0;31m             raise ValueError(\n\u001b[0m\u001b[1;32m    873\u001b[0m                 'array split does not result in an equal division') from None\n\u001b[1;32m    874\u001b[0m     \u001b[0;32mreturn\u001b[0m \u001b[0marray_split\u001b[0m\u001b[0;34m(\u001b[0m\u001b[0mary\u001b[0m\u001b[0;34m,\u001b[0m \u001b[0mindices_or_sections\u001b[0m\u001b[0;34m,\u001b[0m \u001b[0maxis\u001b[0m\u001b[0;34m)\u001b[0m\u001b[0;34m\u001b[0m\u001b[0;34m\u001b[0m\u001b[0m\n",
      "\u001b[0;31mValueError\u001b[0m: array split does not result in an equal division"
     ]
    }
   ],
   "source": [
    "np.split(arr,3) # Cannot split as it is not divisible into 3 equal parts"
   ]
  },
  {
   "cell_type": "markdown",
   "id": "99b40f56",
   "metadata": {},
   "source": [
    "# Array Searching"
   ]
  },
  {
   "cell_type": "code",
   "execution_count": 14,
   "id": "e9c402b7",
   "metadata": {},
   "outputs": [],
   "source": [
    "arr1 = np.array(['a', 'e', 'h', 'd', '1', '2', '3'])"
   ]
  },
  {
   "cell_type": "code",
   "execution_count": 9,
   "id": "d97b08b1",
   "metadata": {},
   "outputs": [
    {
     "data": {
      "text/plain": [
       "(array([0]),)"
      ]
     },
     "execution_count": 9,
     "metadata": {},
     "output_type": "execute_result"
    }
   ],
   "source": [
    "np.where(arr1 == \"a\") # Returns the index of the searched element"
   ]
  },
  {
   "cell_type": "code",
   "execution_count": 11,
   "id": "e4d43fd1",
   "metadata": {},
   "outputs": [
    {
     "data": {
      "text/plain": [
       "(array([2]),)"
      ]
     },
     "execution_count": 11,
     "metadata": {},
     "output_type": "execute_result"
    }
   ],
   "source": [
    "np.where(arr1 == \"h\") # Returns the index"
   ]
  },
  {
   "cell_type": "code",
   "execution_count": 15,
   "id": "4d8d3742",
   "metadata": {},
   "outputs": [
    {
     "data": {
      "text/plain": [
       "(array([4]),)"
      ]
     },
     "execution_count": 15,
     "metadata": {},
     "output_type": "execute_result"
    }
   ],
   "source": [
    "np.where(arr1 == \"1\")"
   ]
  },
  {
   "cell_type": "code",
   "execution_count": 16,
   "id": "7b36baf3",
   "metadata": {},
   "outputs": [],
   "source": [
    "arr2 = np.array([1,5,8,9,4,5,6,7])"
   ]
  },
  {
   "cell_type": "code",
   "execution_count": 19,
   "id": "7b7dd6b1",
   "metadata": {},
   "outputs": [
    {
     "data": {
      "text/plain": [
       "(array([1, 5]),)"
      ]
     },
     "execution_count": 19,
     "metadata": {},
     "output_type": "execute_result"
    }
   ],
   "source": [
    "np.where(arr2 == 5) # Will retuen all the indexs, if item is present multiple times in form of tuple"
   ]
  },
  {
   "cell_type": "code",
   "execution_count": 21,
   "id": "c8971e85",
   "metadata": {},
   "outputs": [],
   "source": [
    "a = np.where(arr2 == 5)"
   ]
  },
  {
   "cell_type": "code",
   "execution_count": 22,
   "id": "4ecc5d2a",
   "metadata": {},
   "outputs": [
    {
     "data": {
      "text/plain": [
       "tuple"
      ]
     },
     "execution_count": 22,
     "metadata": {},
     "output_type": "execute_result"
    }
   ],
   "source": [
    "type(a)"
   ]
  },
  {
   "cell_type": "code",
   "execution_count": 23,
   "id": "535d4498",
   "metadata": {},
   "outputs": [
    {
     "name": "stdout",
     "output_type": "stream",
     "text": [
      "(array([1, 5]),)\n"
     ]
    }
   ],
   "source": [
    "print(a)"
   ]
  },
  {
   "cell_type": "code",
   "execution_count": 24,
   "id": "f741aa09",
   "metadata": {},
   "outputs": [
    {
     "data": {
      "text/plain": [
       "numpy.ndarray"
      ]
     },
     "execution_count": 24,
     "metadata": {},
     "output_type": "execute_result"
    }
   ],
   "source": [
    "type(a[0])"
   ]
  },
  {
   "cell_type": "code",
   "execution_count": 26,
   "id": "96dacd81",
   "metadata": {},
   "outputs": [
    {
     "data": {
      "text/plain": [
       "(array([], dtype=int64),)"
      ]
     },
     "execution_count": 26,
     "metadata": {},
     "output_type": "execute_result"
    }
   ],
   "source": [
    "np.where(arr2 == 10) # Return blank if nothing found"
   ]
  },
  {
   "cell_type": "markdown",
   "id": "5707cbbc",
   "metadata": {},
   "source": [
    "# Filter\n",
    "\n",
    "* It is method of getting some elements out of a existing array ad create a new array.\n",
    "* Boolean index list is used for filtering an array in numpy\n",
    "* Used to subset the data\n",
    "* Conditions can also be used to filter"
   ]
  },
  {
   "cell_type": "code",
   "execution_count": 27,
   "id": "ceb85651",
   "metadata": {},
   "outputs": [
    {
     "data": {
      "text/plain": [
       "array(['a', 'e', 'h', 'd', '1', '2', '3'], dtype='<U1')"
      ]
     },
     "execution_count": 27,
     "metadata": {},
     "output_type": "execute_result"
    }
   ],
   "source": [
    "arr1"
   ]
  },
  {
   "cell_type": "code",
   "execution_count": 30,
   "id": "534f4412",
   "metadata": {},
   "outputs": [],
   "source": [
    "filter = [True, False, False, True, False, False, True]"
   ]
  },
  {
   "cell_type": "code",
   "execution_count": 32,
   "id": "f4de8d0c",
   "metadata": {},
   "outputs": [
    {
     "data": {
      "text/plain": [
       "array(['a', 'd', '3'], dtype='<U1')"
      ]
     },
     "execution_count": 32,
     "metadata": {},
     "output_type": "execute_result"
    }
   ],
   "source": [
    "arr1[filter] # Filters according to the booleans"
   ]
  },
  {
   "cell_type": "code",
   "execution_count": 33,
   "id": "ef6f6add",
   "metadata": {},
   "outputs": [
    {
     "data": {
      "text/plain": [
       "array(['a', 'e', 'h', 'd', '1', '2', '3'], dtype='<U1')"
      ]
     },
     "execution_count": 33,
     "metadata": {},
     "output_type": "execute_result"
    }
   ],
   "source": [
    "arr1"
   ]
  },
  {
   "cell_type": "code",
   "execution_count": 36,
   "id": "735de143",
   "metadata": {},
   "outputs": [
    {
     "data": {
      "text/plain": [
       "array(['h'], dtype='<U1')"
      ]
     },
     "execution_count": 36,
     "metadata": {},
     "output_type": "execute_result"
    }
   ],
   "source": [
    "arr1[arr1 == \"h\"] # Using conditions to filter. Conditions can be implimented using for, if etc also"
   ]
  },
  {
   "cell_type": "markdown",
   "id": "59ba1dd0",
   "metadata": {},
   "source": [
    "# Random Numbers in Numpy\n",
    "* random.rand() , gives random float b/w 0 and 1\n",
    "* It has to be imported separately in numpy ( random.randint )\n",
    "* If not imported separately, we use (numpy.random.randint)\n",
    "* random.choice(), this helps user to generate random numbers from given set of numbers"
   ]
  },
  {
   "cell_type": "code",
   "execution_count": 43,
   "id": "d52aa3d7",
   "metadata": {},
   "outputs": [
    {
     "name": "stdout",
     "output_type": "stream",
     "text": [
      "3\n"
     ]
    }
   ],
   "source": [
    "x = np.random.randint(100) # Without importing\n",
    "print(x)"
   ]
  },
  {
   "cell_type": "code",
   "execution_count": 45,
   "id": "d09356b1",
   "metadata": {},
   "outputs": [
    {
     "name": "stdout",
     "output_type": "stream",
     "text": [
      "99\n"
     ]
    }
   ],
   "source": [
    "from numpy import random\n",
    "x = random.randint(100) # With  Importing\n",
    "print(x)"
   ]
  },
  {
   "cell_type": "code",
   "execution_count": 49,
   "id": "3238169b",
   "metadata": {},
   "outputs": [
    {
     "name": "stdout",
     "output_type": "stream",
     "text": [
      "[57 83 77 91 99 93 58 95 89 73 54 55 63 50 51 58 85 61 90 86 98 54 97 69\n",
      " 89 71 96 62 64 70 50 58 86 52 98 74 79 80 61 80 64 94 78 80 92 87 97 80\n",
      " 58 80 64 55 69 92 92 91 79 80 65 97 51 89 58 57 67 79 83 56 64 93 72 80\n",
      " 65 96 91 69 70 51 77 80 97 65 84 85 53 90 68 50 92 68 62 60 64 63 99 93\n",
      " 99 63 87 77]\n"
     ]
    }
   ],
   "source": [
    "random_arr = random.randint(50,100, size=(100)) # It creats an array of 100 random numbers from 50 to 100\n",
    "print(random_arr)"
   ]
  },
  {
   "cell_type": "code",
   "execution_count": 50,
   "id": "b9925b5a",
   "metadata": {},
   "outputs": [
    {
     "data": {
      "text/plain": [
       "numpy.ndarray"
      ]
     },
     "execution_count": 50,
     "metadata": {},
     "output_type": "execute_result"
    }
   ],
   "source": [
    "type(random_arr)"
   ]
  },
  {
   "cell_type": "code",
   "execution_count": 56,
   "id": "31cca0a3",
   "metadata": {},
   "outputs": [
    {
     "name": "stdout",
     "output_type": "stream",
     "text": [
      "[[52 18 21 45 79 14 99]\n",
      " [60 73 44 61 14 43 77]\n",
      " [86 93 49 79 96 88 78]\n",
      " [37 19 12 59 41 24 84]]\n"
     ]
    }
   ],
   "source": [
    "random_2darray = random.randint(10,100,size=(4,7)) #Creats a random 4 X 7 array(matrix), with numbers from 10 to 100\n",
    "print(random_2darray)"
   ]
  },
  {
   "cell_type": "code",
   "execution_count": 58,
   "id": "56a25a80",
   "metadata": {},
   "outputs": [
    {
     "data": {
      "text/plain": [
       "array([2, 0, 5, 2, 1])"
      ]
     },
     "execution_count": 58,
     "metadata": {},
     "output_type": "execute_result"
    }
   ],
   "source": [
    "random_1darr = random.choice([2,4,8,6,2,5,5,7,5,1,0,2,1], size=(5)) # Random generated from given list of numbers\n",
    "random_1darr"
   ]
  },
  {
   "cell_type": "code",
   "execution_count": 59,
   "id": "ce932e84",
   "metadata": {},
   "outputs": [
    {
     "data": {
      "text/plain": [
       "array([[1, 5, 1],\n",
       "       [2, 5, 5],\n",
       "       [2, 2, 5],\n",
       "       [2, 2, 5],\n",
       "       [2, 7, 4]])"
      ]
     },
     "execution_count": 59,
     "metadata": {},
     "output_type": "execute_result"
    }
   ],
   "source": [
    "random_2darr = random.choice([2,4,8,6,2,5,5,7,5,1,0,2,1], size=(5,3))  # Random generated from given list of numbers\n",
    "random_2darr"
   ]
  },
  {
   "cell_type": "code",
   "execution_count": 73,
   "id": "bda6c8bb",
   "metadata": {},
   "outputs": [
    {
     "data": {
      "text/plain": [
       "0.35177301785493786"
      ]
     },
     "execution_count": 73,
     "metadata": {},
     "output_type": "execute_result"
    }
   ],
   "source": [
    "x = random.rand() # This gives float values bw 0 to 1.  Single number\n",
    "x"
   ]
  },
  {
   "cell_type": "code",
   "execution_count": 74,
   "id": "a5704b95",
   "metadata": {},
   "outputs": [
    {
     "data": {
      "text/plain": [
       "array([0.71383567, 0.40269269, 0.1801978 , 0.87489518, 0.56273437])"
      ]
     },
     "execution_count": 74,
     "metadata": {},
     "output_type": "execute_result"
    }
   ],
   "source": [
    "x = random.rand(5) # 1D Array\n",
    "x"
   ]
  },
  {
   "cell_type": "code",
   "execution_count": 71,
   "id": "71fa4995",
   "metadata": {},
   "outputs": [
    {
     "data": {
      "text/plain": [
       "array([[0.29005571, 0.03838875, 0.26724333, 0.55469377, 0.09942821],\n",
       "       [0.49378034, 0.79373064, 0.10741003, 0.89072257, 0.68688832],\n",
       "       [0.15707969, 0.7697064 , 0.40777031, 0.45431943, 0.82340596]])"
      ]
     },
     "execution_count": 71,
     "metadata": {},
     "output_type": "execute_result"
    }
   ],
   "source": [
    "x = random.rand(3,5) # 2D Array\n",
    "x"
   ]
  },
  {
   "cell_type": "markdown",
   "id": "af674c77",
   "metadata": {},
   "source": [
    "# Numpy Matrix Operations"
   ]
  },
  {
   "cell_type": "code",
   "execution_count": 95,
   "id": "11356062",
   "metadata": {},
   "outputs": [
    {
     "name": "stdout",
     "output_type": "stream",
     "text": [
      "[45  2  3 30  3]\n",
      "[5 0 9 1 4]\n"
     ]
    }
   ],
   "source": [
    "arr1d_1 = random.randint(50,size=5)\n",
    "print(arr1d_1)\n",
    "arr1d_2 = random.randint(10,size=5)\n",
    "print(arr1d_2)"
   ]
  },
  {
   "cell_type": "code",
   "execution_count": 96,
   "id": "a639e951",
   "metadata": {},
   "outputs": [
    {
     "data": {
      "text/plain": [
       "array([50,  2, 12, 31,  7])"
      ]
     },
     "execution_count": 96,
     "metadata": {},
     "output_type": "execute_result"
    }
   ],
   "source": [
    "arr1d_1+arr1d_2 #Math Addition on matrix"
   ]
  },
  {
   "cell_type": "code",
   "execution_count": 103,
   "id": "1e02d632",
   "metadata": {},
   "outputs": [
    {
     "name": "stdout",
     "output_type": "stream",
     "text": [
      "[[42 18  1]\n",
      " [27 38 29]]\n",
      "[[5 8 7]\n",
      " [7 8 3]]\n"
     ]
    }
   ],
   "source": [
    "arr2d_1 = random.randint(50,size=(2,3))\n",
    "print(arr2d_1)\n",
    "arr2d_2 = random.randint(10,size=(2,3))\n",
    "print(arr2d_2)"
   ]
  },
  {
   "cell_type": "code",
   "execution_count": 108,
   "id": "84bc41d1",
   "metadata": {},
   "outputs": [
    {
     "data": {
      "text/plain": [
       "array([[47, 26,  8],\n",
       "       [34, 46, 32]])"
      ]
     },
     "execution_count": 108,
     "metadata": {},
     "output_type": "execute_result"
    }
   ],
   "source": [
    "arr2d_1+arr2d_2  # 2D array addition"
   ]
  },
  {
   "cell_type": "code",
   "execution_count": 110,
   "id": "ebb21767",
   "metadata": {},
   "outputs": [
    {
     "data": {
      "text/plain": [
       "array([[-37, -10,   6],\n",
       "       [-20, -30, -26]])"
      ]
     },
     "execution_count": 110,
     "metadata": {},
     "output_type": "execute_result"
    }
   ],
   "source": [
    "arr2d_2-arr2d_1 # 2D Substraction"
   ]
  },
  {
   "cell_type": "code",
   "execution_count": 106,
   "id": "819b936e",
   "metadata": {},
   "outputs": [
    {
     "data": {
      "text/plain": [
       "294"
      ]
     },
     "execution_count": 106,
     "metadata": {},
     "output_type": "execute_result"
    }
   ],
   "source": [
    "np.dot(arr1d_1,arr1d_2) # Dot Product of two 1D"
   ]
  },
  {
   "cell_type": "code",
   "execution_count": 112,
   "id": "4fbc5069",
   "metadata": {},
   "outputs": [
    {
     "data": {
      "text/plain": [
       "array([45,  2,  3, 30,  3])"
      ]
     },
     "execution_count": 112,
     "metadata": {},
     "output_type": "execute_result"
    }
   ],
   "source": [
    "arr1d_1"
   ]
  },
  {
   "cell_type": "code",
   "execution_count": 113,
   "id": "f1972bc6",
   "metadata": {},
   "outputs": [
    {
     "data": {
      "text/plain": [
       "array([225,  10,  15, 150,  15])"
      ]
     },
     "execution_count": 113,
     "metadata": {},
     "output_type": "execute_result"
    }
   ],
   "source": [
    "np.dot(arr1d_1,5) # Scalar X Vector, 5X all elements"
   ]
  },
  {
   "cell_type": "code",
   "execution_count": 120,
   "id": "fedff606",
   "metadata": {},
   "outputs": [
    {
     "ename": "ValueError",
     "evalue": "shapes (2,3) and (2,3) not aligned: 3 (dim 1) != 2 (dim 0)",
     "output_type": "error",
     "traceback": [
      "\u001b[0;31m---------------------------------------------------------------------------\u001b[0m",
      "\u001b[0;31mValueError\u001b[0m                                Traceback (most recent call last)",
      "\u001b[0;32m<ipython-input-120-ca2686a5dde8>\u001b[0m in \u001b[0;36m<module>\u001b[0;34m\u001b[0m\n\u001b[0;32m----> 1\u001b[0;31m \u001b[0mnp\u001b[0m\u001b[0;34m.\u001b[0m\u001b[0mdot\u001b[0m\u001b[0;34m(\u001b[0m\u001b[0marr2d_1\u001b[0m\u001b[0;34m,\u001b[0m\u001b[0marr2d_2\u001b[0m\u001b[0;34m)\u001b[0m \u001b[0;31m# for 2D Array this function performs matrix multiplication. m*n X n*p = m*p kind of\u001b[0m\u001b[0;34m\u001b[0m\u001b[0;34m\u001b[0m\u001b[0m\n\u001b[0m",
      "\u001b[0;32m<__array_function__ internals>\u001b[0m in \u001b[0;36mdot\u001b[0;34m(*args, **kwargs)\u001b[0m\n",
      "\u001b[0;31mValueError\u001b[0m: shapes (2,3) and (2,3) not aligned: 3 (dim 1) != 2 (dim 0)"
     ]
    }
   ],
   "source": [
    "np.dot(arr2d_1,arr2d_2) # for 2D Array this function performs matrix multiplication. m*n X n*p = m*p kind of like cross multiplication"
   ]
  },
  {
   "cell_type": "code",
   "execution_count": 117,
   "id": "b28bd9f2",
   "metadata": {},
   "outputs": [
    {
     "name": "stdout",
     "output_type": "stream",
     "text": [
      "[[28 35  2]\n",
      " [ 6 29  4]]\n",
      "[[1 2 7 7]\n",
      " [1 7 1 0]\n",
      " [9 5 0 6]]\n"
     ]
    }
   ],
   "source": [
    "arr2d_3 = random.randint(50,size=(2,3))\n",
    "print(arr2d_3)\n",
    "arr2d_4 = random.randint(10,size=(3,4))\n",
    "print(arr2d_4)"
   ]
  },
  {
   "cell_type": "code",
   "execution_count": 119,
   "id": "ecd44566",
   "metadata": {},
   "outputs": [
    {
     "data": {
      "text/plain": [
       "array([[ 81, 311, 231, 208],\n",
       "       [ 71, 235,  71,  66]])"
      ]
     },
     "execution_count": 119,
     "metadata": {},
     "output_type": "execute_result"
    }
   ],
   "source": [
    "np.dot(arr2d_3,arr2d_4)"
   ]
  },
  {
   "cell_type": "markdown",
   "id": "d83e3275",
   "metadata": {},
   "source": [
    "# Assignment / Revision"
   ]
  },
  {
   "cell_type": "code",
   "execution_count": 121,
   "id": "60a199f7",
   "metadata": {},
   "outputs": [],
   "source": [
    "import numpy as np"
   ]
  },
  {
   "cell_type": "code",
   "execution_count": 122,
   "id": "1ab28b0e",
   "metadata": {},
   "outputs": [
    {
     "data": {
      "text/plain": [
       "'1.20.1'"
      ]
     },
     "execution_count": 122,
     "metadata": {},
     "output_type": "execute_result"
    }
   ],
   "source": [
    "# Checking Version\n",
    "np.__version__"
   ]
  },
  {
   "cell_type": "code",
   "execution_count": 123,
   "id": "a358b519",
   "metadata": {},
   "outputs": [],
   "source": [
    "arr = np.array([5,8,7,9,6])"
   ]
  },
  {
   "cell_type": "code",
   "execution_count": 134,
   "id": "cca373c0",
   "metadata": {},
   "outputs": [
    {
     "name": "stdout",
     "output_type": "stream",
     "text": [
      "[[5 4 7]\n",
      " [6 8 9]\n",
      " [8 5 1]\n",
      " [0 4 5]]\n",
      "[[5 4 7]\n",
      " [6 8 9]\n",
      " [8 5 1]\n",
      " [0 4 5]]\n"
     ]
    }
   ],
   "source": [
    "arr = np.array([[5,4,7],[6,8,9],[8,5,1],[0,4,5]])\n",
    "arr1 = np.array([(5,4,7),(6,8,9),(8,5,1),(0,4,5)])\n",
    "print(arr1)\n",
    "print(arr)"
   ]
  },
  {
   "cell_type": "code",
   "execution_count": 125,
   "id": "4145acc7",
   "metadata": {},
   "outputs": [
    {
     "data": {
      "text/plain": [
       "array([[5, 4, 7],\n",
       "       [6, 8, 9],\n",
       "       [8, 5, 1],\n",
       "       [0, 4, 5]])"
      ]
     },
     "execution_count": 125,
     "metadata": {},
     "output_type": "execute_result"
    }
   ],
   "source": [
    "arr"
   ]
  },
  {
   "cell_type": "code",
   "execution_count": 126,
   "id": "8b875f1d",
   "metadata": {},
   "outputs": [
    {
     "data": {
      "text/plain": [
       "(4, 3)"
      ]
     },
     "execution_count": 126,
     "metadata": {},
     "output_type": "execute_result"
    }
   ],
   "source": [
    "np.shape(arr)"
   ]
  },
  {
   "cell_type": "code",
   "execution_count": 131,
   "id": "79ff4bf9",
   "metadata": {},
   "outputs": [
    {
     "data": {
      "text/plain": [
       "array([[7, 6, 8, 2],\n",
       "       [7, 3, 2, 4]])"
      ]
     },
     "execution_count": 131,
     "metadata": {},
     "output_type": "execute_result"
    }
   ],
   "source": [
    "from numpy import random\n",
    "arr = random.randint(10, size = (2,4))\n",
    "arr"
   ]
  },
  {
   "cell_type": "code",
   "execution_count": 137,
   "id": "ad681094",
   "metadata": {},
   "outputs": [
    {
     "name": "stdout",
     "output_type": "stream",
     "text": [
      "[2 3 4 5]\n"
     ]
    }
   ],
   "source": [
    "array=np.array([1,2,3,4,5,6])\n",
    "print(array[-5:-1])"
   ]
  },
  {
   "cell_type": "code",
   "execution_count": 145,
   "id": "7aab2b15",
   "metadata": {},
   "outputs": [
    {
     "name": "stdout",
     "output_type": "stream",
     "text": [
      "[[ 1  2  3  4]\n",
      " [ 3  4  5  6]\n",
      " [ 7  8  9 10]] \n",
      "\n",
      "[5 9] \n",
      "\n",
      "[3 4 5 6] \n",
      "\n",
      "[[ 4  5  6]\n",
      " [ 8  9 10]] \n",
      "\n"
     ]
    }
   ],
   "source": [
    "a=np.array([(1,2,3,4),(3,4,5,6),(7,8,9,10)]) # Accessing the elements\n",
    "print(a,\"\\n\")\n",
    "print(a[1:,2],\"\\n\")\n",
    "print(a[1,0:],\"\\n\")\n",
    "print(a[1:,1:],\"\\n\")"
   ]
  },
  {
   "cell_type": "code",
   "execution_count": 154,
   "id": "9b4e0843",
   "metadata": {},
   "outputs": [
    {
     "name": "stdout",
     "output_type": "stream",
     "text": [
      "[1 3 7]\n",
      "[3 4 5 6]\n",
      "[ 7  8  9 10]\n"
     ]
    }
   ],
   "source": [
    "print(a[:,0]) # First coloumn\n",
    "print(a[1]) # Second Row\n",
    "print(a[2]) # Third Row"
   ]
  },
  {
   "cell_type": "code",
   "execution_count": 155,
   "id": "c8b40e6f",
   "metadata": {},
   "outputs": [
    {
     "name": "stdout",
     "output_type": "stream",
     "text": [
      "[[ 1  5  9]\n",
      " [10 12  2]\n",
      " [ 5  7  8]]\n",
      "9\n",
      "1\n",
      "24\n"
     ]
    }
   ],
   "source": [
    "a = np.array([(1,5,9),(10,12,2),(5,7,8)]) #  Row and Coloumn Operations\n",
    "print(a)\n",
    "print(a[0].max())\n",
    "print(a[0].min())\n",
    "print(a[1].sum())"
   ]
  },
  {
   "cell_type": "code",
   "execution_count": 161,
   "id": "12501bd8",
   "metadata": {},
   "outputs": [
    {
     "name": "stdout",
     "output_type": "stream",
     "text": [
      "[1 2 3 4 5 6]\n",
      "[1 3 5]\n"
     ]
    }
   ],
   "source": [
    "list1 = [1,2,3,4,5,6]\n",
    "arr = np.array(list1)\n",
    "print(arr)\n",
    "print(arr[::2])"
   ]
  },
  {
   "cell_type": "code",
   "execution_count": 169,
   "id": "d794cd0c",
   "metadata": {},
   "outputs": [
    {
     "name": "stdout",
     "output_type": "stream",
     "text": [
      "[[10 12  4]\n",
      " [ 4  2  8]\n",
      " [12  0 15]\n",
      " [ 8  8  1]]\n",
      "[[10 12]\n",
      " [ 4  4]\n",
      " [ 2  8]\n",
      " [12  0]\n",
      " [15  8]\n",
      " [ 8  1]]\n",
      "[[10 12  4  4]\n",
      " [ 2  8 12  0]\n",
      " [15  8  8  1]]\n"
     ]
    }
   ],
   "source": [
    "a = random.randint(20, size = (4,3)) # Array reshaping\n",
    "print(a)\n",
    "print(np.reshape(a,(6,2)))\n",
    "print(a.reshape(3,4))\n"
   ]
  },
  {
   "cell_type": "code",
   "execution_count": 182,
   "id": "a7bcdc79",
   "metadata": {},
   "outputs": [
    {
     "name": "stdout",
     "output_type": "stream",
     "text": [
      "[[74 97 22 84 14  6 79 25 41 78]\n",
      " [94 75  6  6 39  4 10 48  5 79]] \n",
      "\n",
      "[[87 52 79 15 76 34 34  4 20  2]\n",
      " [86  8 96  2 80 47 75 67 63 94]]\n"
     ]
    },
    {
     "data": {
      "text/plain": [
       "array([[74, 97, 22, 84, 14,  6, 79, 25, 41, 78],\n",
       "       [94, 75,  6,  6, 39,  4, 10, 48,  5, 79],\n",
       "       [23, 57, 79, 23, 12, 14, 90, 90, 99, 72],\n",
       "       [30, 47, 62, 33, 46, 60, 83,  8, 88, 99]])"
      ]
     },
     "execution_count": 182,
     "metadata": {},
     "output_type": "execute_result"
    }
   ],
   "source": [
    "#Arranging two arrays vertically : Vertical Stack\n",
    "from numpy import random \n",
    "import numpy as np\n",
    "arr=np.random.randint(100,size=(2,10))\n",
    "print(arr,\"\\n\")\n",
    "print(arr2)\n",
    "arr2=np.random.randint(100,size=(2,10))\n",
    "np.vstack((arr,arr2))\n"
   ]
  },
  {
   "cell_type": "code",
   "execution_count": 183,
   "id": "8edaa92e",
   "metadata": {},
   "outputs": [
    {
     "data": {
      "text/plain": [
       "array([[97, 33],\n",
       "       [ 2, 29],\n",
       "       [73, 64],\n",
       "       [18, 97]])"
      ]
     },
     "execution_count": 183,
     "metadata": {},
     "output_type": "execute_result"
    }
   ],
   "source": [
    "from numpy import random\n",
    "arr1=np.random.randint(100,size=(2,2))\n",
    "arr4=np.random.randint(100,size=(2,2))\n",
    "np.vstack((arr1,arr4))"
   ]
  },
  {
   "cell_type": "code",
   "execution_count": 187,
   "id": "3070d069",
   "metadata": {},
   "outputs": [
    {
     "data": {
      "text/plain": [
       "array([[99, 89, 45, 53],\n",
       "       [60, 54, 46, 87]])"
      ]
     },
     "execution_count": 187,
     "metadata": {},
     "output_type": "execute_result"
    }
   ],
   "source": [
    "##Arranging two arrays horizontly : Horizontal Stack\n",
    "from numpy import random\n",
    "arr1=np.random.randint(100,size=(2,2))\n",
    "arr4=np.random.randint(100,size=(2,2))\n",
    "np.hstack((arr1,arr4))"
   ]
  },
  {
   "cell_type": "code",
   "execution_count": 191,
   "id": "0b7fc993",
   "metadata": {},
   "outputs": [
    {
     "data": {
      "text/plain": [
       "(array([3]),)"
      ]
     },
     "execution_count": 191,
     "metadata": {},
     "output_type": "execute_result"
    }
   ],
   "source": [
    "arr = np.array([1,2,4,5])\n",
    "np.where(arr == 5)"
   ]
  },
  {
   "cell_type": "code",
   "execution_count": 192,
   "id": "83412021",
   "metadata": {},
   "outputs": [
    {
     "data": {
      "text/plain": [
       "array([[34, 43, 73],\n",
       "       [82, 22, 12],\n",
       "       [53, 94, 66]])"
      ]
     },
     "execution_count": 192,
     "metadata": {},
     "output_type": "execute_result"
    }
   ],
   "source": [
    "# Deleting and replacing a coloumn\n",
    "sampleArray = np.array([[34,43,73],[82,22,12],[53,94,66]])\n",
    "sampleArray"
   ]
  },
  {
   "cell_type": "code",
   "execution_count": 197,
   "id": "d342ded3",
   "metadata": {},
   "outputs": [],
   "source": [
    "sampleArray[:,1] = [0,0,0]\n",
    "# OR this can also be written : sampleArray[:,1] = np.array([0,0,0])"
   ]
  },
  {
   "cell_type": "code",
   "execution_count": 196,
   "id": "69530e6f",
   "metadata": {},
   "outputs": [
    {
     "data": {
      "text/plain": [
       "array([[34,  0, 73],\n",
       "       [82,  0, 12],\n",
       "       [53,  0, 66]])"
      ]
     },
     "execution_count": 196,
     "metadata": {},
     "output_type": "execute_result"
    }
   ],
   "source": [
    "sampleArray"
   ]
  },
  {
   "cell_type": "code",
   "execution_count": 198,
   "id": "166592e2",
   "metadata": {},
   "outputs": [
    {
     "data": {
      "text/plain": [
       "array([[34, 43, 73],\n",
       "       [82, 22, 12],\n",
       "       [53, 94, 66]])"
      ]
     },
     "execution_count": 198,
     "metadata": {},
     "output_type": "execute_result"
    }
   ],
   "source": [
    "sampleArray = np.array([[34,43,73],[82,22,12],[53,94,66]])\n",
    "sampleArray"
   ]
  },
  {
   "cell_type": "code",
   "execution_count": 200,
   "id": "e3daecbd",
   "metadata": {},
   "outputs": [
    {
     "data": {
      "text/plain": [
       "array([[34, 43, 73],\n",
       "       [82, 22, 12],\n",
       "       [ 0,  0,  0]])"
      ]
     },
     "execution_count": 200,
     "metadata": {},
     "output_type": "execute_result"
    }
   ],
   "source": [
    "sampleArray[2,:] = [0,0,0]\n",
    "sampleArray"
   ]
  },
  {
   "cell_type": "code",
   "execution_count": null,
   "id": "6652a168",
   "metadata": {},
   "outputs": [],
   "source": []
  },
  {
   "cell_type": "code",
   "execution_count": null,
   "id": "d03b4b0f",
   "metadata": {},
   "outputs": [],
   "source": []
  },
  {
   "cell_type": "code",
   "execution_count": null,
   "id": "763ffc17",
   "metadata": {},
   "outputs": [],
   "source": []
  }
 ],
 "metadata": {
  "kernelspec": {
   "display_name": "Python 3",
   "language": "python",
   "name": "python3"
  },
  "language_info": {
   "codemirror_mode": {
    "name": "ipython",
    "version": 3
   },
   "file_extension": ".py",
   "mimetype": "text/x-python",
   "name": "python",
   "nbconvert_exporter": "python",
   "pygments_lexer": "ipython3",
   "version": "3.8.8"
  },
  "varInspector": {
   "cols": {
    "lenName": 16,
    "lenType": 16,
    "lenVar": 40
   },
   "kernels_config": {
    "python": {
     "delete_cmd_postfix": "",
     "delete_cmd_prefix": "del ",
     "library": "var_list.py",
     "varRefreshCmd": "print(var_dic_list())"
    },
    "r": {
     "delete_cmd_postfix": ") ",
     "delete_cmd_prefix": "rm(",
     "library": "var_list.r",
     "varRefreshCmd": "cat(var_dic_list()) "
    }
   },
   "position": {
    "height": "294.85px",
    "left": "924px",
    "right": "20px",
    "top": "120px",
    "width": "350px"
   },
   "types_to_exclude": [
    "module",
    "function",
    "builtin_function_or_method",
    "instance",
    "_Feature"
   ],
   "window_display": false
  }
 },
 "nbformat": 4,
 "nbformat_minor": 5
}
