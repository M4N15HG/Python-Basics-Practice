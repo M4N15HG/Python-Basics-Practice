{
 "cells": [
  {
   "cell_type": "markdown",
   "id": "e638dc27",
   "metadata": {},
   "source": [
    "# Local and Global Variable"
   ]
  },
  {
   "cell_type": "code",
   "execution_count": 6,
   "id": "8d595223",
   "metadata": {},
   "outputs": [
    {
     "name": "stdout",
     "output_type": "stream",
     "text": [
      "This is A inside function : 15\n",
      "This is B inside function : 117\n",
      "This is Local C inside function : 14\n",
      "This is Global D inside function : 20\n",
      "This is A outside function : 15\n",
      "This is B outside function : 25\n",
      "This is D outside function : 20\n"
     ]
    },
    {
     "ename": "NameError",
     "evalue": "name 'c' is not defined",
     "output_type": "error",
     "traceback": [
      "\u001b[0;31m---------------------------------------------------------------------------\u001b[0m",
      "\u001b[0;31mNameError\u001b[0m                                 Traceback (most recent call last)",
      "\u001b[0;32m<ipython-input-6-edbd18d37cd5>\u001b[0m in \u001b[0;36m<module>\u001b[0;34m\u001b[0m\n\u001b[1;32m     17\u001b[0m \u001b[0mprint\u001b[0m\u001b[0;34m(\u001b[0m\u001b[0;34m\"This is B outside function :\"\u001b[0m\u001b[0;34m,\u001b[0m\u001b[0mb\u001b[0m\u001b[0;34m)\u001b[0m\u001b[0;34m\u001b[0m\u001b[0;34m\u001b[0m\u001b[0m\n\u001b[1;32m     18\u001b[0m \u001b[0mprint\u001b[0m\u001b[0;34m(\u001b[0m\u001b[0;34m\"This is D outside function :\"\u001b[0m\u001b[0;34m,\u001b[0m\u001b[0md\u001b[0m\u001b[0;34m)\u001b[0m\u001b[0;34m\u001b[0m\u001b[0;34m\u001b[0m\u001b[0m\n\u001b[0;32m---> 19\u001b[0;31m \u001b[0mprint\u001b[0m\u001b[0;34m(\u001b[0m\u001b[0;34m\"This is C outside function :\"\u001b[0m\u001b[0;34m,\u001b[0m\u001b[0mc\u001b[0m\u001b[0;34m)\u001b[0m \u001b[0;31m# Note this is not available outside function as it is locally defined\u001b[0m\u001b[0;34m\u001b[0m\u001b[0;34m\u001b[0m\u001b[0m\n\u001b[0m\u001b[1;32m     20\u001b[0m \u001b[0;34m\u001b[0m\u001b[0m\n\u001b[1;32m     21\u001b[0m \u001b[0;34m\u001b[0m\u001b[0m\n",
      "\u001b[0;31mNameError\u001b[0m: name 'c' is not defined"
     ]
    }
   ],
   "source": [
    "a = 15\n",
    "b = 25\n",
    "\n",
    "def func():\n",
    "    b = 117\n",
    "    c = 14\n",
    "    global d \n",
    "    d = 20\n",
    "    \n",
    "    print(\"This is A inside function :\",a)\n",
    "    print(\"This is B inside function :\",b)\n",
    "    print(\"This is Local C inside function :\",c)\n",
    "    print(\"This is Global D inside function :\",d)\n",
    "    \n",
    "func()\n",
    "print(\"This is A outside function :\",a)\n",
    "print(\"This is B outside function :\",b)\n",
    "print(\"This is D outside function :\",d)\n",
    "print(\"This is C outside function :\",c) # Note this is not available outside function as it is locally defined"
   ]
  },
  {
   "cell_type": "markdown",
   "id": "fe7bf544",
   "metadata": {},
   "source": [
    "# Functions"
   ]
  },
  {
   "cell_type": "code",
   "execution_count": 8,
   "id": "4b5c3b50",
   "metadata": {},
   "outputs": [
    {
     "name": "stdout",
     "output_type": "stream",
     "text": [
      "Enter the first number : 1\n",
      "Enter the second number : 4\n",
      "5\n",
      "The sum is 5\n"
     ]
    }
   ],
   "source": [
    "a = int(input(\"Enter the first number : \"))\n",
    "\n",
    "b = int(input(\"Enter the second number : \"))\n",
    "\n",
    "c = a + b\n",
    "print(\"The sum is\", c)"
   ]
  },
  {
   "cell_type": "code",
   "execution_count": 2,
   "id": "add61bd6",
   "metadata": {},
   "outputs": [
    {
     "name": "stdout",
     "output_type": "stream",
     "text": [
      "Enter the first number : \n",
      "5\n",
      "Enter the second number : \n",
      "6\n",
      "11\n"
     ]
    }
   ],
   "source": [
    "print(\"Enter the first number : \")\n",
    "a = int(input())\n",
    "\n",
    "print(\"Enter the second number : \")\n",
    "b = int(input())\n",
    "\n",
    "c = a + b\n",
    "print(c)"
   ]
  },
  {
   "cell_type": "code",
   "execution_count": 7,
   "id": "1a6d5245",
   "metadata": {},
   "outputs": [],
   "source": [
    "# Function to add\n",
    "def add(): # Definig a function\n",
    "    a =15\n",
    "    b = 7\n",
    "    c = a+b\n",
    "    print(c)"
   ]
  },
  {
   "cell_type": "code",
   "execution_count": 9,
   "id": "ce35d527",
   "metadata": {},
   "outputs": [
    {
     "name": "stdout",
     "output_type": "stream",
     "text": [
      "22\n"
     ]
    }
   ],
   "source": [
    "add() # Calling a function without parameters"
   ]
  },
  {
   "cell_type": "code",
   "execution_count": 13,
   "id": "9b6b55b4",
   "metadata": {},
   "outputs": [],
   "source": [
    "#Function to add with user entered data as parameter\n",
    "def add2(a,b): # Here a and b are parameters\n",
    "    c = a+b\n",
    "    print(c)"
   ]
  },
  {
   "cell_type": "code",
   "execution_count": 11,
   "id": "47e1c4e2",
   "metadata": {},
   "outputs": [
    {
     "name": "stdout",
     "output_type": "stream",
     "text": [
      "4\n"
     ]
    }
   ],
   "source": [
    "add2(2,2) # Function called with parameters"
   ]
  },
  {
   "cell_type": "code",
   "execution_count": 14,
   "id": "f9d386b8",
   "metadata": {},
   "outputs": [
    {
     "name": "stdout",
     "output_type": "stream",
     "text": [
      "11\n"
     ]
    }
   ],
   "source": [
    "add2(4,7)"
   ]
  },
  {
   "cell_type": "code",
   "execution_count": 15,
   "id": "a1b8dbb0",
   "metadata": {},
   "outputs": [
    {
     "name": "stdout",
     "output_type": "stream",
     "text": [
      "a =  150\n",
      "b =  200\n",
      "c =  300\n",
      "d =  400\n",
      "End of function\n",
      "a =  150\n",
      "b =  250\n",
      "c =  300\n",
      "d =  400\n",
      "End of function\n",
      "a =  150\n",
      "b =  250\n",
      "c =  350\n",
      "d =  400\n",
      "End of function\n",
      "a =  150\n",
      "b =  250\n",
      "c =  350\n",
      "d =  450\n",
      "End of function\n"
     ]
    }
   ],
   "source": [
    "# Function calling with different arguments\n",
    "def fcntest(a = 100, b = 200, c = 300, d = 400):\n",
    "    print(\"a = \",a)\n",
    "    print(\"b = \",b)\n",
    "    print(\"c = \",c)\n",
    "    print(\"d = \",d)\n",
    "    print(\"End of function\")\n",
    "#Calling\n",
    "fcntest(150) # Function defined with  multiple arguments if takes less argument it assigns it to first by default\n",
    "fcntest(150,250) # Parameters passed are taken preference over parameter in function defination\n",
    "fcntest(150,250,350)\n",
    "fcntest(150,250,350,450)"
   ]
  },
  {
   "cell_type": "code",
   "execution_count": 2,
   "id": "196be7f5",
   "metadata": {},
   "outputs": [
    {
     "name": "stdout",
     "output_type": "stream",
     "text": [
      "Enter 3 numbers :\n",
      "58\n",
      "74\n",
      "10\n",
      "74 is largest of three\n"
     ]
    }
   ],
   "source": [
    "# Function to find max number with 3 arguments\n",
    "\n",
    "def maximum(a,b,c):\n",
    "    if(a>b and a>c):\n",
    "        return(a)\n",
    "    elif(b>a and b>c):\n",
    "        return(b)\n",
    "    else:\n",
    "        return(c)\n",
    "\n",
    "#Program\n",
    "print(\"Enter 3 numbers :\")\n",
    "x = int(input())\n",
    "y = int(input())\n",
    "z = int(input())\n",
    "\n",
    "#Function Call\n",
    "mxm = maximum(x,y,z)\n",
    "print(mxm,\"is largest of three\")\n"
   ]
  },
  {
   "cell_type": "code",
   "execution_count": 3,
   "id": "17207ad3",
   "metadata": {},
   "outputs": [
    {
     "name": "stdout",
     "output_type": "stream",
     "text": [
      "Please enter the text : Yo How Thou\n",
      "uohT woH oY\n"
     ]
    }
   ],
   "source": [
    "#Function to reverse a string.\n",
    "def rev(arr):\n",
    "    arr = arr[::-1]\n",
    "    print(arr)\n",
    "strng = str(input(\"Please enter the text : \"))\n",
    "rev(strng)"
   ]
  },
  {
   "cell_type": "code",
   "execution_count": 8,
   "id": "52ef44c6",
   "metadata": {},
   "outputs": [
    {
     "name": "stdout",
     "output_type": "stream",
     "text": [
      "Please enter the text : You arE my Ope12\n",
      "Upper case :  3\n",
      "Lower case :  8\n",
      "Invalid characters :  5\n"
     ]
    }
   ],
   "source": [
    "# Function to count uppercase and lower case\n",
    "def countc(arr):\n",
    "    u = 0; l = 0; v = 0;\n",
    "    for i in arr:\n",
    "        if i.isupper():\n",
    "            u = u+1\n",
    "        elif i.islower():\n",
    "            l = l+1\n",
    "        else:\n",
    "            v = v+1\n",
    "    print(\"Upper case : \",u)\n",
    "    print(\"Lower case : \",l)\n",
    "    print(\"Invalid characters : \",v)\n",
    "\n",
    "# Calling Function\n",
    "strng = str(input(\"Please enter the text : \"))\n",
    "countc(strng)            "
   ]
  },
  {
   "cell_type": "code",
   "execution_count": 15,
   "id": "9846bf8e",
   "metadata": {},
   "outputs": [
    {
     "name": "stdout",
     "output_type": "stream",
     "text": [
      "Please enter the text : Dead\n",
      "String is not Palindrome\n"
     ]
    }
   ],
   "source": [
    "# Function to check for Palindrome\n",
    "def checkpalin(string):\n",
    "    rev_string = []\n",
    "    string = string.lower() #Converting in lower case\n",
    "    rev_string = string[::-1]\n",
    "    if string == rev_string:\n",
    "        print(\"Plaindrome\")\n",
    "    else:\n",
    "        print(\"String is not Palindrome\")\n",
    "# Calling Function\n",
    "strng = str(input(\"Please enter the text : \"))\n",
    "checkpalin(strng) "
   ]
  },
  {
   "cell_type": "markdown",
   "id": "33acbb5b",
   "metadata": {},
   "source": [
    "## Recursive Functions"
   ]
  },
  {
   "cell_type": "markdown",
   "id": "b9a4474e",
   "metadata": {},
   "source": [
    "The functions that call themselves"
   ]
  },
  {
   "cell_type": "code",
   "execution_count": 1,
   "id": "d1c7e38c",
   "metadata": {},
   "outputs": [
    {
     "name": "stdout",
     "output_type": "stream",
     "text": [
      "Enter the number : 2\n",
      "Facotrial of 2 is 2\n"
     ]
    }
   ],
   "source": [
    "#Factorial using recursive function\n",
    "def factorial(n):\n",
    "    if (n == 0 or n == 1):\n",
    "        return(1)\n",
    "    else:\n",
    "        return(n*factorial(n-1))\n",
    "\n",
    "#Calling\n",
    "x  =  int(input(\"Enter the number : \"))\n",
    "fact = factorial(x)\n",
    "print(\"Facotrial of\",x,\"is\",fact)"
   ]
  },
  {
   "cell_type": "code",
   "execution_count": null,
   "id": "4cbe3b41",
   "metadata": {},
   "outputs": [],
   "source": []
  },
  {
   "cell_type": "markdown",
   "id": "508cfdd7",
   "metadata": {},
   "source": [
    "# Lambda Functions "
   ]
  },
  {
   "cell_type": "markdown",
   "id": "f5059caf",
   "metadata": {},
   "source": [
    "* One Line functions without name\n",
    "* A lambda function can take any number of arguments, but can only have one expression.\n",
    "* Used mainly within functions\n",
    "* Gives function power to do varity of functions with single defination"
   ]
  },
  {
   "cell_type": "code",
   "execution_count": 24,
   "id": "c50cfb4d",
   "metadata": {},
   "outputs": [
    {
     "data": {
      "text/plain": [
       "6"
      ]
     },
     "execution_count": 24,
     "metadata": {},
     "output_type": "execute_result"
    }
   ],
   "source": [
    "x = lambda a,b,c: a+b+c\n",
    "x(1,2,3)"
   ]
  },
  {
   "cell_type": "code",
   "execution_count": 27,
   "id": "f27550a1",
   "metadata": {},
   "outputs": [
    {
     "name": "stdout",
     "output_type": "stream",
     "text": [
      "36\n"
     ]
    }
   ],
   "source": [
    "x = lambda a : a*a\n",
    "print(x(6))"
   ]
  },
  {
   "cell_type": "code",
   "execution_count": 32,
   "id": "b0e6744e",
   "metadata": {},
   "outputs": [
    {
     "name": "stdout",
     "output_type": "stream",
     "text": [
      "[54, 36, 38, 182, 10, 12, 14, 174, 44, 66]\n"
     ]
    }
   ],
   "source": [
    "list1 = [27, 18, 19, 91, 5, 6, 7, 87, 22, 33]\n",
    "  \n",
    "dbl_list = list(map(lambda x: x*2, list1)) # Multiplying every element by 2 (Mapping)\n",
    "\n",
    "print(dbl_list)"
   ]
  },
  {
   "cell_type": "code",
   "execution_count": 36,
   "id": "3608c882",
   "metadata": {},
   "outputs": [
    {
     "name": "stdout",
     "output_type": "stream",
     "text": [
      "[27, 19, 91, 5, 7, 87, 33]\n"
     ]
    }
   ],
   "source": [
    "list1 = [27, 18, 19, 91, 5, 6, 7, 87, 22, 33]\n",
    "\n",
    "odd_list = list(filter(lambda x: (x%2 != 0) , list1)) # Filtering only odd numbers \n",
    "\n",
    "print(odd_list)\n"
   ]
  },
  {
   "cell_type": "markdown",
   "id": "4e3df182",
   "metadata": {},
   "source": [
    "### Using lambda within a function"
   ]
  },
  {
   "cell_type": "code",
   "execution_count": 44,
   "id": "78e050c7",
   "metadata": {},
   "outputs": [
    {
     "name": "stdout",
     "output_type": "stream",
     "text": [
      "81\n",
      "216\n"
     ]
    }
   ],
   "source": [
    "# Example of using lambda function to increase the diversity of function\n",
    "\n",
    "def multi(n):\n",
    "    return lambda x : x**n\n",
    "\n",
    "square = multi(2) # Here with the help of lambda one generic function is converted to two functions(square and cube)\n",
    "cube = multi(3) # Lambda function is returned to cube and square\n",
    "\n",
    "print(square(9)) # Here this performs square of number\n",
    "print(cube(6)) # Here this performs cube of a number"
   ]
  },
  {
   "cell_type": "code",
   "execution_count": null,
   "id": "7a0e4317",
   "metadata": {},
   "outputs": [],
   "source": []
  }
 ],
 "metadata": {
  "kernelspec": {
   "display_name": "Python 3",
   "language": "python",
   "name": "python3"
  },
  "language_info": {
   "codemirror_mode": {
    "name": "ipython",
    "version": 3
   },
   "file_extension": ".py",
   "mimetype": "text/x-python",
   "name": "python",
   "nbconvert_exporter": "python",
   "pygments_lexer": "ipython3",
   "version": "3.8.8"
  }
 },
 "nbformat": 4,
 "nbformat_minor": 5
}
