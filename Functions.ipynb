{
 "cells": [
  {
   "cell_type": "markdown",
   "id": "e638dc27",
   "metadata": {},
   "source": [
    "# Local and Global Variable"
   ]
  },
  {
   "cell_type": "code",
   "execution_count": 6,
   "id": "8d595223",
   "metadata": {},
   "outputs": [
    {
     "name": "stdout",
     "output_type": "stream",
     "text": [
      "This is A inside function : 15\n",
      "This is B inside function : 117\n",
      "This is Local C inside function : 14\n",
      "This is Global D inside function : 20\n",
      "This is A outside function : 15\n",
      "This is B outside function : 25\n",
      "This is D outside function : 20\n"
     ]
    },
    {
     "ename": "NameError",
     "evalue": "name 'c' is not defined",
     "output_type": "error",
     "traceback": [
      "\u001b[0;31m---------------------------------------------------------------------------\u001b[0m",
      "\u001b[0;31mNameError\u001b[0m                                 Traceback (most recent call last)",
      "\u001b[0;32m<ipython-input-6-edbd18d37cd5>\u001b[0m in \u001b[0;36m<module>\u001b[0;34m\u001b[0m\n\u001b[1;32m     17\u001b[0m \u001b[0mprint\u001b[0m\u001b[0;34m(\u001b[0m\u001b[0;34m\"This is B outside function :\"\u001b[0m\u001b[0;34m,\u001b[0m\u001b[0mb\u001b[0m\u001b[0;34m)\u001b[0m\u001b[0;34m\u001b[0m\u001b[0;34m\u001b[0m\u001b[0m\n\u001b[1;32m     18\u001b[0m \u001b[0mprint\u001b[0m\u001b[0;34m(\u001b[0m\u001b[0;34m\"This is D outside function :\"\u001b[0m\u001b[0;34m,\u001b[0m\u001b[0md\u001b[0m\u001b[0;34m)\u001b[0m\u001b[0;34m\u001b[0m\u001b[0;34m\u001b[0m\u001b[0m\n\u001b[0;32m---> 19\u001b[0;31m \u001b[0mprint\u001b[0m\u001b[0;34m(\u001b[0m\u001b[0;34m\"This is C outside function :\"\u001b[0m\u001b[0;34m,\u001b[0m\u001b[0mc\u001b[0m\u001b[0;34m)\u001b[0m \u001b[0;31m# Note this is not available outside function as it is locally defined\u001b[0m\u001b[0;34m\u001b[0m\u001b[0;34m\u001b[0m\u001b[0m\n\u001b[0m\u001b[1;32m     20\u001b[0m \u001b[0;34m\u001b[0m\u001b[0m\n\u001b[1;32m     21\u001b[0m \u001b[0;34m\u001b[0m\u001b[0m\n",
      "\u001b[0;31mNameError\u001b[0m: name 'c' is not defined"
     ]
    }
   ],
   "source": [
    "a = 15\n",
    "b = 25\n",
    "\n",
    "def func():\n",
    "    b = 117\n",
    "    c = 14\n",
    "    global d \n",
    "    d = 20\n",
    "    \n",
    "    print(\"This is A inside function :\",a)\n",
    "    print(\"This is B inside function :\",b)\n",
    "    print(\"This is Local C inside function :\",c)\n",
    "    print(\"This is Global D inside function :\",d)\n",
    "    \n",
    "func()\n",
    "print(\"This is A outside function :\",a)\n",
    "print(\"This is B outside function :\",b)\n",
    "print(\"This is D outside function :\",d)\n",
    "print(\"This is C outside function :\",c) # Note this is not available outside function as it is locally defined"
   ]
  },
  {
   "cell_type": "markdown",
   "id": "fe7bf544",
   "metadata": {},
   "source": [
    "# Functions"
   ]
  },
  {
   "cell_type": "code",
   "execution_count": 8,
   "id": "4b5c3b50",
   "metadata": {},
   "outputs": [
    {
     "name": "stdout",
     "output_type": "stream",
     "text": [
      "Enter the first number : 1\n",
      "Enter the second number : 4\n",
      "5\n",
      "The sum is 5\n"
     ]
    }
   ],
   "source": [
    "a = int(input(\"Enter the first number : \"))\n",
    "\n",
    "b = int(input(\"Enter the second number : \"))\n",
    "\n",
    "c = a + b\n",
    "print(\"The sum is\", c)"
   ]
  },
  {
   "cell_type": "code",
   "execution_count": 2,
   "id": "add61bd6",
   "metadata": {},
   "outputs": [
    {
     "name": "stdout",
     "output_type": "stream",
     "text": [
      "Enter the first number : \n",
      "5\n",
      "Enter the second number : \n",
      "6\n",
      "11\n"
     ]
    }
   ],
   "source": [
    "print(\"Enter the first number : \")\n",
    "a = int(input())\n",
    "\n",
    "print(\"Enter the second number : \")\n",
    "b = int(input())\n",
    "\n",
    "c = a + b\n",
    "print(c)"
   ]
  },
  {
   "cell_type": "code",
   "execution_count": 7,
   "id": "1a6d5245",
   "metadata": {},
   "outputs": [],
   "source": [
    "# Function to add\n",
    "def add(): # Definig a function\n",
    "    a =15\n",
    "    b = 7\n",
    "    c = a+b\n",
    "    print(c)"
   ]
  },
  {
   "cell_type": "code",
   "execution_count": 9,
   "id": "ce35d527",
   "metadata": {},
   "outputs": [
    {
     "name": "stdout",
     "output_type": "stream",
     "text": [
      "22\n"
     ]
    }
   ],
   "source": [
    "add() # Calling a function without parameters"
   ]
  },
  {
   "cell_type": "code",
   "execution_count": 10,
   "id": "9b6b55b4",
   "metadata": {},
   "outputs": [],
   "source": [
    "#Function to add with user entered data as parameter\n",
    "def add2(a,b): # Here a and b are parameters\n",
    "    c = a+b\n",
    "    print(c)"
   ]
  },
  {
   "cell_type": "code",
   "execution_count": 11,
   "id": "47e1c4e2",
   "metadata": {},
   "outputs": [
    {
     "name": "stdout",
     "output_type": "stream",
     "text": [
      "4\n"
     ]
    }
   ],
   "source": [
    "add2(2,2) # Function called with parameters"
   ]
  },
  {
   "cell_type": "code",
   "execution_count": 13,
   "id": "f9d386b8",
   "metadata": {},
   "outputs": [
    {
     "name": "stdout",
     "output_type": "stream",
     "text": [
      "11\n"
     ]
    }
   ],
   "source": [
    "add2(4,7)"
   ]
  },
  {
   "cell_type": "code",
   "execution_count": null,
   "id": "196be7f5",
   "metadata": {},
   "outputs": [],
   "source": []
  }
 ],
 "metadata": {
  "kernelspec": {
   "display_name": "Python 3",
   "language": "python",
   "name": "python3"
  },
  "language_info": {
   "codemirror_mode": {
    "name": "ipython",
    "version": 3
   },
   "file_extension": ".py",
   "mimetype": "text/x-python",
   "name": "python",
   "nbconvert_exporter": "python",
   "pygments_lexer": "ipython3",
   "version": "3.8.8"
  }
 },
 "nbformat": 4,
 "nbformat_minor": 5
}
