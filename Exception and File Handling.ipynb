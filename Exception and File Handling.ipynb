{
 "cells": [
  {
   "cell_type": "markdown",
   "id": "54f2697e",
   "metadata": {},
   "source": [
    "# Exception Handling"
   ]
  },
  {
   "cell_type": "markdown",
   "id": "a1139937",
   "metadata": {},
   "source": [
    "* Try : Main body of code.\n",
    "* Except : Executed if main body has any error\n",
    "* Finally: Executed regardless error or not. Normally used to close/clear file/variable that might be opened during process.\n",
    "* Else: Executed if no error encountered. Normally to give confirmation of try executed sucessfully.\n",
    "\n",
    "Some errors are predefined in python and are named to identify and deal with them more accurately."
   ]
  },
  {
   "cell_type": "code",
   "execution_count": 3,
   "id": "e70080bb",
   "metadata": {},
   "outputs": [
    {
     "name": "stdout",
     "output_type": "stream",
     "text": [
      "Executed if no Error\n"
     ]
    }
   ],
   "source": [
    "try:\n",
    "    print(x) # Here x is not defined\n",
    "    print(\"Try Executed if no Error\")\n",
    "except:\n",
    "    print(\"Executed if Error\")"
   ]
  },
  {
   "cell_type": "code",
   "execution_count": 7,
   "id": "9f50ab80",
   "metadata": {},
   "outputs": [
    {
     "name": "stdout",
     "output_type": "stream",
     "text": [
      "Executed if Error\n"
     ]
    }
   ],
   "source": [
    "#Else\n",
    "try:\n",
    "    print(x) # Here x is not defined\n",
    "    print(\"Try Executed if no Error\")\n",
    "except:\n",
    "    print(\"Executed if Error\")\n",
    "else:\n",
    "    print(\"Else Executed when no error to give confirmation of task complete\")"
   ]
  },
  {
   "cell_type": "code",
   "execution_count": 18,
   "id": "966930c6",
   "metadata": {},
   "outputs": [
    {
     "name": "stdout",
     "output_type": "stream",
     "text": [
      "Try Executed if no Error\n",
      "Else Executed when no error to give confirmation of task complete\n",
      "Executed regardless of error or not\n"
     ]
    }
   ],
   "source": [
    "#Finally\n",
    "try:\n",
    "    print(x) # Here x is not defined\n",
    "    print(\"Try Executed if no Error\")\n",
    "except:\n",
    "    print(\"Executed if Error\")\n",
    "else:\n",
    "    print(\"Else Executed when no error to give confirmation of task complete\")\n",
    "finally:\n",
    "    print(\"Executed regardless of error or not\")"
   ]
  },
  {
   "cell_type": "code",
   "execution_count": 12,
   "id": "4d99a542",
   "metadata": {},
   "outputs": [
    {
     "name": "stdout",
     "output_type": "stream",
     "text": [
      "An error with index occured\n"
     ]
    }
   ],
   "source": [
    "#Named Errors\n",
    "try:\n",
    "    strng = \"Hello World\"\n",
    "    print(strng[11])\n",
    "except IndexError: # This identifies a named error.\n",
    "    print(\"An error with index occured\")\n",
    "except:\n",
    "    print(\"Something else happened\")\n",
    "    \n",
    "    "
   ]
  },
  {
   "cell_type": "code",
   "execution_count": 15,
   "id": "60ede149",
   "metadata": {},
   "outputs": [],
   "source": [
    "try:\n",
    "    i = 5/0\n",
    "except ZeroDivisionError: # A Named Error\n",
    "    print(\"Zero division error occured\")\n",
    "except:\n",
    "    print(\"Something else happened\")\n"
   ]
  },
  {
   "cell_type": "code",
   "execution_count": 21,
   "id": "8722d374",
   "metadata": {},
   "outputs": [
    {
     "name": "stdout",
     "output_type": "stream",
     "text": [
      "An error with Name occured. Variable Not defined\n"
     ]
    }
   ],
   "source": [
    "try:\n",
    "    strng = \"Hello World\"\n",
    "    i = 5/0\n",
    "    print(x) # Use comment in front of these lines to check which error occured\n",
    "    print(strng[11])\n",
    "except IndexError: # This identifies a named error.\n",
    "    print(\"An error with index occured\")\n",
    "except NameError: # This identifies a named error.\n",
    "    print(\"An error with Name occured. Variable Not defined\")\n",
    "except ZeroDivisionError: # A Named Error\n",
    "    print(\"Zero division error occured\")\n",
    "except:\n",
    "    print(\"Something else happened\")\n"
   ]
  },
  {
   "cell_type": "markdown",
   "id": "317fa595",
   "metadata": {},
   "source": [
    "# Raising an ERROR"
   ]
  },
  {
   "cell_type": "markdown",
   "id": "4092da5e",
   "metadata": {},
   "source": [
    "You can choose to throw an exception if a condition occurs and stop the program.\n",
    "\n",
    "You can define what kind of error to raise, and the text to print to the user."
   ]
  },
  {
   "cell_type": "code",
   "execution_count": 23,
   "id": "7da1f46f",
   "metadata": {},
   "outputs": [
    {
     "ename": "Exception",
     "evalue": "Sorry, no numbers below zero",
     "output_type": "error",
     "traceback": [
      "\u001b[0;31m---------------------------------------------------------------------------\u001b[0m",
      "\u001b[0;31mException\u001b[0m                                 Traceback (most recent call last)",
      "\u001b[0;32m<ipython-input-23-2edc57024fbc>\u001b[0m in \u001b[0;36m<module>\u001b[0;34m\u001b[0m\n\u001b[1;32m      2\u001b[0m \u001b[0;34m\u001b[0m\u001b[0m\n\u001b[1;32m      3\u001b[0m \u001b[0;32mif\u001b[0m \u001b[0mx\u001b[0m \u001b[0;34m<\u001b[0m \u001b[0;36m0\u001b[0m\u001b[0;34m:\u001b[0m\u001b[0;34m\u001b[0m\u001b[0;34m\u001b[0m\u001b[0m\n\u001b[0;32m----> 4\u001b[0;31m   \u001b[0;32mraise\u001b[0m \u001b[0mException\u001b[0m\u001b[0;34m(\u001b[0m\u001b[0;34m\"Sorry, no numbers below zero\"\u001b[0m\u001b[0;34m)\u001b[0m\u001b[0;34m\u001b[0m\u001b[0;34m\u001b[0m\u001b[0m\n\u001b[0m",
      "\u001b[0;31mException\u001b[0m: Sorry, no numbers below zero"
     ]
    }
   ],
   "source": [
    "x = -1\n",
    "\n",
    "if x < 0:\n",
    "  raise Exception(\"Sorry, no numbers below zero\") # This will show as Error"
   ]
  },
  {
   "cell_type": "code",
   "execution_count": 25,
   "id": "6dfd91a7",
   "metadata": {},
   "outputs": [
    {
     "ename": "TypeError",
     "evalue": "Only integers are allowed",
     "output_type": "error",
     "traceback": [
      "\u001b[0;31m---------------------------------------------------------------------------\u001b[0m",
      "\u001b[0;31mTypeError\u001b[0m                                 Traceback (most recent call last)",
      "\u001b[0;32m<ipython-input-25-24db93963d3c>\u001b[0m in \u001b[0;36m<module>\u001b[0;34m\u001b[0m\n\u001b[1;32m      2\u001b[0m \u001b[0;34m\u001b[0m\u001b[0m\n\u001b[1;32m      3\u001b[0m \u001b[0;32mif\u001b[0m \u001b[0;32mnot\u001b[0m \u001b[0mtype\u001b[0m\u001b[0;34m(\u001b[0m\u001b[0mx\u001b[0m\u001b[0;34m)\u001b[0m \u001b[0;32mis\u001b[0m \u001b[0mint\u001b[0m\u001b[0;34m:\u001b[0m\u001b[0;34m\u001b[0m\u001b[0;34m\u001b[0m\u001b[0m\n\u001b[0;32m----> 4\u001b[0;31m   \u001b[0;32mraise\u001b[0m \u001b[0mTypeError\u001b[0m\u001b[0;34m(\u001b[0m\u001b[0;34m\"Only integers are allowed\"\u001b[0m\u001b[0;34m)\u001b[0m \u001b[0;31m#This will show as error\u001b[0m\u001b[0;34m\u001b[0m\u001b[0;34m\u001b[0m\u001b[0m\n\u001b[0m",
      "\u001b[0;31mTypeError\u001b[0m: Only integers are allowed"
     ]
    }
   ],
   "source": [
    "x = \"hello\"\n",
    "\n",
    "if not type(x) is int:\n",
    "  raise TypeError(\"Only integers are allowed\") #This will show as error"
   ]
  },
  {
   "cell_type": "code",
   "execution_count": null,
   "id": "b0867e35",
   "metadata": {},
   "outputs": [],
   "source": []
  }
 ],
 "metadata": {
  "kernelspec": {
   "display_name": "Python 3",
   "language": "python",
   "name": "python3"
  },
  "language_info": {
   "codemirror_mode": {
    "name": "ipython",
    "version": 3
   },
   "file_extension": ".py",
   "mimetype": "text/x-python",
   "name": "python",
   "nbconvert_exporter": "python",
   "pygments_lexer": "ipython3",
   "version": "3.8.8"
  }
 },
 "nbformat": 4,
 "nbformat_minor": 5
}
