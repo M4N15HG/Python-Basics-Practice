{
 "cells": [
  {
   "cell_type": "markdown",
   "id": "56dd8e2b",
   "metadata": {},
   "source": [
    "# Basics"
   ]
  },
  {
   "cell_type": "code",
   "execution_count": 66,
   "id": "5dda8f1b",
   "metadata": {},
   "outputs": [],
   "source": [
    "x = 10; y = 5; x+y; #can be written in single line with semicolon "
   ]
  },
  {
   "cell_type": "code",
   "execution_count": null,
   "id": "ecfe8f18",
   "metadata": {},
   "outputs": [],
   "source": []
  },
  {
   "cell_type": "code",
   "execution_count": 168,
   "id": "e0d2c529",
   "metadata": {},
   "outputs": [
    {
     "name": "stdout",
     "output_type": "stream",
     "text": [
      "1\n",
      "3\n",
      "7\n",
      "1 3 7\n"
     ]
    }
   ],
   "source": [
    "x, y, z = 1, 3, 7\n",
    "print(x)\n",
    "print(y) # multiple assignment\n",
    "print(z)\n",
    "print(x,y,z) # multiple prints"
   ]
  },
  {
   "cell_type": "code",
   "execution_count": 163,
   "id": "a674de2d",
   "metadata": {},
   "outputs": [
    {
     "name": "stdout",
     "output_type": "stream",
     "text": [
      "5 5 5\n"
     ]
    }
   ],
   "source": [
    "x=y=z=5\n",
    "print(x,y,z)"
   ]
  },
  {
   "cell_type": "code",
   "execution_count": 164,
   "id": "d1430eeb",
   "metadata": {},
   "outputs": [
    {
     "ename": "TypeError",
     "evalue": "cannot unpack non-iterable int object",
     "output_type": "error",
     "traceback": [
      "\u001b[0;31m---------------------------------------------------------------------------\u001b[0m",
      "\u001b[0;31mTypeError\u001b[0m                                 Traceback (most recent call last)",
      "\u001b[0;32m<ipython-input-164-34cc9674eec7>\u001b[0m in \u001b[0;36m<module>\u001b[0;34m\u001b[0m\n\u001b[0;32m----> 1\u001b[0;31m \u001b[0mx\u001b[0m\u001b[0;34m,\u001b[0m\u001b[0my\u001b[0m\u001b[0;34m,\u001b[0m\u001b[0mz\u001b[0m \u001b[0;34m=\u001b[0m \u001b[0;36m1\u001b[0m \u001b[0;31m# Error\u001b[0m\u001b[0;34m\u001b[0m\u001b[0;34m\u001b[0m\u001b[0m\n\u001b[0m",
      "\u001b[0;31mTypeError\u001b[0m: cannot unpack non-iterable int object"
     ]
    }
   ],
   "source": [
    "x,y,z = 1 # Error"
   ]
  },
  {
   "cell_type": "code",
   "execution_count": 72,
   "id": "39d1e32a",
   "metadata": {},
   "outputs": [
    {
     "data": {
      "text/plain": [
       "5"
      ]
     },
     "execution_count": 72,
     "metadata": {},
     "output_type": "execute_result"
    }
   ],
   "source": [
    "x\n",
    "y # only displays last value "
   ]
  },
  {
   "cell_type": "code",
   "execution_count": 73,
   "id": "8febe385",
   "metadata": {},
   "outputs": [
    {
     "data": {
      "text/plain": [
       "10"
      ]
     },
     "execution_count": 73,
     "metadata": {},
     "output_type": "execute_result"
    }
   ],
   "source": [
    "x"
   ]
  },
  {
   "cell_type": "code",
   "execution_count": 68,
   "id": "525ab34b",
   "metadata": {},
   "outputs": [
    {
     "name": "stdout",
     "output_type": "stream",
     "text": [
      "10\n",
      "5\n"
     ]
    }
   ],
   "source": [
    "print(x)\n",
    "print(y)"
   ]
  },
  {
   "cell_type": "code",
   "execution_count": 75,
   "id": "81b39313",
   "metadata": {},
   "outputs": [
    {
     "data": {
      "text/plain": [
       "7"
      ]
     },
     "execution_count": 75,
     "metadata": {},
     "output_type": "execute_result"
    }
   ],
   "source": [
    "x # returns last evaluated number\n",
    "7"
   ]
  },
  {
   "cell_type": "markdown",
   "id": "c371180b",
   "metadata": {},
   "source": [
    "# Variables"
   ]
  },
  {
   "cell_type": "code",
   "execution_count": 2,
   "id": "7fb7cbd6",
   "metadata": {},
   "outputs": [],
   "source": [
    "a = 2 # This is a Comment"
   ]
  },
  {
   "cell_type": "code",
   "execution_count": 3,
   "id": "f89a64f3",
   "metadata": {},
   "outputs": [
    {
     "name": "stdout",
     "output_type": "stream",
     "text": [
      "2\n"
     ]
    }
   ],
   "source": [
    "print(a)"
   ]
  },
  {
   "cell_type": "code",
   "execution_count": 4,
   "id": "cb713577",
   "metadata": {},
   "outputs": [
    {
     "name": "stdout",
     "output_type": "stream",
     "text": [
      "50\n"
     ]
    }
   ],
   "source": [
    "b = 50\n",
    "print(b)"
   ]
  },
  {
   "cell_type": "markdown",
   "id": "35d17078",
   "metadata": {},
   "source": [
    " Case Sensitive"
   ]
  },
  {
   "cell_type": "code",
   "execution_count": 5,
   "id": "f312bd1f",
   "metadata": {},
   "outputs": [],
   "source": [
    "MAN = 10\n",
    "Man = 100\n",
    "man = 1000"
   ]
  },
  {
   "cell_type": "code",
   "execution_count": 6,
   "id": "76b73d1e",
   "metadata": {},
   "outputs": [
    {
     "data": {
      "text/plain": [
       "1000"
      ]
     },
     "execution_count": 6,
     "metadata": {},
     "output_type": "execute_result"
    }
   ],
   "source": [
    "man"
   ]
  },
  {
   "cell_type": "code",
   "execution_count": 7,
   "id": "adc75823",
   "metadata": {},
   "outputs": [
    {
     "data": {
      "text/plain": [
       "10"
      ]
     },
     "execution_count": 7,
     "metadata": {},
     "output_type": "execute_result"
    }
   ],
   "source": [
    "man\n",
    "Man\n",
    "MAN"
   ]
  },
  {
   "cell_type": "markdown",
   "id": "88edf464",
   "metadata": {},
   "source": [
    "Rules"
   ]
  },
  {
   "cell_type": "code",
   "execution_count": 10,
   "id": "aa0c4d65",
   "metadata": {},
   "outputs": [
    {
     "data": {
      "text/plain": [
       "10"
      ]
     },
     "execution_count": 10,
     "metadata": {},
     "output_type": "execute_result"
    }
   ],
   "source": [
    "_Man = 10  # Can start with _\n",
    "_Man"
   ]
  },
  {
   "cell_type": "code",
   "execution_count": 11,
   "id": "0d1d7d2f",
   "metadata": {},
   "outputs": [
    {
     "ename": "SyntaxError",
     "evalue": "invalid syntax (<ipython-input-11-0a74b4ab74e7>, line 1)",
     "output_type": "error",
     "traceback": [
      "\u001b[0;36m  File \u001b[0;32m\"<ipython-input-11-0a74b4ab74e7>\"\u001b[0;36m, line \u001b[0;32m1\u001b[0m\n\u001b[0;31m    1Man = 10\u001b[0m\n\u001b[0m     ^\u001b[0m\n\u001b[0;31mSyntaxError\u001b[0m\u001b[0;31m:\u001b[0m invalid syntax\n"
     ]
    }
   ],
   "source": [
    "1Man = 10 # Cannot start with number"
   ]
  },
  {
   "cell_type": "code",
   "execution_count": 13,
   "id": "86634569",
   "metadata": {},
   "outputs": [
    {
     "ename": "SyntaxError",
     "evalue": "invalid syntax (<ipython-input-13-ddcc804c62ef>, line 1)",
     "output_type": "error",
     "traceback": [
      "\u001b[0;36m  File \u001b[0;32m\"<ipython-input-13-ddcc804c62ef>\"\u001b[0;36m, line \u001b[0;32m1\u001b[0m\n\u001b[0;31m    Man$12 = 10 # Should only be alphanumeric\u001b[0m\n\u001b[0m       ^\u001b[0m\n\u001b[0;31mSyntaxError\u001b[0m\u001b[0;31m:\u001b[0m invalid syntax\n"
     ]
    }
   ],
   "source": [
    "Man$12 = 10 # Should only be alphanumeric"
   ]
  },
  {
   "cell_type": "code",
   "execution_count": 14,
   "id": "cb3a7d8f",
   "metadata": {},
   "outputs": [],
   "source": [
    "Man12 = 10"
   ]
  },
  {
   "cell_type": "code",
   "execution_count": 16,
   "id": "1a743121",
   "metadata": {},
   "outputs": [
    {
     "ename": "SyntaxError",
     "evalue": "invalid syntax (<ipython-input-16-c8b9688216fc>, line 1)",
     "output_type": "error",
     "traceback": [
      "\u001b[0;36m  File \u001b[0;32m\"<ipython-input-16-c8b9688216fc>\"\u001b[0;36m, line \u001b[0;32m1\u001b[0m\n\u001b[0;31m    Man 1 2 = 10 # Cannot have space\u001b[0m\n\u001b[0m        ^\u001b[0m\n\u001b[0;31mSyntaxError\u001b[0m\u001b[0;31m:\u001b[0m invalid syntax\n"
     ]
    }
   ],
   "source": [
    "Man 1 2 = 10 # Cannot have space"
   ]
  },
  {
   "cell_type": "code",
   "execution_count": 17,
   "id": "b490738b",
   "metadata": {},
   "outputs": [],
   "source": [
    "Man_1 = 10 # _ is fine in naming\n",
    "_Man = 10\n",
    "Man_ = 10"
   ]
  },
  {
   "cell_type": "code",
   "execution_count": 18,
   "id": "6428781f",
   "metadata": {},
   "outputs": [],
   "source": [
    "man = 1+5"
   ]
  },
  {
   "cell_type": "code",
   "execution_count": 19,
   "id": "baeb6e73",
   "metadata": {},
   "outputs": [
    {
     "data": {
      "text/plain": [
       "6"
      ]
     },
     "execution_count": 19,
     "metadata": {},
     "output_type": "execute_result"
    }
   ],
   "source": [
    "man"
   ]
  },
  {
   "cell_type": "markdown",
   "id": "16356343",
   "metadata": {},
   "source": [
    "# Operators\n"
   ]
  },
  {
   "cell_type": "markdown",
   "id": "9df702e6",
   "metadata": {},
   "source": [
    "* Airthmetic\n",
    "* Comparision\n",
    "* Logical\n",
    "* Assignment\n",
    "* Bitwise"
   ]
  },
  {
   "cell_type": "markdown",
   "id": "d7ec0b85",
   "metadata": {},
   "source": [
    "## Airthmetic"
   ]
  },
  {
   "cell_type": "markdown",
   "id": "92c60dda",
   "metadata": {},
   "source": [
    "+, -, /, *, %(Modulus), ** (Exponential), // (Floor)"
   ]
  },
  {
   "cell_type": "code",
   "execution_count": 22,
   "id": "36bf4a23",
   "metadata": {},
   "outputs": [],
   "source": [
    "a = 5\n",
    "b = 10\n",
    "c = 18"
   ]
  },
  {
   "cell_type": "code",
   "execution_count": 23,
   "id": "bf2ae167",
   "metadata": {},
   "outputs": [
    {
     "data": {
      "text/plain": [
       "15"
      ]
     },
     "execution_count": 23,
     "metadata": {},
     "output_type": "execute_result"
    }
   ],
   "source": [
    "a+b"
   ]
  },
  {
   "cell_type": "code",
   "execution_count": 24,
   "id": "4a93a818",
   "metadata": {},
   "outputs": [
    {
     "data": {
      "text/plain": [
       "-5"
      ]
     },
     "execution_count": 24,
     "metadata": {},
     "output_type": "execute_result"
    }
   ],
   "source": [
    "a-b"
   ]
  },
  {
   "cell_type": "code",
   "execution_count": 25,
   "id": "7e19aed6",
   "metadata": {},
   "outputs": [
    {
     "data": {
      "text/plain": [
       "0.5"
      ]
     },
     "execution_count": 25,
     "metadata": {},
     "output_type": "execute_result"
    }
   ],
   "source": [
    "a/b"
   ]
  },
  {
   "cell_type": "code",
   "execution_count": 26,
   "id": "3a837669",
   "metadata": {},
   "outputs": [
    {
     "data": {
      "text/plain": [
       "2.0"
      ]
     },
     "execution_count": 26,
     "metadata": {},
     "output_type": "execute_result"
    }
   ],
   "source": [
    "b/a"
   ]
  },
  {
   "cell_type": "code",
   "execution_count": 27,
   "id": "8de19764",
   "metadata": {},
   "outputs": [
    {
     "data": {
      "text/plain": [
       "3.6"
      ]
     },
     "execution_count": 27,
     "metadata": {},
     "output_type": "execute_result"
    }
   ],
   "source": [
    "c/a"
   ]
  },
  {
   "cell_type": "code",
   "execution_count": 28,
   "id": "c5f30d20",
   "metadata": {},
   "outputs": [
    {
     "data": {
      "text/plain": [
       "50"
      ]
     },
     "execution_count": 28,
     "metadata": {},
     "output_type": "execute_result"
    }
   ],
   "source": [
    "a*b"
   ]
  },
  {
   "cell_type": "code",
   "execution_count": 29,
   "id": "cddbe9d6",
   "metadata": {},
   "outputs": [
    {
     "data": {
      "text/plain": [
       "3.6"
      ]
     },
     "execution_count": 29,
     "metadata": {},
     "output_type": "execute_result"
    }
   ],
   "source": [
    "c/a"
   ]
  },
  {
   "cell_type": "code",
   "execution_count": 30,
   "id": "e2bfcf22",
   "metadata": {},
   "outputs": [],
   "source": [
    "a = 5\n",
    "b = 10\n",
    "c = 18\n",
    "d = 21"
   ]
  },
  {
   "cell_type": "code",
   "execution_count": 31,
   "id": "06fdec00",
   "metadata": {},
   "outputs": [
    {
     "data": {
      "text/plain": [
       "1"
      ]
     },
     "execution_count": 31,
     "metadata": {},
     "output_type": "execute_result"
    }
   ],
   "source": [
    "a//5"
   ]
  },
  {
   "cell_type": "code",
   "execution_count": 32,
   "id": "8843e674",
   "metadata": {},
   "outputs": [
    {
     "data": {
      "text/plain": [
       "3"
      ]
     },
     "execution_count": 32,
     "metadata": {},
     "output_type": "execute_result"
    }
   ],
   "source": [
    "c//a # Floor Division"
   ]
  },
  {
   "cell_type": "code",
   "execution_count": 33,
   "id": "93f44000",
   "metadata": {},
   "outputs": [
    {
     "data": {
      "text/plain": [
       "3.6"
      ]
     },
     "execution_count": 33,
     "metadata": {},
     "output_type": "execute_result"
    }
   ],
   "source": [
    "c/a"
   ]
  },
  {
   "cell_type": "code",
   "execution_count": 34,
   "id": "a6657745",
   "metadata": {},
   "outputs": [
    {
     "data": {
      "text/plain": [
       "4.2"
      ]
     },
     "execution_count": 34,
     "metadata": {},
     "output_type": "execute_result"
    }
   ],
   "source": [
    "d/a"
   ]
  },
  {
   "cell_type": "code",
   "execution_count": 35,
   "id": "93f6f457",
   "metadata": {},
   "outputs": [
    {
     "data": {
      "text/plain": [
       "4"
      ]
     },
     "execution_count": 35,
     "metadata": {},
     "output_type": "execute_result"
    }
   ],
   "source": [
    "d//a # Floor Division"
   ]
  },
  {
   "cell_type": "markdown",
   "id": "faa6b6aa",
   "metadata": {},
   "source": [
    "Ceiling  = Floor + 1"
   ]
  },
  {
   "cell_type": "code",
   "execution_count": 36,
   "id": "4080c412",
   "metadata": {},
   "outputs": [
    {
     "data": {
      "text/plain": [
       "3"
      ]
     },
     "execution_count": 36,
     "metadata": {},
     "output_type": "execute_result"
    }
   ],
   "source": [
    "7%4 # Modulus = Reminder"
   ]
  },
  {
   "cell_type": "code",
   "execution_count": 37,
   "id": "24401645",
   "metadata": {},
   "outputs": [
    {
     "data": {
      "text/plain": [
       "16"
      ]
     },
     "execution_count": 37,
     "metadata": {},
     "output_type": "execute_result"
    }
   ],
   "source": [
    "2**4"
   ]
  },
  {
   "cell_type": "code",
   "execution_count": 38,
   "id": "45f99900",
   "metadata": {},
   "outputs": [
    {
     "data": {
      "text/plain": [
       "9"
      ]
     },
     "execution_count": 38,
     "metadata": {},
     "output_type": "execute_result"
    }
   ],
   "source": [
    "3**2 # Exponential 3^2"
   ]
  },
  {
   "cell_type": "markdown",
   "id": "f8e58a0e",
   "metadata": {},
   "source": [
    "## Logical Operators\n"
   ]
  },
  {
   "cell_type": "markdown",
   "id": "70fd4406",
   "metadata": {},
   "source": [
    "and or not, perform check on multiple conditions"
   ]
  },
  {
   "cell_type": "code",
   "execution_count": 39,
   "id": "32cffb7e",
   "metadata": {},
   "outputs": [],
   "source": [
    "x = 2"
   ]
  },
  {
   "cell_type": "code",
   "execution_count": 40,
   "id": "bc04a51f",
   "metadata": {},
   "outputs": [
    {
     "data": {
      "text/plain": [
       "False"
      ]
     },
     "execution_count": 40,
     "metadata": {},
     "output_type": "execute_result"
    }
   ],
   "source": [
    "x > 5 and x < 5"
   ]
  },
  {
   "cell_type": "code",
   "execution_count": 41,
   "id": "7beca1fb",
   "metadata": {},
   "outputs": [
    {
     "data": {
      "text/plain": [
       "True"
      ]
     },
     "execution_count": 41,
     "metadata": {},
     "output_type": "execute_result"
    }
   ],
   "source": [
    "x < 5 and x < 10"
   ]
  },
  {
   "cell_type": "code",
   "execution_count": 76,
   "id": "9b559896",
   "metadata": {},
   "outputs": [
    {
     "data": {
      "text/plain": [
       "True"
      ]
     },
     "execution_count": 76,
     "metadata": {},
     "output_type": "execute_result"
    }
   ],
   "source": [
    "x > 5 or x < 5"
   ]
  },
  {
   "cell_type": "code",
   "execution_count": 77,
   "id": "7b235c43",
   "metadata": {},
   "outputs": [
    {
     "data": {
      "text/plain": [
       "False"
      ]
     },
     "execution_count": 77,
     "metadata": {},
     "output_type": "execute_result"
    }
   ],
   "source": [
    "not(x>5 or x < 5) # Compliment"
   ]
  },
  {
   "cell_type": "code",
   "execution_count": 44,
   "id": "d5c2262d",
   "metadata": {},
   "outputs": [
    {
     "data": {
      "text/plain": [
       "10"
      ]
     },
     "execution_count": 44,
     "metadata": {},
     "output_type": "execute_result"
    }
   ],
   "source": [
    "5 and 10 # Returns last operated value"
   ]
  },
  {
   "cell_type": "code",
   "execution_count": 43,
   "id": "edf9c3f8",
   "metadata": {},
   "outputs": [
    {
     "data": {
      "text/plain": [
       "0"
      ]
     },
     "execution_count": 43,
     "metadata": {},
     "output_type": "execute_result"
    }
   ],
   "source": [
    "5 and 0"
   ]
  },
  {
   "cell_type": "code",
   "execution_count": 57,
   "id": "8dbcf490",
   "metadata": {},
   "outputs": [
    {
     "data": {
      "text/plain": [
       "20"
      ]
     },
     "execution_count": 57,
     "metadata": {},
     "output_type": "execute_result"
    }
   ],
   "source": [
    "x and y"
   ]
  },
  {
   "cell_type": "code",
   "execution_count": 58,
   "id": "7af399df",
   "metadata": {},
   "outputs": [
    {
     "data": {
      "text/plain": [
       "20"
      ]
     },
     "execution_count": 58,
     "metadata": {},
     "output_type": "execute_result"
    }
   ],
   "source": [
    "10 and 20"
   ]
  },
  {
   "cell_type": "code",
   "execution_count": 59,
   "id": "db86cf5e",
   "metadata": {},
   "outputs": [
    {
     "data": {
      "text/plain": [
       "10"
      ]
     },
     "execution_count": 59,
     "metadata": {},
     "output_type": "execute_result"
    }
   ],
   "source": [
    "10 or 20 # Returns last operated value , here for or to be true "
   ]
  },
  {
   "cell_type": "code",
   "execution_count": 61,
   "id": "df504763",
   "metadata": {},
   "outputs": [
    {
     "data": {
      "text/plain": [
       "10"
      ]
     },
     "execution_count": 61,
     "metadata": {},
     "output_type": "execute_result"
    }
   ],
   "source": [
    "5 and 10 # It evauluates 5, it is true, then it evaluates 10, it is also true, then it returns last evaluated value ie 10"
   ]
  },
  {
   "cell_type": "code",
   "execution_count": 63,
   "id": "cc5d8301",
   "metadata": {},
   "outputs": [
    {
     "data": {
      "text/plain": [
       "5"
      ]
     },
     "execution_count": 63,
     "metadata": {},
     "output_type": "execute_result"
    }
   ],
   "source": [
    "5 or 10 # It evaluates 5, it is true, then it returnes last evaluated value ie 5"
   ]
  },
  {
   "cell_type": "code",
   "execution_count": 64,
   "id": "c406c7a7",
   "metadata": {},
   "outputs": [
    {
     "data": {
      "text/plain": [
       "0"
      ]
     },
     "execution_count": 64,
     "metadata": {},
     "output_type": "execute_result"
    }
   ],
   "source": [
    "0 and 10 # returns last evaluated number"
   ]
  },
  {
   "cell_type": "code",
   "execution_count": 65,
   "id": "f466fa3c",
   "metadata": {},
   "outputs": [
    {
     "data": {
      "text/plain": [
       "10"
      ]
     },
     "execution_count": 65,
     "metadata": {},
     "output_type": "execute_result"
    }
   ],
   "source": [
    "0 or 10 # returns last evaluated number"
   ]
  },
  {
   "cell_type": "markdown",
   "id": "1e06f019",
   "metadata": {},
   "source": [
    "## Comparision Operators"
   ]
  },
  {
   "cell_type": "markdown",
   "id": "c92ae773",
   "metadata": {},
   "source": [
    "==, !=, >, <, >=, <="
   ]
  },
  {
   "cell_type": "code",
   "execution_count": 45,
   "id": "788dbc28",
   "metadata": {},
   "outputs": [],
   "source": [
    "x = 10; y = 20;"
   ]
  },
  {
   "cell_type": "code",
   "execution_count": 46,
   "id": "680de649",
   "metadata": {},
   "outputs": [
    {
     "data": {
      "text/plain": [
       "10"
      ]
     },
     "execution_count": 46,
     "metadata": {},
     "output_type": "execute_result"
    }
   ],
   "source": [
    "x"
   ]
  },
  {
   "cell_type": "code",
   "execution_count": 47,
   "id": "31ff7b9b",
   "metadata": {},
   "outputs": [
    {
     "name": "stdout",
     "output_type": "stream",
     "text": [
      "10\n"
     ]
    }
   ],
   "source": [
    "print(x)"
   ]
  },
  {
   "cell_type": "code",
   "execution_count": 48,
   "id": "bf338128",
   "metadata": {},
   "outputs": [
    {
     "data": {
      "text/plain": [
       "False"
      ]
     },
     "execution_count": 48,
     "metadata": {},
     "output_type": "execute_result"
    }
   ],
   "source": [
    "x == y"
   ]
  },
  {
   "cell_type": "code",
   "execution_count": 49,
   "id": "2b897212",
   "metadata": {},
   "outputs": [
    {
     "data": {
      "text/plain": [
       "True"
      ]
     },
     "execution_count": 49,
     "metadata": {},
     "output_type": "execute_result"
    }
   ],
   "source": [
    "x != y"
   ]
  },
  {
   "cell_type": "code",
   "execution_count": 50,
   "id": "d63c512f",
   "metadata": {},
   "outputs": [
    {
     "data": {
      "text/plain": [
       "True"
      ]
     },
     "execution_count": 50,
     "metadata": {},
     "output_type": "execute_result"
    }
   ],
   "source": [
    "x < y"
   ]
  },
  {
   "cell_type": "code",
   "execution_count": 51,
   "id": "377408fd",
   "metadata": {},
   "outputs": [
    {
     "data": {
      "text/plain": [
       "False"
      ]
     },
     "execution_count": 51,
     "metadata": {},
     "output_type": "execute_result"
    }
   ],
   "source": [
    "x > y"
   ]
  },
  {
   "cell_type": "code",
   "execution_count": 52,
   "id": "f1c2f2f6",
   "metadata": {},
   "outputs": [],
   "source": [
    "a = 5; b = 5;"
   ]
  },
  {
   "cell_type": "code",
   "execution_count": 53,
   "id": "ea9b430a",
   "metadata": {},
   "outputs": [
    {
     "data": {
      "text/plain": [
       "True"
      ]
     },
     "execution_count": 53,
     "metadata": {},
     "output_type": "execute_result"
    }
   ],
   "source": [
    "a == b"
   ]
  },
  {
   "cell_type": "code",
   "execution_count": 54,
   "id": "384e139e",
   "metadata": {},
   "outputs": [
    {
     "name": "stdout",
     "output_type": "stream",
     "text": [
      "5\n"
     ]
    }
   ],
   "source": [
    "a = 2; b = 5; a = b; print(a) # Assignment Operator"
   ]
  },
  {
   "cell_type": "markdown",
   "id": "1aecfbf0",
   "metadata": {},
   "source": [
    "## Assignment Operator"
   ]
  },
  {
   "cell_type": "markdown",
   "id": "5e558f05",
   "metadata": {},
   "source": [
    "=, +=, -=, /=, *=, %=, //=, **=, &=, |=, ^=, >>=, <<="
   ]
  },
  {
   "cell_type": "code",
   "execution_count": 78,
   "id": "137f8ff9",
   "metadata": {},
   "outputs": [],
   "source": [
    "x = 5;"
   ]
  },
  {
   "cell_type": "code",
   "execution_count": 79,
   "id": "3594a7f5",
   "metadata": {},
   "outputs": [],
   "source": [
    "x = 5"
   ]
  },
  {
   "cell_type": "code",
   "execution_count": 84,
   "id": "1ccbf78b",
   "metadata": {},
   "outputs": [
    {
     "data": {
      "text/plain": [
       "10"
      ]
     },
     "execution_count": 84,
     "metadata": {},
     "output_type": "execute_result"
    }
   ],
   "source": [
    "x = 5\n",
    "x += 5 # x = x + 5\n",
    "x"
   ]
  },
  {
   "cell_type": "code",
   "execution_count": 90,
   "id": "795f9673",
   "metadata": {},
   "outputs": [
    {
     "data": {
      "text/plain": [
       "-10"
      ]
     },
     "execution_count": 90,
     "metadata": {},
     "output_type": "execute_result"
    }
   ],
   "source": [
    "x = 5\n",
    "x -= 15 # x = x - 15\n",
    "x"
   ]
  },
  {
   "cell_type": "code",
   "execution_count": 91,
   "id": "e2016a16",
   "metadata": {},
   "outputs": [
    {
     "data": {
      "text/plain": [
       "75"
      ]
     },
     "execution_count": 91,
     "metadata": {},
     "output_type": "execute_result"
    }
   ],
   "source": [
    "x = 5\n",
    "x *= 15 # x = x * 15\n",
    "x"
   ]
  },
  {
   "cell_type": "code",
   "execution_count": 92,
   "id": "69ebd231",
   "metadata": {},
   "outputs": [
    {
     "data": {
      "text/plain": [
       "0.3333333333333333"
      ]
     },
     "execution_count": 92,
     "metadata": {},
     "output_type": "execute_result"
    }
   ],
   "source": [
    "x = 5\n",
    "x /= 15 # x = x / 15\n",
    "x"
   ]
  },
  {
   "cell_type": "code",
   "execution_count": 97,
   "id": "63e39773",
   "metadata": {},
   "outputs": [
    {
     "data": {
      "text/plain": [
       "2"
      ]
     },
     "execution_count": 97,
     "metadata": {},
     "output_type": "execute_result"
    }
   ],
   "source": [
    "x = 5\n",
    "x %= 3 # x = x % 3\n",
    "x"
   ]
  },
  {
   "cell_type": "code",
   "execution_count": 98,
   "id": "60a1355f",
   "metadata": {},
   "outputs": [
    {
     "data": {
      "text/plain": [
       "8"
      ]
     },
     "execution_count": 98,
     "metadata": {},
     "output_type": "execute_result"
    }
   ],
   "source": [
    "x = 2\n",
    "x **= 3 # x = x ** 3\n",
    "x"
   ]
  },
  {
   "cell_type": "code",
   "execution_count": 99,
   "id": "6772aecc",
   "metadata": {},
   "outputs": [
    {
     "data": {
      "text/plain": [
       "0"
      ]
     },
     "execution_count": 99,
     "metadata": {},
     "output_type": "execute_result"
    }
   ],
   "source": [
    "x = 5\n",
    "x //= 15 # x = x // 15\n",
    "x"
   ]
  },
  {
   "cell_type": "markdown",
   "id": "d9722022",
   "metadata": {},
   "source": [
    "## Bitwise Assignment Operation"
   ]
  },
  {
   "cell_type": "code",
   "execution_count": 104,
   "id": "50473ee5",
   "metadata": {},
   "outputs": [
    {
     "data": {
      "text/plain": [
       "1"
      ]
     },
     "execution_count": 104,
     "metadata": {},
     "output_type": "execute_result"
    }
   ],
   "source": [
    "x = 5\n",
    "x &= 3 # x = x & 3;  (101 & 011 = 001) Bitwise AND\n",
    "x"
   ]
  },
  {
   "cell_type": "code",
   "execution_count": 105,
   "id": "34c602ef",
   "metadata": {},
   "outputs": [
    {
     "data": {
      "text/plain": [
       "7"
      ]
     },
     "execution_count": 105,
     "metadata": {},
     "output_type": "execute_result"
    }
   ],
   "source": [
    "x = 5\n",
    "x |= 3 # x = x | 3;  (101 | 011 = 111) Bitwise OR\n",
    "x"
   ]
  },
  {
   "cell_type": "code",
   "execution_count": 106,
   "id": "00b09a9e",
   "metadata": {},
   "outputs": [
    {
     "data": {
      "text/plain": [
       "6"
      ]
     },
     "execution_count": 106,
     "metadata": {},
     "output_type": "execute_result"
    }
   ],
   "source": [
    "x = 5\n",
    "x ^= 3 # x = x ^ 3;  (101 ^ 011 = 110) Bitwise XOR\n",
    "x"
   ]
  },
  {
   "cell_type": "code",
   "execution_count": 111,
   "id": "45bace56",
   "metadata": {},
   "outputs": [
    {
     "data": {
      "text/plain": [
       "20"
      ]
     },
     "execution_count": 111,
     "metadata": {},
     "output_type": "execute_result"
    }
   ],
   "source": [
    "x =5\n",
    "x <<= 2 # x = x << 2; it shifts the value LEFT by 2 bits ie 101 left by 2 bits = 10100 = 20\n",
    "x"
   ]
  },
  {
   "cell_type": "code",
   "execution_count": 115,
   "id": "99a167a6",
   "metadata": {},
   "outputs": [
    {
     "data": {
      "text/plain": [
       "2"
      ]
     },
     "execution_count": 115,
     "metadata": {},
     "output_type": "execute_result"
    }
   ],
   "source": [
    "x =5\n",
    "x >>= 1 # x = x >> 2; it shifts the value LRIGHT by 2 bits ie 101 left by 2 bits = 001= 20\n",
    "x"
   ]
  },
  {
   "cell_type": "markdown",
   "id": "36618725",
   "metadata": {},
   "source": [
    "# Escape Character"
   ]
  },
  {
   "cell_type": "code",
   "execution_count": 117,
   "id": "6789d9ae",
   "metadata": {},
   "outputs": [
    {
     "name": "stdout",
     "output_type": "stream",
     "text": [
      "This is Python. Hello World\n"
     ]
    }
   ],
   "source": [
    "print(\"This is Python. Hello World\")"
   ]
  },
  {
   "cell_type": "code",
   "execution_count": 118,
   "id": "07599314",
   "metadata": {},
   "outputs": [
    {
     "name": "stdout",
     "output_type": "stream",
     "text": [
      "This is Python.\n",
      " Hello World\n"
     ]
    }
   ],
   "source": [
    "print(\"This is Python.\\n Hello World\") # \\n used to change line"
   ]
  },
  {
   "cell_type": "code",
   "execution_count": 119,
   "id": "e4e77f84",
   "metadata": {},
   "outputs": [
    {
     "name": "stdout",
     "output_type": "stream",
     "text": [
      "This is Python.\t Hello World\n"
     ]
    }
   ],
   "source": [
    "print(\"This is Python.\\t Hello World\") # \\t used for tab space"
   ]
  },
  {
   "cell_type": "code",
   "execution_count": 124,
   "id": "cf610586",
   "metadata": {},
   "outputs": [
    {
     "data": {
      "text/plain": [
       "'this is \\n new line'"
      ]
     },
     "execution_count": 124,
     "metadata": {},
     "output_type": "execute_result"
    }
   ],
   "source": [
    "x = \"this is \\n new line\" \n",
    "x"
   ]
  },
  {
   "cell_type": "code",
   "execution_count": 125,
   "id": "55c00a9f",
   "metadata": {},
   "outputs": [
    {
     "name": "stdout",
     "output_type": "stream",
     "text": [
      "this is \n",
      " new line\n"
     ]
    }
   ],
   "source": [
    "print(x)"
   ]
  },
  {
   "cell_type": "code",
   "execution_count": 132,
   "id": "a05f9a01",
   "metadata": {},
   "outputs": [
    {
     "data": {
      "text/plain": [
       "\"This is Priya's Book\""
      ]
     },
     "execution_count": 132,
     "metadata": {},
     "output_type": "execute_result"
    }
   ],
   "source": [
    "x = \"This is Priya's Book\"\n",
    "x"
   ]
  },
  {
   "cell_type": "code",
   "execution_count": 138,
   "id": "94e2d27f",
   "metadata": {},
   "outputs": [
    {
     "ename": "SyntaxError",
     "evalue": "invalid syntax (<ipython-input-138-07a213a55255>, line 1)",
     "output_type": "error",
     "traceback": [
      "\u001b[0;36m  File \u001b[0;32m\"<ipython-input-138-07a213a55255>\"\u001b[0;36m, line \u001b[0;32m1\u001b[0m\n\u001b[0;31m    x = \"He said: \"I am Fine\"\"\u001b[0m\n\u001b[0m                   ^\u001b[0m\n\u001b[0;31mSyntaxError\u001b[0m\u001b[0;31m:\u001b[0m invalid syntax\n"
     ]
    }
   ],
   "source": [
    "x = \"He said: \"I am Fine\"\"\n",
    "x"
   ]
  },
  {
   "cell_type": "code",
   "execution_count": 137,
   "id": "98f31528",
   "metadata": {},
   "outputs": [
    {
     "data": {
      "text/plain": [
       "'He said: \"I am Fine\"'"
      ]
     },
     "execution_count": 137,
     "metadata": {},
     "output_type": "execute_result"
    }
   ],
   "source": [
    "x = \"He said: \\\"I am Fine\\\"\" # \\ can be used to insert multiple \"\"\n",
    "x"
   ]
  },
  {
   "cell_type": "markdown",
   "id": "c8080cdd",
   "metadata": {},
   "source": [
    "## Format Specifier"
   ]
  },
  {
   "cell_type": "code",
   "execution_count": 152,
   "id": "1b85997a",
   "metadata": {},
   "outputs": [
    {
     "name": "stdout",
     "output_type": "stream",
     "text": [
      "Hi I am Krish\n",
      "Hi I am Krish\n"
     ]
    }
   ],
   "source": [
    "name = \"Krish\"\n",
    "print(\"Hi I am %s\" %name)\n",
    "print(\"Hi I am\", name)"
   ]
  },
  {
   "cell_type": "code",
   "execution_count": 161,
   "id": "ac5125ef",
   "metadata": {},
   "outputs": [
    {
     "name": "stdout",
     "output_type": "stream",
     "text": [
      "Hi my name is Krish. I am 25 years old\n",
      "Hi my name is Krish . I am 25 years old\n"
     ]
    }
   ],
   "source": [
    "name = \"Krish\"\n",
    "age = 25\n",
    "print(\"Hi my name is %s. I am %d years old\" %(name, age))\n",
    "print(\"Hi my name is\",name,\". I am\",age, \"years old\")"
   ]
  },
  {
   "cell_type": "code",
   "execution_count": 151,
   "id": "0b74f45c",
   "metadata": {},
   "outputs": [
    {
     "name": "stdout",
     "output_type": "stream",
     "text": [
      "Hi my name is Krish. I am 2 years old or may be 25\n"
     ]
    }
   ],
   "source": [
    "name = \"Krish\"\n",
    "age1 = 25\n",
    "age2 = 2\n",
    "print(\"Hi my name is %s. I am %d years old or may be %d\" %(name, age2, age1))"
   ]
  },
  {
   "cell_type": "code",
   "execution_count": null,
   "id": "da2c6a19",
   "metadata": {},
   "outputs": [],
   "source": []
  }
 ],
 "metadata": {
  "kernelspec": {
   "display_name": "Python 3",
   "language": "python",
   "name": "python3"
  },
  "language_info": {
   "codemirror_mode": {
    "name": "ipython",
    "version": 3
   },
   "file_extension": ".py",
   "mimetype": "text/x-python",
   "name": "python",
   "nbconvert_exporter": "python",
   "pygments_lexer": "ipython3",
   "version": "3.8.8"
  }
 },
 "nbformat": 4,
 "nbformat_minor": 5
}
