{
 "cells": [
  {
   "cell_type": "markdown",
   "id": "8be1f55e",
   "metadata": {},
   "source": [
    "# Loops"
   ]
  },
  {
   "cell_type": "code",
   "execution_count": 12,
   "id": "ab7a8c58",
   "metadata": {},
   "outputs": [
    {
     "name": "stdout",
     "output_type": "stream",
     "text": [
      "Enter the starting point : 45\n",
      "45\n",
      "46\n",
      "47\n",
      "48\n",
      "49\n",
      "50\n",
      "End\n"
     ]
    }
   ],
   "source": [
    "i = int(input(\"Enter the starting point : \")) # For fixed number and condition is to be followed\n",
    "while i<=50:\n",
    "    print(i)\n",
    "    i=i+1\n",
    "print(\"End\")    "
   ]
  },
  {
   "cell_type": "code",
   "execution_count": 42,
   "id": "1827c16a",
   "metadata": {},
   "outputs": [
    {
     "name": "stdout",
     "output_type": "stream",
     "text": [
      "0\n",
      "1\n",
      "2\n",
      "3\n",
      "4\n"
     ]
    }
   ],
   "source": [
    "for i in range(5): # For loop runs on range and data types, not on conditions. Range goes from (0 to n-1)\n",
    "    print(i)"
   ]
  },
  {
   "cell_type": "code",
   "execution_count": 43,
   "id": "4a83e818",
   "metadata": {},
   "outputs": [
    {
     "name": "stdout",
     "output_type": "stream",
     "text": [
      "1\n",
      "2\n",
      "3\n",
      "4\n"
     ]
    }
   ],
   "source": [
    "for i in range(1,5):\n",
    "    print(i)\n"
   ]
  },
  {
   "cell_type": "code",
   "execution_count": 46,
   "id": "dfd0e8f5",
   "metadata": {},
   "outputs": [
    {
     "name": "stdout",
     "output_type": "stream",
     "text": [
      "5\n",
      "4\n",
      "3\n",
      "2\n",
      "1\n"
     ]
    }
   ],
   "source": [
    "for i in range(5,0,-1):\n",
    "    print(i)"
   ]
  },
  {
   "cell_type": "code",
   "execution_count": 53,
   "id": "2b90ec05",
   "metadata": {},
   "outputs": [
    {
     "name": "stdout",
     "output_type": "stream",
     "text": [
      "M\n",
      "<class 'str'>\n",
      "a\n",
      "<class 'str'>\n",
      "n\n",
      "<class 'str'>\n",
      "i\n",
      "<class 'str'>\n",
      "s\n",
      "<class 'str'>\n",
      "h\n",
      "<class 'str'>\n"
     ]
    }
   ],
   "source": [
    "name = \"Manish\"\n",
    "for i in name:\n",
    "    print(i)\n",
    "    print(type(i))\n"
   ]
  },
  {
   "cell_type": "code",
   "execution_count": 55,
   "id": "583fc6ae",
   "metadata": {},
   "outputs": [
    {
     "data": {
      "text/plain": [
       "'hsinaM'"
      ]
     },
     "execution_count": 55,
     "metadata": {},
     "output_type": "execute_result"
    }
   ],
   "source": [
    "name = \"Manish\"\n",
    "name1 = name[-1::-1]\n",
    "name1"
   ]
  },
  {
   "cell_type": "code",
   "execution_count": 57,
   "id": "88c7ff59",
   "metadata": {},
   "outputs": [
    {
     "name": "stdout",
     "output_type": "stream",
     "text": [
      "Mango\n",
      "Banana\n",
      "Apple\n",
      "Kiwi\n",
      "Orange\n"
     ]
    }
   ],
   "source": [
    "list1 = [\"Mango\",\"Banana\",\"Apple\",\"Kiwi\",\"Orange\"]\n",
    "for i in list1:\n",
    "    print(i)"
   ]
  },
  {
   "cell_type": "code",
   "execution_count": null,
   "id": "ec2cd0b2",
   "metadata": {},
   "outputs": [],
   "source": []
  }
 ],
 "metadata": {
  "kernelspec": {
   "display_name": "Python 3",
   "language": "python",
   "name": "python3"
  },
  "language_info": {
   "codemirror_mode": {
    "name": "ipython",
    "version": 3
   },
   "file_extension": ".py",
   "mimetype": "text/x-python",
   "name": "python",
   "nbconvert_exporter": "python",
   "pygments_lexer": "ipython3",
   "version": "3.8.8"
  }
 },
 "nbformat": 4,
 "nbformat_minor": 5
}
